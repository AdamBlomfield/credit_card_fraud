{
 "cells": [
  {
   "cell_type": "markdown",
   "metadata": {},
   "source": [
    "# Introduction"
   ]
  },
  {
   "cell_type": "markdown",
   "metadata": {},
   "source": [
    "This notebook fits 3 different classification machine learning models onto the various training datasets and compares the results\n",
    "\n",
    "The 3 models used are:\n",
    "\n",
    "    1) Gaussian Naive Bayes\n",
    "\n",
    "    2) Random Forest\n",
    "\n",
    "    3) eXtreme Gradient Boosting (XGBoost)"
   ]
  },
  {
   "cell_type": "markdown",
   "metadata": {},
   "source": [
    "# Import Libraries"
   ]
  },
  {
   "cell_type": "code",
   "execution_count": 1,
   "metadata": {
    "ExecuteTime": {
     "end_time": "2020-08-06T18:45:19.574842Z",
     "start_time": "2020-08-06T18:45:18.518930Z"
    }
   },
   "outputs": [],
   "source": [
    "# Dataframes\n",
    "import pandas as pd\n",
    "import numpy as np\n",
    "\n",
    "# Model Tuning and Cross Validation\n",
    "from imblearn.pipeline import make_pipeline, Pipeline\n",
    "from sklearn.model_selection import GridSearchCV\n",
    "\n",
    "# # Model metrics\n",
    "from sklearn.metrics import accuracy_score, f1_score, recall_score, confusion_matrix, classification_report, roc_curve, auc, precision_recall_curve\n",
    "from sklearn.metrics import plot_confusion_matrix\n",
    "\n",
    "# # Classifiers\n",
    "from sklearn.naive_bayes import GaussianNB\n",
    "from sklearn.ensemble import RandomForestClassifier\n",
    "from xgboost import XGBClassifier"
   ]
  },
  {
   "cell_type": "code",
   "execution_count": 2,
   "metadata": {
    "ExecuteTime": {
     "end_time": "2020-08-06T18:45:56.258561Z",
     "start_time": "2020-08-06T18:45:56.121062Z"
    }
   },
   "outputs": [],
   "source": [
    "# Import functions.py file\n",
    "import sys\n",
    "sys.path.append('../')\n",
    "\n",
    "from functions.functions import *"
   ]
  },
  {
   "cell_type": "code",
   "execution_count": 3,
   "metadata": {
    "ExecuteTime": {
     "end_time": "2020-08-06T18:46:00.254455Z",
     "start_time": "2020-08-06T18:46:00.252167Z"
    }
   },
   "outputs": [],
   "source": [
    "random_seed = 1"
   ]
  },
  {
   "cell_type": "markdown",
   "metadata": {},
   "source": [
    "# Import Datasets"
   ]
  },
  {
   "cell_type": "markdown",
   "metadata": {},
   "source": [
    "## Import Training Datasets"
   ]
  },
  {
   "cell_type": "code",
   "execution_count": 23,
   "metadata": {
    "ExecuteTime": {
     "end_time": "2020-08-06T18:58:56.474488Z",
     "start_time": "2020-08-06T18:58:51.336846Z"
    }
   },
   "outputs": [],
   "source": [
    "# Original Training Dataset\n",
    "X_train = pd.read_csv('../data/processed/x_train.gz', compression='gzip')\n",
    "y_train = pd.read_csv('../data/processed/y_train.gz', compression='gzip')\n",
    "y_train.dropna(inplace=True)\n",
    "\n",
    "# Training Dataset resampled with SMOTE\n",
    "X_train_smote = pd.read_csv('../data/processed/x_train_smote.gz', compression='gzip')\n",
    "y_train_smote = pd.read_csv('../data/processed/y_train_smote.gz', compression='gzip')\n",
    "y_train_smote.dropna(inplace=True)\n",
    "\n",
    "# Training Dataset resampled with Random Undersampling\n",
    "X_train_under = pd.read_csv('../data/processed/x_train_under.gz', compression='gzip')\n",
    "y_train_under = pd.read_csv('../data/processed/y_train_under.gz', compression='gzip')\n",
    "y_train_under.dropna(inplace=True)\n",
    "\n",
    "# Training Dataset resampled with SMOTE and Random Undersampling\n",
    "X_train_smote_under = pd.read_csv('../data/processed/x_train_smote_under.gz', compression='gzip')\n",
    "y_train_smote_under = pd.read_csv('../data/processed/y_train_smote_under.gz', compression='gzip')\n",
    "y_train_smote_under.dropna(inplace=True)"
   ]
  },
  {
   "cell_type": "markdown",
   "metadata": {},
   "source": [
    "## Import Test Datasets"
   ]
  },
  {
   "cell_type": "code",
   "execution_count": 24,
   "metadata": {
    "ExecuteTime": {
     "end_time": "2020-08-06T18:58:57.653007Z",
     "start_time": "2020-08-06T18:58:56.648254Z"
    }
   },
   "outputs": [],
   "source": [
    "X_test = pd.read_csv('../data/processed/x_test.gz', compression='gzip')\n",
    "y_test = pd.read_csv('../data/processed/y_test.gz', compression='gzip')\n",
    "y_test.dropna(inplace=True)"
   ]
  },
  {
   "cell_type": "markdown",
   "metadata": {},
   "source": [
    "# Modelling"
   ]
  },
  {
   "cell_type": "markdown",
   "metadata": {},
   "source": [
    "## Dataframe to keep track of Scores"
   ]
  },
  {
   "cell_type": "code",
   "execution_count": 25,
   "metadata": {
    "ExecuteTime": {
     "end_time": "2020-08-06T18:58:57.825204Z",
     "start_time": "2020-08-06T18:58:57.818254Z"
    }
   },
   "outputs": [],
   "source": [
    "# Build scores dataframes for comparison\n",
    "scores_columns = ['Original', 'SMOTE', 'Undersampled', 'SMOTE & Undersampled']\n",
    "# F1 scores\n",
    "f1_scores_df = pd.DataFrame(columns=scores_columns)\n",
    "# Recall scores\n",
    "recall_scores_df = pd.DataFrame(columns=scores_columns)"
   ]
  },
  {
   "cell_type": "markdown",
   "metadata": {},
   "source": [
    "## GridSearch"
   ]
  },
  {
   "cell_type": "markdown",
   "metadata": {
    "ExecuteTime": {
     "end_time": "2020-08-06T18:54:53.172839Z",
     "start_time": "2020-08-06T18:54:53.167723Z"
    }
   },
   "source": [
    "* The function we use makes use of sklearn's GridSearchCV function.  \n",
    "* Grid Search is an exhaustive search using the parameter values that we provide, in order to optimize our model\n",
    "    * Not every possible parameter combination is tested, so we can not guarantee a globally optimal combination of parameter values.\n",
    "    * The model will ony be as good as the possible combinations of parameters that we provide.\n",
    "    * the more parameter combinations we input, the longer the model will take to run"
   ]
  },
  {
   "cell_type": "markdown",
   "metadata": {},
   "source": [
    "## Baseline Model & Model Metrics"
   ]
  },
  {
   "cell_type": "markdown",
   "metadata": {},
   "source": [
    "Due to the high imbalance in our dataset, it is very easy to obtain a high accuracy by simply classifying every observation as the majority class (non-fraud)."
   ]
  },
  {
   "cell_type": "code",
   "execution_count": 27,
   "metadata": {
    "ExecuteTime": {
     "end_time": "2020-08-06T18:59:01.553412Z",
     "start_time": "2020-08-06T18:59:01.540542Z"
    }
   },
   "outputs": [
    {
     "name": "stdout",
     "output_type": "stream",
     "text": [
      "Baseline Model Accuracy: 0.99739\n"
     ]
    }
   ],
   "source": [
    "# Baseline model that all predictions are majority class\n",
    "y_pred_base = [0] * len(y_test)\n",
    "\n",
    "# Calculate Accuracy of Baseline Model\n",
    "acc_base = round(accuracy_score(y_test, y_pred_base), 5)\n",
    "print('Baseline Model Accuracy: {}'.format(acc_base))"
   ]
  },
  {
   "cell_type": "markdown",
   "metadata": {},
   "source": [
    "A model with this level of accuracy will initially seem highly successful, but once we realise it has not caught a single fraudulent transaction, we then realise that **we need a different performance metric to accuracy**.  \n",
    "   * 99.83% Accuracy can still be used as a starting point, or baseline, from which more sophisticated models can improve upon.\n",
    "\n",
    "Alternative metrics to Accuracy include:  \n",
    "\n",
    "### Precision \n",
    "* Out of all the frauds our model predicted, what proportion were actually frauds?\n",
    "\n",
    "\\begin{equation*}\n",
    "\\frac{True Positives}{True Positives + False Positives}\n",
    "\\end{equation*}\n",
    "\n",
    "### Recall\n",
    "* Out of all the actual frauds, what proportion did our model detect?\n",
    "\n",
    "\\begin{equation*}\n",
    "\\frac{True Positives}{True Positives + False Negatives}\n",
    "\\end{equation*}\n",
    "\n",
    "### F1 Score\n",
    "* Considers both Precision and Recall.  Can be interpreted as a weighted average of the two (harmonic mean)\n",
    "\n",
    "\\begin{equation*}\n",
    "2*\\frac{Precision * Recall}{Precision + Recall}\n",
    "\\end{equation*}\n",
    "\n",
    "\n",
    "**To avoid confusion in this project, True Positive refers to predicting fraud and it is a fraud.**\n",
    "\n",
    "When seeking to classify fraudulent transactions, the **cost for misclassifying frauds** (False Negative) **is greater than misclassifying a legitimate transaction** (False Positive).\n",
    "   * An undetected fraud could potentially cost the customer and bank a lot of money.\n",
    "   * A legitimate transaction, flagged as fraud, may cause inconvenience for the customer and requires a team within the bank to authorize the transaction.\n",
    "   \n",
    "For our model we will **focus on the F1 Score** and place more emphasis on a high **Recall** rather than Precision.\n",
    "* The F1 Score will be the most useful metric as it is includes Recall and Precision.\n",
    "* Focusing on Recall as well, reflects the fact that classifying frauds (class 1) is more important than classifying legitimate transactions (class 0)."
   ]
  },
  {
   "cell_type": "code",
   "execution_count": 30,
   "metadata": {
    "ExecuteTime": {
     "end_time": "2020-08-06T18:59:35.370283Z",
     "start_time": "2020-08-06T18:59:35.172114Z"
    }
   },
   "outputs": [
    {
     "name": "stdout",
     "output_type": "stream",
     "text": [
      "Confusion Matrix: \n",
      "TN: 25255 FP: 0 FN: 66 TP: 0\n"
     ]
    },
    {
     "data": {
      "image/png": "[encoded data removed]",
      "text/plain": [
       "<Figure size 432x288 with 1 Axes>"
      ]
     },
     "metadata": {
      "needs_background": "light"
     },
     "output_type": "display_data"
    }
   ],
   "source": [
    "# Confusion matrix for baseline model\n",
    "custom_confusion_matrix(y_test, y_pred_base, 'Baseline', 'not resampled')"
   ]
  },
  {
   "cell_type": "code",
   "execution_count": 31,
   "metadata": {
    "ExecuteTime": {
     "end_time": "2020-08-06T19:00:21.831646Z",
     "start_time": "2020-08-06T19:00:21.788566Z"
    }
   },
   "outputs": [
    {
     "name": "stdout",
     "output_type": "stream",
     "text": [
      "Baseline Model F1 Score: 0.0\n",
      "Baseline Mode Recall Score: 0.0\n"
     ]
    }
   ],
   "source": [
    "# Calculate F1 Score of Baseline Model\n",
    "f1_base = round(f1_score(y_test, y_pred_base), 8)\n",
    "print('Baseline Model F1 Score: {}'.format(f1_base))\n",
    "\n",
    "# Calculate Recall of Baseline Model\n",
    "recall_base = round(recall_score(y_test, y_pred_base), 8)\n",
    "print('Baseline Mode Recall Score: {}'.format(recall_base))"
   ]
  },
  {
   "cell_type": "markdown",
   "metadata": {},
   "source": [
    "Baseline Model's F1 Score and Recall are 0 as the baseline model has a True Positive of 0."
   ]
  },
  {
   "cell_type": "code",
   "execution_count": 32,
   "metadata": {
    "ExecuteTime": {
     "end_time": "2020-08-06T19:00:49.878051Z",
     "start_time": "2020-08-06T19:00:49.871756Z"
    }
   },
   "outputs": [],
   "source": [
    "# Update F1 Scores table\n",
    "f1_scores_df.loc['Baseline'] = [f1_base] * 4\n",
    "\n",
    "# Update Recall Scores table\n",
    "recall_scores_df.loc['Baseline'] = [recall_base] * 4"
   ]
  },
  {
   "cell_type": "markdown",
   "metadata": {},
   "source": [
    "## Gaussian Naive Bayes (GNB)"
   ]
  },
  {
   "cell_type": "markdown",
   "metadata": {},
   "source": [
    "This classification method is based on Bayes' Theorem and although it is one of the earliest classification techniques, it is still extremey powerful.  \n",
    "\n",
    "The classifier is essentially asking, \"given the Amount = X, the V1 = Y, V2 = Z etc...what is the most likely Class for this observation?\""
   ]
  },
  {
   "cell_type": "code",
   "execution_count": 33,
   "metadata": {
    "ExecuteTime": {
     "end_time": "2020-08-06T19:01:36.900896Z",
     "start_time": "2020-08-06T19:01:36.898162Z"
    }
   },
   "outputs": [],
   "source": [
    "# Instantiate Gaussian Naive Bayes Classifer\n",
    "clf_gnb = GaussianNB()\n",
    "\n",
    "# Build Parameter Grid\n",
    "param_grid_gnb = {}"
   ]
  },
  {
   "cell_type": "markdown",
   "metadata": {
    "ExecuteTime": {
     "end_time": "2020-08-06T19:02:08.967319Z",
     "start_time": "2020-08-06T19:02:08.964910Z"
    }
   },
   "source": [
    "### Gaussian Naive Bayes - Original Dataset"
   ]
  },
  {
   "cell_type": "code",
   "execution_count": 34,
   "metadata": {
    "ExecuteTime": {
     "end_time": "2020-08-06T19:02:00.204256Z",
     "start_time": "2020-08-06T19:02:00.179784Z"
    }
   },
   "outputs": [
    {
     "ename": "ValueError",
     "evalue": "Found input variables with inconsistent numbers of samples: [199364, 139720]",
     "output_type": "error",
     "traceback": [
      "\u001b[0;31m---------------------------------------------------------------------------\u001b[0m",
      "\u001b[0;31mValueError\u001b[0m                                Traceback (most recent call last)",
      "\u001b[0;32m<ipython-input-34-482852041aeb>\u001b[0m in \u001b[0;36m<module>\u001b[0;34m\u001b[0m\n\u001b[1;32m      1\u001b[0m \u001b[0;31m# Gaussian Bayes with SMOTE training data\u001b[0m\u001b[0;34m\u001b[0m\u001b[0;34m\u001b[0m\u001b[0;34m\u001b[0m\u001b[0m\n\u001b[0;32m----> 2\u001b[0;31m \u001b[0mf1_gnb_original\u001b[0m\u001b[0;34m,\u001b[0m \u001b[0mrecall_gnb_original\u001b[0m\u001b[0;34m,\u001b[0m \u001b[0my_pred_gnb_original\u001b[0m\u001b[0;34m,\u001b[0m \u001b[0my_pred_proba_gnb_original\u001b[0m \u001b[0;34m=\u001b[0m \u001b[0mbest_model_score\u001b[0m\u001b[0;34m(\u001b[0m\u001b[0mclf_gnb\u001b[0m\u001b[0;34m,\u001b[0m \u001b[0mparam_grid_gnb\u001b[0m\u001b[0;34m,\u001b[0m \u001b[0mX_train\u001b[0m\u001b[0;34m,\u001b[0m \u001b[0my_train\u001b[0m\u001b[0;34m,\u001b[0m \u001b[0mX_test\u001b[0m\u001b[0;34m,\u001b[0m \u001b[0my_test\u001b[0m\u001b[0;34m)\u001b[0m\u001b[0;34m\u001b[0m\u001b[0;34m\u001b[0m\u001b[0m\n\u001b[0m",
      "\u001b[0;32m~/Documents/coding/projects/github_repos/credit_card_fraud/functions/functions.py\u001b[0m in \u001b[0;36mbest_model_score\u001b[0;34m(clf, param_grid, X_train, y_train, X_test, y_test, scoring, cv, n_jobs)\u001b[0m\n\u001b[1;32m     56\u001b[0m \u001b[0;34m\u001b[0m\u001b[0m\n\u001b[1;32m     57\u001b[0m     \u001b[0;31m# Fit our GridSearch Object and pass  in the training data\u001b[0m\u001b[0;34m\u001b[0m\u001b[0;34m\u001b[0m\u001b[0;34m\u001b[0m\u001b[0m\n\u001b[0;32m---> 58\u001b[0;31m     \u001b[0mgrid_clf\u001b[0m\u001b[0;34m.\u001b[0m\u001b[0mfit\u001b[0m\u001b[0;34m(\u001b[0m\u001b[0mX_train\u001b[0m\u001b[0;34m,\u001b[0m \u001b[0my_train\u001b[0m\u001b[0;34m)\u001b[0m\u001b[0;34m\u001b[0m\u001b[0;34m\u001b[0m\u001b[0m\n\u001b[0m\u001b[1;32m     59\u001b[0m \u001b[0;34m\u001b[0m\u001b[0m\n\u001b[1;32m     60\u001b[0m     \u001b[0;31m# Predict on test data\u001b[0m\u001b[0;34m\u001b[0m\u001b[0;34m\u001b[0m\u001b[0;34m\u001b[0m\u001b[0m\n",
      "\u001b[0;32m~/opt/anaconda3/lib/python3.7/site-packages/sklearn/utils/validation.py\u001b[0m in \u001b[0;36minner_f\u001b[0;34m(*args, **kwargs)\u001b[0m\n\u001b[1;32m     71\u001b[0m                           FutureWarning)\n\u001b[1;32m     72\u001b[0m         \u001b[0mkwargs\u001b[0m\u001b[0;34m.\u001b[0m\u001b[0mupdate\u001b[0m\u001b[0;34m(\u001b[0m\u001b[0;34m{\u001b[0m\u001b[0mk\u001b[0m\u001b[0;34m:\u001b[0m \u001b[0marg\u001b[0m \u001b[0;32mfor\u001b[0m \u001b[0mk\u001b[0m\u001b[0;34m,\u001b[0m \u001b[0marg\u001b[0m \u001b[0;32min\u001b[0m \u001b[0mzip\u001b[0m\u001b[0;34m(\u001b[0m\u001b[0msig\u001b[0m\u001b[0;34m.\u001b[0m\u001b[0mparameters\u001b[0m\u001b[0;34m,\u001b[0m \u001b[0margs\u001b[0m\u001b[0;34m)\u001b[0m\u001b[0;34m}\u001b[0m\u001b[0;34m)\u001b[0m\u001b[0;34m\u001b[0m\u001b[0;34m\u001b[0m\u001b[0m\n\u001b[0;32m---> 73\u001b[0;31m         \u001b[0;32mreturn\u001b[0m \u001b[0mf\u001b[0m\u001b[0;34m(\u001b[0m\u001b[0;34m**\u001b[0m\u001b[0mkwargs\u001b[0m\u001b[0;34m)\u001b[0m\u001b[0;34m\u001b[0m\u001b[0;34m\u001b[0m\u001b[0m\n\u001b[0m\u001b[1;32m     74\u001b[0m     \u001b[0;32mreturn\u001b[0m \u001b[0minner_f\u001b[0m\u001b[0;34m\u001b[0m\u001b[0;34m\u001b[0m\u001b[0m\n\u001b[1;32m     75\u001b[0m \u001b[0;34m\u001b[0m\u001b[0m\n",
      "\u001b[0;32m~/opt/anaconda3/lib/python3.7/site-packages/sklearn/model_selection/_search.py\u001b[0m in \u001b[0;36mfit\u001b[0;34m(self, X, y, groups, **fit_params)\u001b[0m\n\u001b[1;32m    674\u001b[0m             \u001b[0mrefit_metric\u001b[0m \u001b[0;34m=\u001b[0m \u001b[0;34m'score'\u001b[0m\u001b[0;34m\u001b[0m\u001b[0;34m\u001b[0m\u001b[0m\n\u001b[1;32m    675\u001b[0m \u001b[0;34m\u001b[0m\u001b[0m\n\u001b[0;32m--> 676\u001b[0;31m         \u001b[0mX\u001b[0m\u001b[0;34m,\u001b[0m \u001b[0my\u001b[0m\u001b[0;34m,\u001b[0m \u001b[0mgroups\u001b[0m \u001b[0;34m=\u001b[0m \u001b[0mindexable\u001b[0m\u001b[0;34m(\u001b[0m\u001b[0mX\u001b[0m\u001b[0;34m,\u001b[0m \u001b[0my\u001b[0m\u001b[0;34m,\u001b[0m \u001b[0mgroups\u001b[0m\u001b[0;34m)\u001b[0m\u001b[0;34m\u001b[0m\u001b[0;34m\u001b[0m\u001b[0m\n\u001b[0m\u001b[1;32m    677\u001b[0m         \u001b[0mfit_params\u001b[0m \u001b[0;34m=\u001b[0m \u001b[0m_check_fit_params\u001b[0m\u001b[0;34m(\u001b[0m\u001b[0mX\u001b[0m\u001b[0;34m,\u001b[0m \u001b[0mfit_params\u001b[0m\u001b[0;34m)\u001b[0m\u001b[0;34m\u001b[0m\u001b[0;34m\u001b[0m\u001b[0m\n\u001b[1;32m    678\u001b[0m \u001b[0;34m\u001b[0m\u001b[0m\n",
      "\u001b[0;32m~/opt/anaconda3/lib/python3.7/site-packages/sklearn/utils/validation.py\u001b[0m in \u001b[0;36mindexable\u001b[0;34m(*iterables)\u001b[0m\n\u001b[1;32m    291\u001b[0m     \"\"\"\n\u001b[1;32m    292\u001b[0m     \u001b[0mresult\u001b[0m \u001b[0;34m=\u001b[0m \u001b[0;34m[\u001b[0m\u001b[0m_make_indexable\u001b[0m\u001b[0;34m(\u001b[0m\u001b[0mX\u001b[0m\u001b[0;34m)\u001b[0m \u001b[0;32mfor\u001b[0m \u001b[0mX\u001b[0m \u001b[0;32min\u001b[0m \u001b[0miterables\u001b[0m\u001b[0;34m]\u001b[0m\u001b[0;34m\u001b[0m\u001b[0;34m\u001b[0m\u001b[0m\n\u001b[0;32m--> 293\u001b[0;31m     \u001b[0mcheck_consistent_length\u001b[0m\u001b[0;34m(\u001b[0m\u001b[0;34m*\u001b[0m\u001b[0mresult\u001b[0m\u001b[0;34m)\u001b[0m\u001b[0;34m\u001b[0m\u001b[0;34m\u001b[0m\u001b[0m\n\u001b[0m\u001b[1;32m    294\u001b[0m     \u001b[0;32mreturn\u001b[0m \u001b[0mresult\u001b[0m\u001b[0;34m\u001b[0m\u001b[0;34m\u001b[0m\u001b[0m\n\u001b[1;32m    295\u001b[0m \u001b[0;34m\u001b[0m\u001b[0m\n",
      "\u001b[0;32m~/opt/anaconda3/lib/python3.7/site-packages/sklearn/utils/validation.py\u001b[0m in \u001b[0;36mcheck_consistent_length\u001b[0;34m(*arrays)\u001b[0m\n\u001b[1;32m    255\u001b[0m     \u001b[0;32mif\u001b[0m \u001b[0mlen\u001b[0m\u001b[0;34m(\u001b[0m\u001b[0muniques\u001b[0m\u001b[0;34m)\u001b[0m \u001b[0;34m>\u001b[0m \u001b[0;36m1\u001b[0m\u001b[0;34m:\u001b[0m\u001b[0;34m\u001b[0m\u001b[0;34m\u001b[0m\u001b[0m\n\u001b[1;32m    256\u001b[0m         raise ValueError(\"Found input variables with inconsistent numbers of\"\n\u001b[0;32m--> 257\u001b[0;31m                          \" samples: %r\" % [int(l) for l in lengths])\n\u001b[0m\u001b[1;32m    258\u001b[0m \u001b[0;34m\u001b[0m\u001b[0m\n\u001b[1;32m    259\u001b[0m \u001b[0;34m\u001b[0m\u001b[0m\n",
      "\u001b[0;31mValueError\u001b[0m: Found input variables with inconsistent numbers of samples: [199364, 139720]"
     ]
    }
   ],
   "source": [
    "# Gaussian Bayes with SMOTE training data\n",
    "f1_gnb_original, recall_gnb_original, y_pred_gnb_original, y_pred_proba_gnb_original = best_model_score(clf_gnb, param_grid_gnb, X_train, y_train, X_test, y_test)"
   ]
  },
  {
   "cell_type": "code",
   "execution_count": null,
   "metadata": {},
   "outputs": [],
   "source": []
  }
 ],
 "metadata": {
  "kernelspec": {
   "display_name": "Python 3",
   "language": "python",
   "name": "python3"
  },
  "language_info": {
   "codemirror_mode": {
    "name": "ipython",
    "version": 3
   },
   "file_extension": ".py",
   "mimetype": "text/x-python",
   "name": "python",
   "nbconvert_exporter": "python",
   "pygments_lexer": "ipython3",
   "version": "3.7.4"
  },
  "toc": {
   "base_numbering": 1,
   "nav_menu": {},
   "number_sections": true,
   "sideBar": true,
   "skip_h1_title": false,
   "title_cell": "Table of Contents",
   "title_sidebar": "Contents",
   "toc_cell": false,
   "toc_position": {},
   "toc_section_display": true,
   "toc_window_display": false
  },
  "varInspector": {
   "cols": {
    "lenName": 16,
    "lenType": 16,
    "lenVar": 40
   },
   "kernels_config": {
    "python": {
     "delete_cmd_postfix": "",
     "delete_cmd_prefix": "del ",
     "library": "var_list.py",
     "varRefreshCmd": "print(var_dic_list())"
    },
    "r": {
     "delete_cmd_postfix": ") ",
     "delete_cmd_prefix": "rm(",
     "library": "var_list.r",
     "varRefreshCmd": "cat(var_dic_list()) "
    }
   },
   "types_to_exclude": [
    "module",
    "function",
    "builtin_function_or_method",
    "instance",
    "_Feature"
   ],
   "window_display": false
  }
 },
 "nbformat": 4,
 "nbformat_minor": 2
}
