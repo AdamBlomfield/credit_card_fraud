{
 "cells": [
  {
   "cell_type": "markdown",
   "metadata": {},
   "source": [
    "To Do:\n",
    "* Confusion matrix diagram for best model\n",
    "* Add explanation for why to use SMOTE, options of over and/or under sampling.\n",
    "* Add in other models to this notebook"
   ]
  },
  {
   "cell_type": "markdown",
   "metadata": {},
   "source": [
    "# Library Install"
   ]
  },
  {
   "cell_type": "markdown",
   "metadata": {},
   "source": [
    "We need to install a previous version of matplotlib, otherwise seaborn heatmaps/confusion matrix will be broken"
   ]
  },
  {
   "cell_type": "code",
   "execution_count": 18,
   "metadata": {
    "ExecuteTime": {
     "end_time": "2020-07-30T20:28:20.604250Z",
     "start_time": "2020-07-30T20:28:19.243112Z"
    },
    "collapsed": true
   },
   "outputs": [
    {
     "name": "stdout",
     "output_type": "stream",
     "text": [
      "Requirement already satisfied: matplotlib==3.1.0 in /Users/adam/opt/anaconda3/lib/python3.7/site-packages (3.1.0)\n",
      "Requirement already satisfied: kiwisolver>=1.0.1 in /Users/adam/opt/anaconda3/lib/python3.7/site-packages (from matplotlib==3.1.0) (1.1.0)\n",
      "Requirement already satisfied: pyparsing!=2.0.4,!=2.1.2,!=2.1.6,>=2.0.1 in /Users/adam/opt/anaconda3/lib/python3.7/site-packages (from matplotlib==3.1.0) (2.4.2)\n",
      "Requirement already satisfied: numpy>=1.11 in /Users/adam/opt/anaconda3/lib/python3.7/site-packages (from matplotlib==3.1.0) (1.17.2)\n",
      "Requirement already satisfied: cycler>=0.10 in /Users/adam/opt/anaconda3/lib/python3.7/site-packages (from matplotlib==3.1.0) (0.10.0)\n",
      "Requirement already satisfied: python-dateutil>=2.1 in /Users/adam/opt/anaconda3/lib/python3.7/site-packages (from matplotlib==3.1.0) (2.8.0)\n",
      "Requirement already satisfied: setuptools in /Users/adam/opt/anaconda3/lib/python3.7/site-packages (from kiwisolver>=1.0.1->matplotlib==3.1.0) (41.4.0)\n",
      "Requirement already satisfied: six in /Users/adam/opt/anaconda3/lib/python3.7/site-packages (from cycler>=0.10->matplotlib==3.1.0) (1.12.0)\n",
      "Note: you may need to restart the kernel to use updated packages.\n"
     ]
    }
   ],
   "source": [
    "pip install matplotlib==3.1.0"
   ]
  },
  {
   "cell_type": "code",
   "execution_count": null,
   "metadata": {},
   "outputs": [],
   "source": [
    "pip install xgboost"
   ]
  },
  {
   "cell_type": "markdown",
   "metadata": {},
   "source": [
    "# Functions to move"
   ]
  },
  {
   "cell_type": "code",
   "execution_count": 176,
   "metadata": {
    "ExecuteTime": {
     "end_time": "2020-07-31T20:09:53.131136Z",
     "start_time": "2020-07-31T20:09:53.123013Z"
    }
   },
   "outputs": [],
   "source": [
    "def best_model_score(clf, param_grid, X_train, y_train, X_test, y_test, scoring='f1', cv=3, n_jobs=-1):\n",
    "    '''Conducts Gridsearch to return the best test data accuracy and f1 score for a classifier as well as y_pred'''\n",
    "    \n",
    "    # Create GridSearch Object\n",
    "    grid_clf = GridSearchCV(clf, \n",
    "                            param_grid, \n",
    "                            scoring='f1', \n",
    "                            cv=cv\n",
    "                           )\n",
    "\n",
    "    # Fit our GridSearch Object and pass  in the training data\n",
    "    grid_clf.fit(X_train, y_train)\n",
    "\n",
    "    # Predict on test data\n",
    "    y_pred = grid_clf.predict(X_test)\n",
    "    y_pred_proba = grid_clf.predict_proba(X_test)\n",
    "    \n",
    "    # Best F1 Score\n",
    "    best_f1 = f1_score(y_test, y_pred)\n",
    "    print('Best Test Data F1 score: {}'.format(round(best_f1, 5)))\n",
    "    print('\\nOptimal parameters:')\n",
    "    best_parameters = grid_clf.best_estimator_.get_params()\n",
    "    for param_name in sorted(param_grid.keys()):\n",
    "        print('\\t{}: {}'.format(param_name, best_parameters[param_name]))    \n",
    "    \n",
    "#     # Classification report\n",
    "#     print('\\n', classification_report(y_test, y_pred))\n",
    "    \n",
    "    return best_f1, y_pred, y_pred_proba"
   ]
  },
  {
   "cell_type": "code",
   "execution_count": 172,
   "metadata": {
    "ExecuteTime": {
     "end_time": "2020-07-31T20:06:15.629831Z",
     "start_time": "2020-07-31T20:06:15.623429Z"
    }
   },
   "outputs": [],
   "source": [
    "def combination_for_best_f1_score(df):\n",
    "    ''' Return the highest f1 score and print the associated combination of resampling and classifier'''\n",
    "    index_positions = []\n",
    "    max_f1 = df.max().max()\n",
    "    \n",
    "    # Find where the max F1 score is (NB could be more than one max value)\n",
    "    df_bool_max_f1 = df.isin([max_f1])\n",
    "    # Find index/classifier that contains the max F1 score\n",
    "    best_classifier_row = df_bool_max_f1.any()\n",
    "    best_classifier_name = list(best_classifier_row[best_classifier_row == True].index)\n",
    "    # Iterate over list of columns and fetch the rows indexes where value exists\n",
    "    for col in best_classifier_name:\n",
    "        rows = list(df_bool_max_f1[col][df_bool_max_f1[col] == True].index)\n",
    "        for row in rows:\n",
    "            index_positions.append((row, col))\n",
    "    \n",
    "    print('The highest F1 score was {}'.format(round(max_f1, 4)))\n",
    "    best_classifier = index_positions[0][0]\n",
    "    best_resampling = index_positions[0][1]\n",
    "    print('This was achieved by resampling with {} and using the {} classifier'.format(best_resampling, best_classifier))\n",
    "        \n",
    "    return max_f1"
   ]
  },
  {
   "cell_type": "markdown",
   "metadata": {},
   "source": [
    "# Library Imports"
   ]
  },
  {
   "cell_type": "code",
   "execution_count": 74,
   "metadata": {
    "ExecuteTime": {
     "end_time": "2020-07-30T20:55:23.900628Z",
     "start_time": "2020-07-30T20:55:23.891689Z"
    }
   },
   "outputs": [],
   "source": [
    "# Dataframes\n",
    "import pandas as pd\n",
    "import numpy as np\n",
    "\n",
    "# Graphing\n",
    "import matplotlib.pyplot as plt\n",
    "%matplotlib inline\n",
    "import seaborn as sns\n",
    "\n",
    "# Data Preparation\n",
    "    # Train:Test\n",
    "from sklearn.model_selection import train_test_split\n",
    "    # Scaling\n",
    "from sklearn.preprocessing import RobustScaler\n",
    "\n",
    "# Resampling\n",
    "from imblearn.over_sampling import SMOTE\n",
    "from imblearn.under_sampling import RandomUnderSampler\n",
    "from collections import Counter\n",
    "\n",
    "# Model Tuning and Cross Validation\n",
    "from imblearn.pipeline import make_pipeline, Pipeline\n",
    "from sklearn.model_selection import GridSearchCV\n",
    "\n",
    "# # Model metrics\n",
    "from sklearn.metrics import accuracy_score, f1_score, confusion_matrix, classification_report, roc_curve, auc, precision_recall_curve\n",
    "from sklearn.metrics import plot_confusion_matrix\n",
    "\n",
    "# # Classifiers\n",
    "from sklearn.naive_bayes import GaussianNB\n",
    "from sklearn.ensemble import RandomForestClassifier\n",
    "from xgboost import XGBClassifier\n",
    "\n"
   ]
  },
  {
   "cell_type": "code",
   "execution_count": 76,
   "metadata": {
    "ExecuteTime": {
     "end_time": "2020-07-30T20:55:42.050751Z",
     "start_time": "2020-07-30T20:55:42.048336Z"
    }
   },
   "outputs": [],
   "source": [
    "random_seed = 1"
   ]
  },
  {
   "cell_type": "markdown",
   "metadata": {},
   "source": [
    "# Import Cleaned Data "
   ]
  },
  {
   "cell_type": "code",
   "execution_count": 245,
   "metadata": {
    "ExecuteTime": {
     "end_time": "2020-07-31T23:28:47.271325Z",
     "start_time": "2020-07-31T23:28:44.382959Z"
    },
    "scrolled": true
   },
   "outputs": [
    {
     "data": {
      "text/html": [
       "<div>\n",
       "<style scoped>\n",
       "    .dataframe tbody tr th:only-of-type {\n",
       "        vertical-align: middle;\n",
       "    }\n",
       "\n",
       "    .dataframe tbody tr th {\n",
       "        vertical-align: top;\n",
       "    }\n",
       "\n",
       "    .dataframe thead th {\n",
       "        text-align: right;\n",
       "    }\n",
       "</style>\n",
       "<table border=\"1\" class=\"dataframe\">\n",
       "  <thead>\n",
       "    <tr style=\"text-align: right;\">\n",
       "      <th></th>\n",
       "      <th>Time</th>\n",
       "      <th>V1</th>\n",
       "      <th>V2</th>\n",
       "      <th>V3</th>\n",
       "      <th>V4</th>\n",
       "      <th>V5</th>\n",
       "      <th>V6</th>\n",
       "      <th>V7</th>\n",
       "      <th>V8</th>\n",
       "      <th>V9</th>\n",
       "      <th>...</th>\n",
       "      <th>V21</th>\n",
       "      <th>V22</th>\n",
       "      <th>V23</th>\n",
       "      <th>V24</th>\n",
       "      <th>V25</th>\n",
       "      <th>V26</th>\n",
       "      <th>V27</th>\n",
       "      <th>V28</th>\n",
       "      <th>Amount</th>\n",
       "      <th>Class</th>\n",
       "    </tr>\n",
       "  </thead>\n",
       "  <tbody>\n",
       "    <tr>\n",
       "      <td>0</td>\n",
       "      <td>0.0</td>\n",
       "      <td>-1.359807</td>\n",
       "      <td>-0.072781</td>\n",
       "      <td>2.536347</td>\n",
       "      <td>1.378155</td>\n",
       "      <td>-0.338321</td>\n",
       "      <td>0.462388</td>\n",
       "      <td>0.239599</td>\n",
       "      <td>0.098698</td>\n",
       "      <td>0.363787</td>\n",
       "      <td>...</td>\n",
       "      <td>-0.018307</td>\n",
       "      <td>0.277838</td>\n",
       "      <td>-0.110474</td>\n",
       "      <td>0.066928</td>\n",
       "      <td>0.128539</td>\n",
       "      <td>-0.189115</td>\n",
       "      <td>0.133558</td>\n",
       "      <td>-0.021053</td>\n",
       "      <td>149.62</td>\n",
       "      <td>0</td>\n",
       "    </tr>\n",
       "    <tr>\n",
       "      <td>1</td>\n",
       "      <td>0.0</td>\n",
       "      <td>1.191857</td>\n",
       "      <td>0.266151</td>\n",
       "      <td>0.166480</td>\n",
       "      <td>0.448154</td>\n",
       "      <td>0.060018</td>\n",
       "      <td>-0.082361</td>\n",
       "      <td>-0.078803</td>\n",
       "      <td>0.085102</td>\n",
       "      <td>-0.255425</td>\n",
       "      <td>...</td>\n",
       "      <td>-0.225775</td>\n",
       "      <td>-0.638672</td>\n",
       "      <td>0.101288</td>\n",
       "      <td>-0.339846</td>\n",
       "      <td>0.167170</td>\n",
       "      <td>0.125895</td>\n",
       "      <td>-0.008983</td>\n",
       "      <td>0.014724</td>\n",
       "      <td>2.69</td>\n",
       "      <td>0</td>\n",
       "    </tr>\n",
       "    <tr>\n",
       "      <td>2</td>\n",
       "      <td>1.0</td>\n",
       "      <td>-1.358354</td>\n",
       "      <td>-1.340163</td>\n",
       "      <td>1.773209</td>\n",
       "      <td>0.379780</td>\n",
       "      <td>-0.503198</td>\n",
       "      <td>1.800499</td>\n",
       "      <td>0.791461</td>\n",
       "      <td>0.247676</td>\n",
       "      <td>-1.514654</td>\n",
       "      <td>...</td>\n",
       "      <td>0.247998</td>\n",
       "      <td>0.771679</td>\n",
       "      <td>0.909412</td>\n",
       "      <td>-0.689281</td>\n",
       "      <td>-0.327642</td>\n",
       "      <td>-0.139097</td>\n",
       "      <td>-0.055353</td>\n",
       "      <td>-0.059752</td>\n",
       "      <td>378.66</td>\n",
       "      <td>0</td>\n",
       "    </tr>\n",
       "  </tbody>\n",
       "</table>\n",
       "<p>3 rows × 31 columns</p>\n",
       "</div>"
      ],
      "text/plain": [
       "   Time        V1        V2        V3        V4        V5        V6        V7  \\\n",
       "0   0.0 -1.359807 -0.072781  2.536347  1.378155 -0.338321  0.462388  0.239599   \n",
       "1   0.0  1.191857  0.266151  0.166480  0.448154  0.060018 -0.082361 -0.078803   \n",
       "2   1.0 -1.358354 -1.340163  1.773209  0.379780 -0.503198  1.800499  0.791461   \n",
       "\n",
       "         V8        V9  ...       V21       V22       V23       V24       V25  \\\n",
       "0  0.098698  0.363787  ... -0.018307  0.277838 -0.110474  0.066928  0.128539   \n",
       "1  0.085102 -0.255425  ... -0.225775 -0.638672  0.101288 -0.339846  0.167170   \n",
       "2  0.247676 -1.514654  ...  0.247998  0.771679  0.909412 -0.689281 -0.327642   \n",
       "\n",
       "        V26       V27       V28  Amount  Class  \n",
       "0 -0.189115  0.133558 -0.021053  149.62      0  \n",
       "1  0.125895 -0.008983  0.014724    2.69      0  \n",
       "2 -0.139097 -0.055353 -0.059752  378.66      0  \n",
       "\n",
       "[3 rows x 31 columns]"
      ]
     },
     "execution_count": 245,
     "metadata": {},
     "output_type": "execute_result"
    }
   ],
   "source": [
    "df = pd.read_csv('../data/processed/cleaned_dataframe.gz', compression='gzip')\n",
    "df.head(3)"
   ]
  },
  {
   "cell_type": "markdown",
   "metadata": {},
   "source": [
    "# Train:Test Split"
   ]
  },
  {
   "cell_type": "code",
   "execution_count": 246,
   "metadata": {
    "ExecuteTime": {
     "end_time": "2020-07-31T23:28:47.956574Z",
     "start_time": "2020-07-31T23:28:47.763084Z"
    }
   },
   "outputs": [
    {
     "name": "stdout",
     "output_type": "stream",
     "text": [
      "No. of samples in each training set:\t199364\n",
      "No. of samples in each test set:\t85443\n"
     ]
    }
   ],
   "source": [
    "X = df.drop(['Class'], axis=1)\n",
    "y = df['Class']\n",
    "\n",
    "X_train, X_test, y_train, y_test = train_test_split(X, \n",
    "                                                    y, \n",
    "                                                    test_size=0.3, \n",
    "                                                    stratify=y, \n",
    "                                                    random_state=random_seed)\n",
    "\n",
    "print(\"No. of samples in each training set:\\t{}\".format(X_train.shape[0]))\n",
    "print(\"No. of samples in each test set:\\t{}\".format(X_test.shape[0]))"
   ]
  },
  {
   "cell_type": "markdown",
   "metadata": {},
   "source": [
    "* We choose to stratify as we want to keep the distribution of classes the same in the training set as the test set. "
   ]
  },
  {
   "cell_type": "markdown",
   "metadata": {},
   "source": [
    "# Scaling"
   ]
  },
  {
   "cell_type": "markdown",
   "metadata": {},
   "source": [
    "* Scaling the data will improve the predictive performance of some machine learning models.  \n",
    "    * Without scaling, gradient-based estimating models (such as linear or logistic regression) will take longer to converge or may not be able to converge at all."
   ]
  },
  {
   "cell_type": "code",
   "execution_count": 115,
   "metadata": {
    "ExecuteTime": {
     "end_time": "2020-07-31T00:32:14.050893Z",
     "start_time": "2020-07-31T00:32:14.048677Z"
    }
   },
   "outputs": [],
   "source": [
    "scaler = RobustScaler()"
   ]
  },
  {
   "cell_type": "markdown",
   "metadata": {},
   "source": [
    "* As seen earlier with the \"Distribution of Amount\", the data is not normally distributed and there are a lot of outliers in our data, so we have chosen to use Robust Scaling, rather than Standard Scaling."
   ]
  },
  {
   "cell_type": "code",
   "execution_count": 116,
   "metadata": {
    "ExecuteTime": {
     "end_time": "2020-07-31T00:32:14.422729Z",
     "start_time": "2020-07-31T00:32:14.232416Z"
    }
   },
   "outputs": [],
   "source": [
    "# Fit scaler on training data and transform Training data\n",
    "X_train = scaler.fit_transform(X_train)\n",
    "\n",
    "# Use the scaler to transform the Test data\n",
    "X_test = scaler.transform(X_test)"
   ]
  },
  {
   "cell_type": "markdown",
   "metadata": {},
   "source": [
    "# Resampling"
   ]
  },
  {
   "cell_type": "markdown",
   "metadata": {},
   "source": [
    "* Resampling the data will improve the effectiveness of many machine learning models.\n",
    "* Resampling involves drawing repeated samples from the original dataset to create a new dataset which either reduces the ratio of the majority class (undersampling) or increases the ratio of the minority class (oversampling).  A combination of the two can also be used.\n",
    "* Often undersampling will produce better results, but with such imbalanced data we will choose to oversample for this dataset, as it means we are not losing any data from the original dataset.\n",
    "* Synthetic Minority Oversampling TEchnique (SMOTE) will be used to produce a more class-balanced dataset.\n",
    "* Note that we must not resample the test data, as it represents unseen data.  If it is unseen, we will not know which class it falls in, and thus we will not know whether to undersample or oversample it."
   ]
  },
  {
   "cell_type": "code",
   "execution_count": 121,
   "metadata": {
    "ExecuteTime": {
     "end_time": "2020-07-31T00:35:37.719203Z",
     "start_time": "2020-07-31T00:35:37.185948Z"
    },
    "scrolled": true
   },
   "outputs": [
    {
     "name": "stdout",
     "output_type": "stream",
     "text": [
      "Distribution of data before resampling:\n",
      "\t0: 199020\t1: 344\t\t(578.5 : 1)\n",
      "Distribution after SMOTE:\n",
      "\t0: 199020\t1: 199020\t(1.0 : 1)\n",
      "Distribution after Random Undersampling:\n",
      "\t0: 344\t\t1: 344\t\t(1.0 : 1)\n",
      "Distribution after SMOTE and Random Undersampling:\n",
      "\t0: 39804\t1: 19902\t(2.0 : 1)\n"
     ]
    }
   ],
   "source": [
    "# summarize class distribution before resampling\n",
    "counter = Counter(y_train)\n",
    "print('Distribution of data before resampling:')\n",
    "ratio = round(counter[0]/counter[1], 1)\n",
    "print('\\t0: {}\\t1: {}\\t\\t({} : 1)'.format(counter[0], counter[1], ratio))\n",
    "\n",
    "# Resample the dataset with SMOTE\n",
    "resample_smote = SMOTE(sampling_strategy='auto', random_state=random_seed)\n",
    "resample_smote.fit(X_train, y_train)\n",
    "X_train_smote, y_train_smote = resample_smote.fit_resample(X_train, y_train)\n",
    "counter = Counter(y_train_smote)\n",
    "print('Distribution after SMOTE:')\n",
    "ratio = round(counter[0]/counter[1], 1)\n",
    "print('\\t0: {}\\t1: {}\\t({} : 1)'.format(counter[0], counter[1], ratio))\n",
    "\n",
    "# Resample the dataset with Random Undersampling\n",
    "resample_under = RandomUnderSampler(sampling_strategy='auto', random_state=random_seed)\n",
    "resample_under.fit(X_train, y_train)\n",
    "X_train_under, y_train_under = resample_under.fit_resample(X_train, y_train)\n",
    "counter = Counter(y_train_under)\n",
    "print('Distribution after Random Undersampling:')\n",
    "ratio = round(counter[0]/counter[1], 1)\n",
    "print('\\t0: {}\\t\\t1: {}\\t\\t({} : 1)'.format(counter[0], counter[1], ratio))\n",
    "\n",
    "# Resample the dataset with SMOTE and Random Undersampling\n",
    "over = SMOTE(sampling_strategy=0.1, random_state=random_seed)\n",
    "under = RandomUnderSampler(sampling_strategy=0.5, random_state=random_seed)\n",
    "steps = [('o', over), ('u', under)]\n",
    "resample_smote_under = Pipeline(steps=steps)\n",
    "resample_smote_under.fit(X_train, y_train)\n",
    "X_train_smote_under, y_train_smote_under = resample_smote_under.fit_resample(X_train, y_train)\n",
    "counter = Counter(y_train_smote_under)\n",
    "print('Distribution after SMOTE and Random Undersampling:')\n",
    "ratio = round(counter[0]/counter[1], 1)\n",
    "print('\\t0: {}\\t1: {}\\t({} : 1)'.format(counter[0], counter[1], ratio))"
   ]
  },
  {
   "cell_type": "markdown",
   "metadata": {},
   "source": [
    "# Modeling"
   ]
  },
  {
   "cell_type": "markdown",
   "metadata": {},
   "source": [
    "## Pandas Dataframe to keep track of Scores"
   ]
  },
  {
   "cell_type": "code",
   "execution_count": 122,
   "metadata": {
    "ExecuteTime": {
     "end_time": "2020-07-31T00:54:23.469028Z",
     "start_time": "2020-07-31T00:54:23.463983Z"
    }
   },
   "outputs": [],
   "source": [
    "# Build scores dataframe for comparison\n",
    "scores_columns = ['SMOTE', 'Undersampled', 'SMOTE & Undersampled']\n",
    "scores_df = pd.DataFrame(columns=scores_columns)"
   ]
  },
  {
   "cell_type": "markdown",
   "metadata": {},
   "source": [
    "## GridSearch"
   ]
  },
  {
   "cell_type": "markdown",
   "metadata": {},
   "source": [
    "* The function we use makes use of sklearn's GridSearchCV function.  \n",
    "* Grid Search is an exhaustive search using the parameter values that we provide, in order to optimize our model\n",
    "    * Not every possible parameter combination is tested, so we can not guarantee a globally optimal combination of parameter values.\n",
    "    * The model will ony be as good as the possible combinations of parameters that we provide."
   ]
  },
  {
   "cell_type": "markdown",
   "metadata": {},
   "source": [
    "## Baseline Model & Model Metrics"
   ]
  },
  {
   "cell_type": "markdown",
   "metadata": {},
   "source": [
    "The Baseline Model predicts that every observation is only the majority Class (non-fraud).  Due to the high imbalance of the dataset, our baseline model will return a very high accuracy.  "
   ]
  },
  {
   "cell_type": "code",
   "execution_count": 123,
   "metadata": {
    "ExecuteTime": {
     "end_time": "2020-07-31T00:54:42.254574Z",
     "start_time": "2020-07-31T00:54:42.203485Z"
    }
   },
   "outputs": [
    {
     "name": "stdout",
     "output_type": "stream",
     "text": [
      "Baseline Model Accuracy: 0.99827\n"
     ]
    }
   ],
   "source": [
    "# Baseline model that all predictions are majority class\n",
    "y_pred_base = [0] * len(y_test)\n",
    "\n",
    "# Calculate Accuracy of Baseline Model\n",
    "acc_base = round(accuracy_score(y_test, y_pred_base), 5)\n",
    "print('Baseline Model Accuracy: {}'.format(acc_base))"
   ]
  },
  {
   "cell_type": "markdown",
   "metadata": {},
   "source": [
    "The best model will catch as many frauds as possible while minimizing the number of transactions flagged as fraud that are actually legitimate.\n",
    "\n",
    "If we want to know how well a model predicts the minority class (fraud), F1 is the most useful metric. F1 is a weighted average of *Precision* and *Recall*, measure between 0 and 1 with a score of 1 being the best."
   ]
  },
  {
   "cell_type": "markdown",
   "metadata": {},
   "source": [
    "### Precision \n",
    "\\begin{equation*}\n",
    "\\frac{True Positives}{True Positives + False Positives}\n",
    "\\end{equation*}\n",
    "\n",
    "### Recall\n",
    "\\begin{equation*}\n",
    "\\frac{True Positives}{True Positives + False Negatives}\n",
    "\\end{equation*}\n",
    "\n",
    "### F1 Score\n",
    "\\begin{equation*}\n",
    "2*\\frac{Precision * Recall}{Precision + Recall}\n",
    "\\end{equation*}\n",
    "\n",
    "We also looked at Precision-Recall curves to get a sense of how well the model captures true positives. A PR curve plots the Precision and Recall scores across different thresholds for a positive identification. This helps us to see whether a model captures true positives while minimizing false positives and false negatives."
   ]
  },
  {
   "cell_type": "code",
   "execution_count": 124,
   "metadata": {
    "ExecuteTime": {
     "end_time": "2020-07-31T00:54:48.463665Z",
     "start_time": "2020-07-31T00:54:48.410167Z"
    }
   },
   "outputs": [
    {
     "name": "stdout",
     "output_type": "stream",
     "text": [
      "Baseline Model F1 Score: 0.0\n"
     ]
    }
   ],
   "source": [
    "# Calculate F1 Score of Baseline Model\n",
    "f1_base = round(f1_score(y_test, y_pred_base), 8)\n",
    "print('Baseline Model F1 Score: {}'.format(f1_base))"
   ]
  },
  {
   "cell_type": "markdown",
   "metadata": {},
   "source": [
    "This baseline F1 Score is terrible as both Precision and Recall are equal to 0"
   ]
  },
  {
   "cell_type": "code",
   "execution_count": 125,
   "metadata": {
    "ExecuteTime": {
     "end_time": "2020-07-31T00:55:12.970934Z",
     "start_time": "2020-07-31T00:55:12.962031Z"
    }
   },
   "outputs": [
    {
     "data": {
      "text/html": [
       "<div>\n",
       "<style scoped>\n",
       "    .dataframe tbody tr th:only-of-type {\n",
       "        vertical-align: middle;\n",
       "    }\n",
       "\n",
       "    .dataframe tbody tr th {\n",
       "        vertical-align: top;\n",
       "    }\n",
       "\n",
       "    .dataframe thead th {\n",
       "        text-align: right;\n",
       "    }\n",
       "</style>\n",
       "<table border=\"1\" class=\"dataframe\">\n",
       "  <thead>\n",
       "    <tr style=\"text-align: right;\">\n",
       "      <th></th>\n",
       "      <th>SMOTE</th>\n",
       "      <th>Undersampled</th>\n",
       "      <th>SMOTE &amp; Undersampled</th>\n",
       "    </tr>\n",
       "  </thead>\n",
       "  <tbody>\n",
       "    <tr>\n",
       "      <td>Baseline</td>\n",
       "      <td>0.0</td>\n",
       "      <td>0.0</td>\n",
       "      <td>0.0</td>\n",
       "    </tr>\n",
       "  </tbody>\n",
       "</table>\n",
       "</div>"
      ],
      "text/plain": [
       "          SMOTE  Undersampled  SMOTE & Undersampled\n",
       "Baseline    0.0           0.0                   0.0"
      ]
     },
     "execution_count": 125,
     "metadata": {},
     "output_type": "execute_result"
    }
   ],
   "source": [
    "scores_df.loc['Baseline'] = [f1_base] * 3\n",
    "scores_df"
   ]
  },
  {
   "cell_type": "markdown",
   "metadata": {},
   "source": [
    "## Gaussian Naive Bayes"
   ]
  },
  {
   "cell_type": "code",
   "execution_count": 85,
   "metadata": {
    "ExecuteTime": {
     "end_time": "2020-07-30T20:59:59.281985Z",
     "start_time": "2020-07-30T20:59:59.279203Z"
    }
   },
   "outputs": [],
   "source": [
    "# Instantiate Gaussian Naive Bayes Classifer\n",
    "clf_gnb = GaussianNB()\n",
    "\n",
    "# Build Parameter Grid\n",
    "param_grid_gnb = {}"
   ]
  },
  {
   "cell_type": "markdown",
   "metadata": {},
   "source": [
    "### Gaussian Naive Bayes - SMOTE"
   ]
  },
  {
   "cell_type": "code",
   "execution_count": 177,
   "metadata": {
    "ExecuteTime": {
     "end_time": "2020-07-31T20:10:54.295567Z",
     "start_time": "2020-07-31T20:10:52.844771Z"
    },
    "scrolled": false
   },
   "outputs": [
    {
     "name": "stdout",
     "output_type": "stream",
     "text": [
      "Best Test Data F1 score: 0.10399\n",
      "\n",
      "Optimal parameters:\n"
     ]
    }
   ],
   "source": [
    "# Gaussian Bayes with SMOTE training data\n",
    "f1_gnb_smote, y_pred_gnb_smote, y_pred_proba_gnb_smote = best_model_score(clf_gnb, param_grid_gnb, X_train_smote, y_train_smote, X_test, y_test)"
   ]
  },
  {
   "cell_type": "markdown",
   "metadata": {},
   "source": [
    "### Gaussian Naive Bayes - RandomUndersampling"
   ]
  },
  {
   "cell_type": "code",
   "execution_count": 178,
   "metadata": {
    "ExecuteTime": {
     "end_time": "2020-07-31T20:11:06.635056Z",
     "start_time": "2020-07-31T20:11:06.333833Z"
    },
    "scrolled": false
   },
   "outputs": [
    {
     "name": "stdout",
     "output_type": "stream",
     "text": [
      "Best Test Data F1 score: 0.0723\n",
      "\n",
      "Optimal parameters:\n"
     ]
    }
   ],
   "source": [
    "# Gaussian Bayes with Undersampled training data\n",
    "f1_gnb_under, y_pred_gnb_under, y_pred_proba_gnb_under = best_model_score(clf_gnb, param_grid_gnb, X_train_under, y_train_under, X_test, y_test)"
   ]
  },
  {
   "cell_type": "markdown",
   "metadata": {},
   "source": [
    "### Gaussian Naive Bayes - SMOTE & RandomUndersampling"
   ]
  },
  {
   "cell_type": "code",
   "execution_count": 179,
   "metadata": {
    "ExecuteTime": {
     "end_time": "2020-07-31T20:11:06.635056Z",
     "start_time": "2020-07-31T20:11:06.333833Z"
    },
    "scrolled": false
   },
   "outputs": [
    {
     "name": "stdout",
     "output_type": "stream",
     "text": [
      "Best Test Data F1 score: 0.10441\n",
      "\n",
      "Optimal parameters:\n"
     ]
    }
   ],
   "source": [
    "# Gaussian Bayes with SMOTE and Undersampled training data\n",
    "f1_gnb_smote_under, y_pred_gnb_smote_under, y_pred_proba_gnb_smote_under = best_model_score(clf_gnb, param_grid_gnb, X_train_smote_under, y_train_smote_under, X_test, y_test)"
   ]
  },
  {
   "cell_type": "code",
   "execution_count": 180,
   "metadata": {
    "ExecuteTime": {
     "end_time": "2020-07-31T20:11:08.477834Z",
     "start_time": "2020-07-31T20:11:08.468387Z"
    }
   },
   "outputs": [
    {
     "data": {
      "text/html": [
       "<div>\n",
       "<style scoped>\n",
       "    .dataframe tbody tr th:only-of-type {\n",
       "        vertical-align: middle;\n",
       "    }\n",
       "\n",
       "    .dataframe tbody tr th {\n",
       "        vertical-align: top;\n",
       "    }\n",
       "\n",
       "    .dataframe thead th {\n",
       "        text-align: right;\n",
       "    }\n",
       "</style>\n",
       "<table border=\"1\" class=\"dataframe\">\n",
       "  <thead>\n",
       "    <tr style=\"text-align: right;\">\n",
       "      <th></th>\n",
       "      <th>SMOTE</th>\n",
       "      <th>Undersampled</th>\n",
       "      <th>SMOTE &amp; Undersampled</th>\n",
       "    </tr>\n",
       "  </thead>\n",
       "  <tbody>\n",
       "    <tr>\n",
       "      <td>Baseline</td>\n",
       "      <td>0.000000</td>\n",
       "      <td>0.000000</td>\n",
       "      <td>0.000000</td>\n",
       "    </tr>\n",
       "    <tr>\n",
       "      <td>Gaussian Naive Bayes</td>\n",
       "      <td>0.103990</td>\n",
       "      <td>0.072303</td>\n",
       "      <td>0.104411</td>\n",
       "    </tr>\n",
       "    <tr>\n",
       "      <td>Random Forest</td>\n",
       "      <td>0.877551</td>\n",
       "      <td>0.090030</td>\n",
       "      <td>0.786787</td>\n",
       "    </tr>\n",
       "    <tr>\n",
       "      <td>XGBoost</td>\n",
       "      <td>0.845638</td>\n",
       "      <td>0.090293</td>\n",
       "      <td>0.715447</td>\n",
       "    </tr>\n",
       "  </tbody>\n",
       "</table>\n",
       "</div>"
      ],
      "text/plain": [
       "                         SMOTE  Undersampled  SMOTE & Undersampled\n",
       "Baseline              0.000000      0.000000              0.000000\n",
       "Gaussian Naive Bayes  0.103990      0.072303              0.104411\n",
       "Random Forest         0.877551      0.090030              0.786787\n",
       "XGBoost               0.845638      0.090293              0.715447"
      ]
     },
     "execution_count": 180,
     "metadata": {},
     "output_type": "execute_result"
    }
   ],
   "source": [
    "# Add F1 Scores to scores dataframe\n",
    "scores_df.loc['Gaussian Naive Bayes'] = [f1_gnb_smote, f1_gnb_under, f1_gnb_smote_under]\n",
    "scores_df"
   ]
  },
  {
   "cell_type": "markdown",
   "metadata": {},
   "source": [
    "## Random Forest"
   ]
  },
  {
   "cell_type": "markdown",
   "metadata": {},
   "source": [
    "A Random Forest classifier uses an ensemble of decision trees that are trained using different portions of the data and different combinations of features. The forests predicts based on what the majority of trees in the forest predict."
   ]
  },
  {
   "cell_type": "code",
   "execution_count": 90,
   "metadata": {
    "ExecuteTime": {
     "end_time": "2020-07-30T21:00:58.782530Z",
     "start_time": "2020-07-30T21:00:58.778767Z"
    }
   },
   "outputs": [],
   "source": [
    "# Instantiate Random Forest Classifer\n",
    "clf_rf = RandomForestClassifier()\n",
    "\n",
    "# Build Parameter Grid\n",
    "param_grid_rf = {'n_estimators': [30], \n",
    "                  'class_weight': [{0: 1, 1: 2}],\n",
    "                  'clf__criterion': ['gini', 'entropy'], \n",
    "                   'clf__min_samples_leaf': [1], \n",
    "                   'clf__max_depth': [None], \n",
    "                   'clf__min_samples_split': [2]\n",
    "                  }"
   ]
  },
  {
   "cell_type": "markdown",
   "metadata": {},
   "source": [
    "Class weights ensure that there is a higher penalty for misclassifying instances of fraud."
   ]
  },
  {
   "cell_type": "code",
   "execution_count": 93,
   "metadata": {
    "ExecuteTime": {
     "end_time": "2020-07-30T21:01:05.640561Z",
     "start_time": "2020-07-30T21:01:05.637670Z"
    }
   },
   "outputs": [],
   "source": [
    "# Instantiate Random Forest Classifer\n",
    "clf_rf = RandomForestClassifier(n_estimators=30, n_jobs=n_jobs)\n",
    "\n",
    "# Build Parameter Grid\n",
    "param_grid_rf = {}"
   ]
  },
  {
   "cell_type": "markdown",
   "metadata": {},
   "source": [
    "### Random Forest - SMOTE"
   ]
  },
  {
   "cell_type": "code",
   "execution_count": 186,
   "metadata": {
    "ExecuteTime": {
     "end_time": "2020-07-31T20:17:55.700391Z",
     "start_time": "2020-07-31T20:14:45.805591Z"
    }
   },
   "outputs": [
    {
     "name": "stdout",
     "output_type": "stream",
     "text": [
      "Best Test Data F1 score: 0.87372\n",
      "\n",
      "Optimal parameters:\n"
     ]
    }
   ],
   "source": [
    "f1_rf_smote, y_pred_rf_smote, y_pred_proba_rf_smote = best_model_score(clf_rf, param_grid_rf, X_train_smote, y_train_smote, X_test, y_test)"
   ]
  },
  {
   "cell_type": "markdown",
   "metadata": {},
   "source": [
    "### Random Forest - RandomUndersampling"
   ]
  },
  {
   "cell_type": "code",
   "execution_count": 134,
   "metadata": {
    "ExecuteTime": {
     "end_time": "2020-07-31T01:06:03.266552Z",
     "start_time": "2020-07-31T01:05:44.924780Z"
    }
   },
   "outputs": [
    {
     "name": "stdout",
     "output_type": "stream",
     "text": [
      "Best Test Data F1 score: 0.09003\n",
      "\n",
      "Optimal parameters:\n"
     ]
    }
   ],
   "source": [
    "f1_rf_under, y_pred_rf_under, y_pred_proba_rf_under = best_model_score(clf_rf, param_grid_rf, X_train_under, y_train_under, X_test, y_test)"
   ]
  },
  {
   "cell_type": "markdown",
   "metadata": {},
   "source": [
    "### Random Forest - SMOTE & RandomUndersampling"
   ]
  },
  {
   "cell_type": "code",
   "execution_count": 135,
   "metadata": {
    "ExecuteTime": {
     "end_time": "2020-07-31T01:06:03.266552Z",
     "start_time": "2020-07-31T01:05:44.924780Z"
    }
   },
   "outputs": [
    {
     "name": "stdout",
     "output_type": "stream",
     "text": [
      "Best Test Data F1 score: 0.78679\n",
      "\n",
      "Optimal parameters:\n"
     ]
    }
   ],
   "source": [
    "f1_rf_smote_under, y_pred_rf_smote_under, y_pred_proba_rf_smote_under = best_model_score(clf_rf, param_grid_rf, X_train_smote_under, y_train_smote_under, X_test, y_test)"
   ]
  },
  {
   "cell_type": "code",
   "execution_count": 136,
   "metadata": {
    "ExecuteTime": {
     "end_time": "2020-07-31T01:06:03.430199Z",
     "start_time": "2020-07-31T01:06:03.422808Z"
    }
   },
   "outputs": [
    {
     "data": {
      "text/html": [
       "<div>\n",
       "<style scoped>\n",
       "    .dataframe tbody tr th:only-of-type {\n",
       "        vertical-align: middle;\n",
       "    }\n",
       "\n",
       "    .dataframe tbody tr th {\n",
       "        vertical-align: top;\n",
       "    }\n",
       "\n",
       "    .dataframe thead th {\n",
       "        text-align: right;\n",
       "    }\n",
       "</style>\n",
       "<table border=\"1\" class=\"dataframe\">\n",
       "  <thead>\n",
       "    <tr style=\"text-align: right;\">\n",
       "      <th></th>\n",
       "      <th>SMOTE</th>\n",
       "      <th>Undersampled</th>\n",
       "      <th>SMOTE &amp; Undersampled</th>\n",
       "    </tr>\n",
       "  </thead>\n",
       "  <tbody>\n",
       "    <tr>\n",
       "      <td>Baseline</td>\n",
       "      <td>0.000000</td>\n",
       "      <td>0.000000</td>\n",
       "      <td>0.000000</td>\n",
       "    </tr>\n",
       "    <tr>\n",
       "      <td>Gaussian Naive Bayes</td>\n",
       "      <td>0.103990</td>\n",
       "      <td>0.072303</td>\n",
       "      <td>0.104411</td>\n",
       "    </tr>\n",
       "    <tr>\n",
       "      <td>Random Forest</td>\n",
       "      <td>0.877551</td>\n",
       "      <td>0.090030</td>\n",
       "      <td>0.786787</td>\n",
       "    </tr>\n",
       "  </tbody>\n",
       "</table>\n",
       "</div>"
      ],
      "text/plain": [
       "                         SMOTE  Undersampled  SMOTE & Undersampled\n",
       "Baseline              0.000000      0.000000              0.000000\n",
       "Gaussian Naive Bayes  0.103990      0.072303              0.104411\n",
       "Random Forest         0.877551      0.090030              0.786787"
      ]
     },
     "execution_count": 136,
     "metadata": {},
     "output_type": "execute_result"
    }
   ],
   "source": [
    "scores_df.loc['Random Forest'] = [f1_rf_smote, f1_rf_under, f1_rf_smote_under]\n",
    "scores_df"
   ]
  },
  {
   "cell_type": "markdown",
   "metadata": {},
   "source": [
    "## XGBoost"
   ]
  },
  {
   "cell_type": "code",
   "execution_count": 137,
   "metadata": {
    "ExecuteTime": {
     "end_time": "2020-07-31T01:06:28.184515Z",
     "start_time": "2020-07-31T01:06:28.180428Z"
    }
   },
   "outputs": [],
   "source": [
    "# Instantiate XGBClassifier\n",
    "clf_xgb = XGBClassifier(booster='gbtree', \n",
    "                    seed=random_seed\n",
    "                   )\n",
    "\n",
    "# Build Parameter Grid\n",
    "param_grid_xgb = {\n",
    "    'learning_rate': [0.1, 0.2, 0.3],\n",
    "    'objective': ['binary:logistic', 'binary:hinge'],\n",
    "    'max_depth': [5,6,10],\n",
    "    'min_child_weight': [1,2,3],\n",
    "}"
   ]
  },
  {
   "cell_type": "markdown",
   "metadata": {},
   "source": [
    "### XGBoost - SMOTE"
   ]
  },
  {
   "cell_type": "code",
   "execution_count": 138,
   "metadata": {
    "ExecuteTime": {
     "end_time": "2020-07-31T02:21:17.334087Z",
     "start_time": "2020-07-31T01:06:28.468613Z"
    },
    "scrolled": true
   },
   "outputs": [
    {
     "name": "stdout",
     "output_type": "stream",
     "text": [
      "Best Test Data F1 score: 0.84564\n",
      "\n",
      "Optimal parameters:\n",
      "\tlearning_rate: 0.1\n",
      "\tmax_depth: 6\n",
      "\tmin_child_weight: 2\n",
      "\tobjective: binary:hinge\n"
     ]
    }
   ],
   "source": [
    "f1_xgb_smote, y_pred_xgb_smote, y_pred_proba_xgb_smote = best_model_score(clf_xgb, param_grid_xgb, X_train_smote, y_train_smote, X_test, y_test)"
   ]
  },
  {
   "cell_type": "markdown",
   "metadata": {},
   "source": [
    "### XGBoost - RandomUndersampling"
   ]
  },
  {
   "cell_type": "code",
   "execution_count": 139,
   "metadata": {
    "ExecuteTime": {
     "end_time": "2020-07-31T02:30:41.289108Z",
     "start_time": "2020-07-31T02:21:22.862206Z"
    }
   },
   "outputs": [
    {
     "name": "stdout",
     "output_type": "stream",
     "text": [
      "Best Test Data F1 score: 0.09029\n",
      "\n",
      "Optimal parameters:\n",
      "\tlearning_rate: 0.3\n",
      "\tmax_depth: 6\n",
      "\tmin_child_weight: 2\n",
      "\tobjective: binary:logistic\n"
     ]
    }
   ],
   "source": [
    "f1_xgb_under, y_pred_xgb_under, y_pred_proba_xgb_under = best_model_score(clf_xgb, param_grid_xgb, X_train_under, y_train_under, X_test, y_test)"
   ]
  },
  {
   "cell_type": "markdown",
   "metadata": {},
   "source": [
    "### XGBoost - SMOTE & RandomUndersampling"
   ]
  },
  {
   "cell_type": "code",
   "execution_count": 140,
   "metadata": {
    "ExecuteTime": {
     "end_time": "2020-07-31T02:30:41.289108Z",
     "start_time": "2020-07-31T02:21:22.862206Z"
    }
   },
   "outputs": [
    {
     "name": "stdout",
     "output_type": "stream",
     "text": [
      "Best Test Data F1 score: 0.71545\n",
      "\n",
      "Optimal parameters:\n",
      "\tlearning_rate: 0.3\n",
      "\tmax_depth: 6\n",
      "\tmin_child_weight: 1\n",
      "\tobjective: binary:logistic\n"
     ]
    }
   ],
   "source": [
    "f1_xgb_smote_under, y_pred_xgb_smote_under, y_pred_proba_xgb_smote_under = best_model_score(clf_xgb, param_grid_xgb, X_train_smote_under, y_train_smote_under, X_test, y_test)"
   ]
  },
  {
   "cell_type": "code",
   "execution_count": 141,
   "metadata": {
    "ExecuteTime": {
     "end_time": "2020-07-31T02:30:41.505962Z",
     "start_time": "2020-07-31T02:30:41.494763Z"
    }
   },
   "outputs": [
    {
     "data": {
      "text/html": [
       "<div>\n",
       "<style scoped>\n",
       "    .dataframe tbody tr th:only-of-type {\n",
       "        vertical-align: middle;\n",
       "    }\n",
       "\n",
       "    .dataframe tbody tr th {\n",
       "        vertical-align: top;\n",
       "    }\n",
       "\n",
       "    .dataframe thead th {\n",
       "        text-align: right;\n",
       "    }\n",
       "</style>\n",
       "<table border=\"1\" class=\"dataframe\">\n",
       "  <thead>\n",
       "    <tr style=\"text-align: right;\">\n",
       "      <th></th>\n",
       "      <th>SMOTE</th>\n",
       "      <th>Undersampled</th>\n",
       "      <th>SMOTE &amp; Undersampled</th>\n",
       "    </tr>\n",
       "  </thead>\n",
       "  <tbody>\n",
       "    <tr>\n",
       "      <td>Baseline</td>\n",
       "      <td>0.000000</td>\n",
       "      <td>0.000000</td>\n",
       "      <td>0.000000</td>\n",
       "    </tr>\n",
       "    <tr>\n",
       "      <td>Gaussian Naive Bayes</td>\n",
       "      <td>0.103990</td>\n",
       "      <td>0.072303</td>\n",
       "      <td>0.104411</td>\n",
       "    </tr>\n",
       "    <tr>\n",
       "      <td>Random Forest</td>\n",
       "      <td>0.877551</td>\n",
       "      <td>0.090030</td>\n",
       "      <td>0.786787</td>\n",
       "    </tr>\n",
       "    <tr>\n",
       "      <td>XGBoost</td>\n",
       "      <td>0.845638</td>\n",
       "      <td>0.090293</td>\n",
       "      <td>0.715447</td>\n",
       "    </tr>\n",
       "  </tbody>\n",
       "</table>\n",
       "</div>"
      ],
      "text/plain": [
       "                         SMOTE  Undersampled  SMOTE & Undersampled\n",
       "Baseline              0.000000      0.000000              0.000000\n",
       "Gaussian Naive Bayes  0.103990      0.072303              0.104411\n",
       "Random Forest         0.877551      0.090030              0.786787\n",
       "XGBoost               0.845638      0.090293              0.715447"
      ]
     },
     "execution_count": 141,
     "metadata": {},
     "output_type": "execute_result"
    }
   ],
   "source": [
    "scores_df.loc['XGBoost'] = [f1_xgb_smote, f1_xgb_under, f1_xgb_smote_under]\n",
    "scores_df"
   ]
  },
  {
   "cell_type": "markdown",
   "metadata": {},
   "source": [
    "# Analysis of Results"
   ]
  },
  {
   "cell_type": "code",
   "execution_count": 181,
   "metadata": {
    "ExecuteTime": {
     "end_time": "2020-07-31T20:13:05.301561Z",
     "start_time": "2020-07-31T20:13:05.293993Z"
    }
   },
   "outputs": [
    {
     "data": {
      "text/html": [
       "<div>\n",
       "<style scoped>\n",
       "    .dataframe tbody tr th:only-of-type {\n",
       "        vertical-align: middle;\n",
       "    }\n",
       "\n",
       "    .dataframe tbody tr th {\n",
       "        vertical-align: top;\n",
       "    }\n",
       "\n",
       "    .dataframe thead th {\n",
       "        text-align: right;\n",
       "    }\n",
       "</style>\n",
       "<table border=\"1\" class=\"dataframe\">\n",
       "  <thead>\n",
       "    <tr style=\"text-align: right;\">\n",
       "      <th></th>\n",
       "      <th>SMOTE</th>\n",
       "      <th>Undersampled</th>\n",
       "      <th>SMOTE &amp; Undersampled</th>\n",
       "    </tr>\n",
       "  </thead>\n",
       "  <tbody>\n",
       "    <tr>\n",
       "      <td>Baseline</td>\n",
       "      <td>0.000000</td>\n",
       "      <td>0.000000</td>\n",
       "      <td>0.000000</td>\n",
       "    </tr>\n",
       "    <tr>\n",
       "      <td>Gaussian Naive Bayes</td>\n",
       "      <td>0.103990</td>\n",
       "      <td>0.072303</td>\n",
       "      <td>0.104411</td>\n",
       "    </tr>\n",
       "    <tr>\n",
       "      <td>Random Forest</td>\n",
       "      <td>0.877551</td>\n",
       "      <td>0.090030</td>\n",
       "      <td>0.786787</td>\n",
       "    </tr>\n",
       "    <tr>\n",
       "      <td>XGBoost</td>\n",
       "      <td>0.845638</td>\n",
       "      <td>0.090293</td>\n",
       "      <td>0.715447</td>\n",
       "    </tr>\n",
       "  </tbody>\n",
       "</table>\n",
       "</div>"
      ],
      "text/plain": [
       "                         SMOTE  Undersampled  SMOTE & Undersampled\n",
       "Baseline              0.000000      0.000000              0.000000\n",
       "Gaussian Naive Bayes  0.103990      0.072303              0.104411\n",
       "Random Forest         0.877551      0.090030              0.786787\n",
       "XGBoost               0.845638      0.090293              0.715447"
      ]
     },
     "execution_count": 181,
     "metadata": {},
     "output_type": "execute_result"
    }
   ],
   "source": [
    "scores_df"
   ]
  },
  {
   "cell_type": "code",
   "execution_count": 173,
   "metadata": {
    "ExecuteTime": {
     "end_time": "2020-07-31T20:06:16.144221Z",
     "start_time": "2020-07-31T20:06:16.139740Z"
    }
   },
   "outputs": [
    {
     "name": "stdout",
     "output_type": "stream",
     "text": [
      "The highest F1 score was 0.8776\n",
      "This was achieved by resampling with SMOTE and using the Random Forest classifier\n"
     ]
    }
   ],
   "source": [
    "max_f1 = combination_for_best_f1_score(scores_df)"
   ]
  },
  {
   "cell_type": "code",
   "execution_count": 315,
   "metadata": {
    "ExecuteTime": {
     "end_time": "2020-08-01T00:19:18.771416Z",
     "start_time": "2020-08-01T00:19:18.769051Z"
    }
   },
   "outputs": [],
   "source": [
    "# Save the predictions from the optimal resampling and classifier\n",
    "y_pred = y_pred_rf_smote"
   ]
  },
  {
   "cell_type": "markdown",
   "metadata": {},
   "source": [
    "## Confusion Matrix"
   ]
  },
  {
   "cell_type": "code",
   "execution_count": 184,
   "metadata": {
    "ExecuteTime": {
     "end_time": "2020-07-31T20:14:01.836294Z",
     "start_time": "2020-07-31T20:14:01.586477Z"
    }
   },
   "outputs": [
    {
     "name": "stdout",
     "output_type": "stream",
     "text": [
      "Confusion Matrix: \n",
      "TN: 85278 FP: 17 FN: 19 TP: 129\n"
     ]
    },
    {
     "data": {
      "image/png": "[encoded data removed]",
      "text/plain": [
       "<Figure size 432x288 with 1 Axes>"
      ]
     },
     "metadata": {
      "needs_background": "light"
     },
     "output_type": "display_data"
    }
   ],
   "source": [
    "# print confusion matrix    \n",
    "cm = confusion_matrix(y_test, y_pred)\n",
    "sns.heatmap(cm.T, square=True, annot=True, fmt = 'g', cmap='RdBu', cbar=False, xticklabels=['legitimate', 'fraud'], yticklabels=['legitimate', 'fraud'])\n",
    "plt.title('Confusion Matrix:\\n Random Forest Model')\n",
    "plt.xlabel('true label')\n",
    "plt.ylabel('predicted label')\n",
    "plt.savefig('cm_rf_smote')\n",
    "\n",
    "tn, fp, fn, tp = confusion_matrix(y_test, y_pred).ravel()\n",
    "print(\"Confusion Matrix:\",'\\nTN:', tn, 'FP:', fp, 'FN:', fn, 'TP:', tp)"
   ]
  },
  {
   "cell_type": "markdown",
   "metadata": {},
   "source": [
    "## ROC CURVE"
   ]
  },
  {
   "cell_type": "code",
   "execution_count": 188,
   "metadata": {
    "ExecuteTime": {
     "end_time": "2020-07-31T20:23:02.081622Z",
     "start_time": "2020-07-31T20:23:02.078787Z"
    }
   },
   "outputs": [],
   "source": [
    "y_pred_proba = y_pred_proba_rf_smote"
   ]
  },
  {
   "cell_type": "code",
   "execution_count": 189,
   "metadata": {
    "ExecuteTime": {
     "end_time": "2020-07-31T20:23:05.243166Z",
     "start_time": "2020-07-31T20:23:02.622716Z"
    }
   },
   "outputs": [
    {
     "data": {
      "image/png": "[encoded data removed]",
      "text/plain": [
       "<Figure size 432x288 with 1 Axes>"
      ]
     },
     "metadata": {},
     "output_type": "display_data"
    }
   ],
   "source": [
    "probs = pd.DataFrame(y_pred_proba, columns=['prob_legit', 'prob_fraud'])\n",
    "probs['actual']=[i for i in y_test]\n",
    "probs.head()\n",
    "\n",
    "# # print \n",
    "def frange(start, stop, step):\n",
    "    i = start\n",
    "    while i < stop:\n",
    "        yield i\n",
    "        i += step\n",
    "\n",
    "names = ['cut_off', 'recall', 'precision']\n",
    "fraud_metrics = pd.DataFrame()\n",
    "\n",
    "# for loop to test different cut-off values\n",
    "for i in frange(.2,.95,.015):\n",
    "    probs['label'] = np.where(probs['prob_fraud'] >= i, 1, 0)\n",
    "    tn, fp, fn, tp = confusion_matrix(probs['actual'], probs['label']).ravel()\n",
    "    recall = tp/(tp+fn)\n",
    "    precision = tp/(tp+fp)\n",
    "    evals = [i,recall,precision]\n",
    "    fraud_metrics=fraud_metrics.append(pd.Series(evals), ignore_index=True)\n",
    "\n",
    "fraud_metrics.columns = names\n",
    "\n",
    "import matplotlib.pyplot as plt\n",
    "%matplotlib inline\n",
    "plt.style.use('seaborn-whitegrid')\n",
    "# plot the data\n",
    "plt.plot(fraud_metrics.recall, fraud_metrics.precision , '-', color='blue')\n",
    "plt.plot(fraud_metrics.recall, fraud_metrics.precision , 'o', color='black')\n",
    "# make some nice labels\n",
    "plt.title('Precision-Recall curve')\n",
    "plt.ylabel('Precision')\n",
    "plt.xlabel('Recall')\n",
    "plt.savefig('pr_curve_rf_smote')"
   ]
  },
  {
   "cell_type": "code",
   "execution_count": 192,
   "metadata": {
    "ExecuteTime": {
     "end_time": "2020-07-31T22:58:47.923344Z",
     "start_time": "2020-07-31T22:58:47.910125Z"
    },
    "scrolled": true
   },
   "outputs": [
    {
     "ename": "IndexError",
     "evalue": "only integers, slices (`:`), ellipsis (`...`), numpy.newaxis (`None`) and integer or boolean arrays are valid indices",
     "output_type": "error",
     "traceback": [
      "\u001b[0;31m---------------------------------------------------------------------------\u001b[0m",
      "\u001b[0;31mIndexError\u001b[0m                                Traceback (most recent call last)",
      "\u001b[0;32m<ipython-input-192-55abb3b70288>\u001b[0m in \u001b[0;36m<module>\u001b[0;34m\u001b[0m\n\u001b[1;32m      1\u001b[0m \u001b[0;31m# Inspecting the amounts of frauds that our model missed\u001b[0m\u001b[0;34m\u001b[0m\u001b[0;34m\u001b[0m\u001b[0;34m\u001b[0m\u001b[0m\n\u001b[0;32m----> 2\u001b[0;31m \u001b[0mpred_vs_actual\u001b[0m \u001b[0;34m=\u001b[0m \u001b[0mpd\u001b[0m\u001b[0;34m.\u001b[0m\u001b[0mDataFrame\u001b[0m\u001b[0;34m(\u001b[0m\u001b[0;34m{\u001b[0m\u001b[0;34m\"Amount\"\u001b[0m\u001b[0;34m:\u001b[0m \u001b[0mX_test\u001b[0m\u001b[0;34m[\u001b[0m\u001b[0;34m'Amount'\u001b[0m\u001b[0;34m]\u001b[0m\u001b[0;34m,\u001b[0m \u001b[0;34m\"Predicted\"\u001b[0m\u001b[0;34m:\u001b[0m \u001b[0my_pred_rf_smote\u001b[0m\u001b[0;34m,\u001b[0m \u001b[0;34m\"Actual\"\u001b[0m\u001b[0;34m:\u001b[0m \u001b[0;34m[\u001b[0m\u001b[0mi\u001b[0m \u001b[0;32mfor\u001b[0m \u001b[0mi\u001b[0m \u001b[0;32min\u001b[0m \u001b[0my_test\u001b[0m\u001b[0;34m]\u001b[0m\u001b[0;34m}\u001b[0m\u001b[0;34m)\u001b[0m\u001b[0;34m\u001b[0m\u001b[0;34m\u001b[0m\u001b[0m\n\u001b[0m\u001b[1;32m      3\u001b[0m \u001b[0mpred_vs_actual\u001b[0m\u001b[0;34m.\u001b[0m\u001b[0mloc\u001b[0m\u001b[0;34m[\u001b[0m\u001b[0;34m(\u001b[0m\u001b[0mpred_vs_actual\u001b[0m\u001b[0;34m[\u001b[0m\u001b[0;34m'Predicted'\u001b[0m\u001b[0;34m]\u001b[0m\u001b[0;34m==\u001b[0m\u001b[0;36m0\u001b[0m\u001b[0;34m)\u001b[0m \u001b[0;34m&\u001b[0m \u001b[0;34m(\u001b[0m\u001b[0mpred_vs_actual\u001b[0m\u001b[0;34m[\u001b[0m\u001b[0;34m'Actual'\u001b[0m\u001b[0;34m]\u001b[0m\u001b[0;34m==\u001b[0m\u001b[0;36m1\u001b[0m\u001b[0;34m)\u001b[0m\u001b[0;34m]\u001b[0m\u001b[0;34m[\u001b[0m\u001b[0;34m'Amount'\u001b[0m\u001b[0;34m]\u001b[0m\u001b[0;34m.\u001b[0m\u001b[0mdescribe\u001b[0m\u001b[0;34m(\u001b[0m\u001b[0;34m)\u001b[0m\u001b[0;34m\u001b[0m\u001b[0;34m\u001b[0m\u001b[0m\n",
      "\u001b[0;31mIndexError\u001b[0m: only integers, slices (`:`), ellipsis (`...`), numpy.newaxis (`None`) and integer or boolean arrays are valid indices"
     ]
    }
   ],
   "source": [
    "# Inspecting the amounts of frauds that our model missed\n",
    "pred_vs_actual = pd.DataFrame({\"Amount\": X_test['Amount'], \"Predicted\": y_pred_rf_smote, \"Actual\": [i for i in y_test]})\n",
    "pred_vs_actual.loc[(pred_vs_actual['Predicted']==0) & (pred_vs_actual['Actual']==1)]['Amount'].describe()"
   ]
  },
  {
   "cell_type": "code",
   "execution_count": 270,
   "metadata": {
    "ExecuteTime": {
     "end_time": "2020-07-31T23:49:25.658186Z",
     "start_time": "2020-07-31T23:49:25.637921Z"
    }
   },
   "outputs": [
    {
     "data": {
      "text/html": [
       "<div>\n",
       "<style scoped>\n",
       "    .dataframe tbody tr th:only-of-type {\n",
       "        vertical-align: middle;\n",
       "    }\n",
       "\n",
       "    .dataframe tbody tr th {\n",
       "        vertical-align: top;\n",
       "    }\n",
       "\n",
       "    .dataframe thead th {\n",
       "        text-align: right;\n",
       "    }\n",
       "</style>\n",
       "<table border=\"1\" class=\"dataframe\">\n",
       "  <thead>\n",
       "    <tr style=\"text-align: right;\">\n",
       "      <th></th>\n",
       "      <th>Amount</th>\n",
       "      <th>Predictions</th>\n",
       "      <th>Test Data</th>\n",
       "      <th>Correct</th>\n",
       "    </tr>\n",
       "  </thead>\n",
       "  <tbody>\n",
       "    <tr>\n",
       "      <td>31773</td>\n",
       "      <td>104.00</td>\n",
       "      <td>0</td>\n",
       "      <td>0</td>\n",
       "      <td>1</td>\n",
       "    </tr>\n",
       "    <tr>\n",
       "      <td>117430</td>\n",
       "      <td>16.48</td>\n",
       "      <td>0</td>\n",
       "      <td>0</td>\n",
       "      <td>1</td>\n",
       "    </tr>\n",
       "    <tr>\n",
       "      <td>274383</td>\n",
       "      <td>4.00</td>\n",
       "      <td>0</td>\n",
       "      <td>0</td>\n",
       "      <td>1</td>\n",
       "    </tr>\n",
       "    <tr>\n",
       "      <td>216704</td>\n",
       "      <td>18.96</td>\n",
       "      <td>0</td>\n",
       "      <td>0</td>\n",
       "      <td>1</td>\n",
       "    </tr>\n",
       "    <tr>\n",
       "      <td>245854</td>\n",
       "      <td>4.99</td>\n",
       "      <td>0</td>\n",
       "      <td>0</td>\n",
       "      <td>1</td>\n",
       "    </tr>\n",
       "  </tbody>\n",
       "</table>\n",
       "</div>"
      ],
      "text/plain": [
       "        Amount  Predictions  Test Data  Correct\n",
       "31773   104.00            0          0        1\n",
       "117430   16.48            0          0        1\n",
       "274383    4.00            0          0        1\n",
       "216704   18.96            0          0        1\n",
       "245854    4.99            0          0        1"
      ]
     },
     "execution_count": 270,
     "metadata": {},
     "output_type": "execute_result"
    }
   ],
   "source": [
    "pred_vs_actual = pd.DataFrame()\n",
    "pred_vs_actual['Amount'] = X_test['Amount']\n",
    "pred_vs_actual['Predictions'] = y_pred\n",
    "pred_vs_actual['Test Data'] = y_test\n",
    "pred_vs_actual['Correct'] = (pred_vs_actual['Predictions']==pred_vs_actual['Test Data']).astype(int)\n",
    "pred_vs_actual.head()"
   ]
  },
  {
   "cell_type": "code",
   "execution_count": 314,
   "metadata": {
    "ExecuteTime": {
     "end_time": "2020-08-01T00:07:54.591145Z",
     "start_time": "2020-08-01T00:07:54.065703Z"
    },
    "scrolled": false
   },
   "outputs": [
    {
     "data": {
      "image/png": "[encoded data removed]",
      "text/plain": [
       "<Figure size 1440x720 with 1 Axes>"
      ]
     },
     "metadata": {},
     "output_type": "display_data"
    }
   ],
   "source": [
    "incorrect_predictions = pred_vs_actual['Correct']==0\n",
    "correct_predictions = pred_vs_actual['Correct']==1\n",
    "\n",
    "plt.figure(figsize=(20,10))\n",
    "sns.set(font_scale=2, style='whitegrid', )\n",
    "ax = sns.distplot(pred_vs_actual[incorrect_predictions]['Amount'], kde=False, color='navy', bins=50)\n",
    "sns.despine()\n",
    "plt.ylabel('Count');\n",
    "ax.set_title('Distribution of Amount for Incorrect Predictions\\n',);"
   ]
  },
  {
   "cell_type": "markdown",
   "metadata": {},
   "source": [
    "## GridSearch"
   ]
  },
  {
   "cell_type": "markdown",
   "metadata": {},
   "source": [
    "The parameter tuning using GridSearchCV improved our model's performance \n",
    "by over 20%, from ~44% to ~66%. The model also shows no signs of \n",
    "overfitting, as evidenced by the close training and testing scores. \n",
    "Grid Search does not gaurantee that we will always find the globally \n",
    "optimal combination of parameter values. Since it only exhaustively \n",
    "searches through the parameter values we provide, \n",
    "not every possible combination of every possible value for each parameter \n",
    "is tested. This means that the model is only as good as the possible \n",
    "combinations of the parameters we include in our parameter grid."
   ]
  },
  {
   "cell_type": "markdown",
   "metadata": {
    "ExecuteTime": {
     "end_time": "2020-07-27T23:48:29.807291Z",
     "start_time": "2020-07-27T23:48:29.801524Z"
    }
   },
   "source": [
    " |     Parameter     |         Values         |\n",
    "|:-----------------:|:----------------------:|\n",
    "|    n_estimators   |      [10, 30, 100]     |\n",
    "|     criterion     |   ['gini', 'entropy']  |\n",
    "|     max_depth     | [None, 2, 6, 10] |\n",
    "| min_samples_split |       [5, 10]       |\n",
    "|  min_samples_leaf |   [3, 6]   |"
   ]
  },
  {
   "cell_type": "markdown",
   "metadata": {},
   "source": [
    "GridSearchCV finds the optimal combination of parameters through an exhaustive combinatoric search. If you search through too many parameters, the model will take forever to run"
   ]
  },
  {
   "cell_type": "code",
   "execution_count": 21,
   "metadata": {
    "ExecuteTime": {
     "end_time": "2020-07-30T20:30:01.174307Z",
     "start_time": "2020-07-30T20:30:00.901042Z"
    },
    "scrolled": true
   },
   "outputs": [
    {
     "data": {
      "image/png": "[encoded data removed]",
      "text/plain": [
       "<Figure size 432x288 with 2 Axes>"
      ]
     },
     "metadata": {
      "needs_background": "light"
     },
     "output_type": "display_data"
    }
   ],
   "source": [
    "# Plot Confusion Matrix\n",
    "class_names = ['Legitimate', 'Fraud']\n",
    "\n",
    "conf_matrx_title = 'Gaussian Naive Bayes'\n",
    "\n",
    "disp = plot_confusion_matrix(model,\n",
    "                             X_test,\n",
    "                             y_test,\n",
    "                             display_labels=class_names,\n",
    "                             normalize=None,\n",
    "                            cmap=plt.cm.Blues)\n",
    "plt.title('Confusion Matrix for {}'.format(conf_matrx_title));\n"
   ]
  }
 ],
 "metadata": {
  "kernelspec": {
   "display_name": "Python 3",
   "language": "python",
   "name": "python3"
  },
  "language_info": {
   "codemirror_mode": {
    "name": "ipython",
    "version": 3
   },
   "file_extension": ".py",
   "mimetype": "text/x-python",
   "name": "python",
   "nbconvert_exporter": "python",
   "pygments_lexer": "ipython3",
   "version": "3.7.4"
  },
  "toc": {
   "base_numbering": 1,
   "nav_menu": {},
   "number_sections": true,
   "sideBar": true,
   "skip_h1_title": false,
   "title_cell": "Table of Contents",
   "title_sidebar": "Contents",
   "toc_cell": false,
   "toc_position": {},
   "toc_section_display": true,
   "toc_window_display": false
  },
  "varInspector": {
   "cols": {
    "lenName": 16,
    "lenType": 16,
    "lenVar": 40
   },
   "kernels_config": {
    "python": {
     "delete_cmd_postfix": "",
     "delete_cmd_prefix": "del ",
     "library": "var_list.py",
     "varRefreshCmd": "print(var_dic_list())"
    },
    "r": {
     "delete_cmd_postfix": ") ",
     "delete_cmd_prefix": "rm(",
     "library": "var_list.r",
     "varRefreshCmd": "cat(var_dic_list()) "
    }
   },
   "types_to_exclude": [
    "module",
    "function",
    "builtin_function_or_method",
    "instance",
    "_Feature"
   ],
   "window_display": false
  }
 },
 "nbformat": 4,
 "nbformat_minor": 2
}
