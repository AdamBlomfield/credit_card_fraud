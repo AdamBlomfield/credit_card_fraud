{
 "cells": [
  {
   "cell_type": "markdown",
   "metadata": {},
   "source": [
    "# Notebook Introduction"
   ]
  },
  {
   "cell_type": "markdown",
   "metadata": {},
   "source": [
    "This notebook performs the following on the dataset:\n",
    "* Train:Test Split\n",
    "* Scaling via Robust Scaler\n",
    "* Resamples via SMOTE and/or Random Undersampling\n",
    "* Fits 3 different classification machine learning models onto the various training datasets and compares the results\n",
    "\n",
    "The 3 models used are:\n",
    "\n",
    "    1) Gaussian Naive Bayes\n",
    "\n",
    "    2) Random Forest\n",
    "\n",
    "    3) eXtreme Gradient Boosting (XGBoost)"
   ]
  },
  {
   "cell_type": "markdown",
   "metadata": {
    "heading_collapsed": true
   },
   "source": [
    "# Library Install"
   ]
  },
  {
   "cell_type": "markdown",
   "metadata": {
    "hidden": true
   },
   "source": [
    "We need to install a previous version of matplotlib, otherwise seaborn heatmaps/confusion matrix will be broken"
   ]
  },
  {
   "cell_type": "code",
   "execution_count": 1,
   "metadata": {
    "ExecuteTime": {
     "end_time": "2020-08-06T19:52:38.090152Z",
     "start_time": "2020-08-06T19:52:36.665346Z"
    },
    "hidden": true
   },
   "outputs": [
    {
     "name": "stdout",
     "output_type": "stream",
     "text": [
      "Requirement already satisfied: matplotlib==3.1.0 in /Users/adam/opt/anaconda3/lib/python3.7/site-packages (3.1.0)\n",
      "Requirement already satisfied: pyparsing!=2.0.4,!=2.1.2,!=2.1.6,>=2.0.1 in /Users/adam/opt/anaconda3/lib/python3.7/site-packages (from matplotlib==3.1.0) (2.4.2)\n",
      "Requirement already satisfied: numpy>=1.11 in /Users/adam/opt/anaconda3/lib/python3.7/site-packages (from matplotlib==3.1.0) (1.17.2)\n",
      "Requirement already satisfied: python-dateutil>=2.1 in /Users/adam/opt/anaconda3/lib/python3.7/site-packages (from matplotlib==3.1.0) (2.8.0)\n",
      "Requirement already satisfied: kiwisolver>=1.0.1 in /Users/adam/opt/anaconda3/lib/python3.7/site-packages (from matplotlib==3.1.0) (1.1.0)\n",
      "Requirement already satisfied: cycler>=0.10 in /Users/adam/opt/anaconda3/lib/python3.7/site-packages (from matplotlib==3.1.0) (0.10.0)\n",
      "Requirement already satisfied: six>=1.5 in /Users/adam/opt/anaconda3/lib/python3.7/site-packages (from python-dateutil>=2.1->matplotlib==3.1.0) (1.12.0)\n",
      "Requirement already satisfied: setuptools in /Users/adam/opt/anaconda3/lib/python3.7/site-packages (from kiwisolver>=1.0.1->matplotlib==3.1.0) (41.4.0)\n",
      "Note: you may need to restart the kernel to use updated packages.\n"
     ]
    }
   ],
   "source": [
    "pip install matplotlib==3.1.0"
   ]
  },
  {
   "cell_type": "code",
   "execution_count": 2,
   "metadata": {
    "ExecuteTime": {
     "end_time": "2020-08-06T19:52:39.455087Z",
     "start_time": "2020-08-06T19:52:38.092808Z"
    },
    "hidden": true
   },
   "outputs": [
    {
     "name": "stdout",
     "output_type": "stream",
     "text": [
      "Requirement already satisfied: xgboost in /Users/adam/opt/anaconda3/lib/python3.7/site-packages (1.1.1)\n",
      "Requirement already satisfied: scipy in /Users/adam/opt/anaconda3/lib/python3.7/site-packages (from xgboost) (1.3.1)\n",
      "Requirement already satisfied: numpy in /Users/adam/opt/anaconda3/lib/python3.7/site-packages (from xgboost) (1.17.2)\n",
      "Note: you may need to restart the kernel to use updated packages.\n"
     ]
    }
   ],
   "source": [
    "pip install xgboost"
   ]
  },
  {
   "cell_type": "markdown",
   "metadata": {
    "heading_collapsed": true
   },
   "source": [
    "# Library Imports"
   ]
  },
  {
   "cell_type": "code",
   "execution_count": 3,
   "metadata": {
    "ExecuteTime": {
     "end_time": "2020-08-06T19:52:40.411468Z",
     "start_time": "2020-08-06T19:52:39.457683Z"
    },
    "hidden": true
   },
   "outputs": [],
   "source": [
    "# Dataframes\n",
    "import pandas as pd\n",
    "import numpy as np\n",
    "\n",
    "# Graphing\n",
    "import matplotlib.pyplot as plt\n",
    "%matplotlib inline\n",
    "import seaborn as sns\n",
    "\n",
    "# Data Preparation\n",
    "    # Train:Test\n",
    "from sklearn.model_selection import train_test_split\n",
    "    # Scaling\n",
    "from sklearn.preprocessing import RobustScaler\n",
    "\n",
    "# Resampling\n",
    "from imblearn.over_sampling import SMOTE\n",
    "from imblearn.under_sampling import RandomUnderSampler\n",
    "from collections import Counter\n",
    "\n",
    "# Model Tuning and Cross Validation\n",
    "from imblearn.pipeline import make_pipeline, Pipeline\n",
    "from sklearn.model_selection import GridSearchCV\n",
    "\n",
    "# # Model metrics\n",
    "from sklearn.metrics import accuracy_score, f1_score, recall_score, confusion_matrix, classification_report, roc_curve, auc, precision_recall_curve\n",
    "from sklearn.metrics import plot_confusion_matrix\n",
    "\n",
    "# # Classifiers\n",
    "from sklearn.naive_bayes import GaussianNB\n",
    "from sklearn.ensemble import RandomForestClassifier\n",
    "from xgboost import XGBClassifier"
   ]
  },
  {
   "cell_type": "code",
   "execution_count": 56,
   "metadata": {
    "ExecuteTime": {
     "end_time": "2020-08-06T20:07:43.422454Z",
     "start_time": "2020-08-06T20:07:43.419105Z"
    },
    "hidden": true
   },
   "outputs": [],
   "source": [
    "# Import functions.py file\n",
    "import sys\n",
    "sys.path.append('../')\n",
    "\n",
    "from functions.functions import *"
   ]
  },
  {
   "cell_type": "code",
   "execution_count": 5,
   "metadata": {
    "ExecuteTime": {
     "end_time": "2020-08-06T19:52:40.421291Z",
     "start_time": "2020-08-06T19:52:40.419046Z"
    },
    "hidden": true
   },
   "outputs": [],
   "source": [
    "random_seed = 1"
   ]
  },
  {
   "cell_type": "markdown",
   "metadata": {
    "heading_collapsed": true
   },
   "source": [
    "# Introduction"
   ]
  },
  {
   "cell_type": "markdown",
   "metadata": {
    "hidden": true
   },
   "source": [
    "three major approaches to handle imbalanced data: data sampling, algorithm modifications, and cost-sensitive learning."
   ]
  },
  {
   "cell_type": "markdown",
   "metadata": {
    "heading_collapsed": true
   },
   "source": [
    "# Import Cleaned Data "
   ]
  },
  {
   "cell_type": "code",
   "execution_count": 6,
   "metadata": {
    "ExecuteTime": {
     "end_time": "2020-08-06T19:52:43.182448Z",
     "start_time": "2020-08-06T19:52:40.423330Z"
    },
    "hidden": true,
    "scrolled": true
   },
   "outputs": [
    {
     "data": {
      "text/html": [
       "<div>\n",
       "<style scoped>\n",
       "    .dataframe tbody tr th:only-of-type {\n",
       "        vertical-align: middle;\n",
       "    }\n",
       "\n",
       "    .dataframe tbody tr th {\n",
       "        vertical-align: top;\n",
       "    }\n",
       "\n",
       "    .dataframe thead th {\n",
       "        text-align: right;\n",
       "    }\n",
       "</style>\n",
       "<table border=\"1\" class=\"dataframe\">\n",
       "  <thead>\n",
       "    <tr style=\"text-align: right;\">\n",
       "      <th></th>\n",
       "      <th>Time</th>\n",
       "      <th>V1</th>\n",
       "      <th>V2</th>\n",
       "      <th>V3</th>\n",
       "      <th>V4</th>\n",
       "      <th>V5</th>\n",
       "      <th>V6</th>\n",
       "      <th>V7</th>\n",
       "      <th>V8</th>\n",
       "      <th>V9</th>\n",
       "      <th>...</th>\n",
       "      <th>V21</th>\n",
       "      <th>V22</th>\n",
       "      <th>V23</th>\n",
       "      <th>V24</th>\n",
       "      <th>V25</th>\n",
       "      <th>V26</th>\n",
       "      <th>V27</th>\n",
       "      <th>V28</th>\n",
       "      <th>Amount</th>\n",
       "      <th>Class</th>\n",
       "    </tr>\n",
       "  </thead>\n",
       "  <tbody>\n",
       "    <tr>\n",
       "      <td>0</td>\n",
       "      <td>0.0</td>\n",
       "      <td>-1.359807</td>\n",
       "      <td>-0.072781</td>\n",
       "      <td>2.536347</td>\n",
       "      <td>1.378155</td>\n",
       "      <td>-0.338321</td>\n",
       "      <td>0.462388</td>\n",
       "      <td>0.239599</td>\n",
       "      <td>0.098698</td>\n",
       "      <td>0.363787</td>\n",
       "      <td>...</td>\n",
       "      <td>-0.018307</td>\n",
       "      <td>0.277838</td>\n",
       "      <td>-0.110474</td>\n",
       "      <td>0.066928</td>\n",
       "      <td>0.128539</td>\n",
       "      <td>-0.189115</td>\n",
       "      <td>0.133558</td>\n",
       "      <td>-0.021053</td>\n",
       "      <td>149.62</td>\n",
       "      <td>0</td>\n",
       "    </tr>\n",
       "    <tr>\n",
       "      <td>1</td>\n",
       "      <td>0.0</td>\n",
       "      <td>1.191857</td>\n",
       "      <td>0.266151</td>\n",
       "      <td>0.166480</td>\n",
       "      <td>0.448154</td>\n",
       "      <td>0.060018</td>\n",
       "      <td>-0.082361</td>\n",
       "      <td>-0.078803</td>\n",
       "      <td>0.085102</td>\n",
       "      <td>-0.255425</td>\n",
       "      <td>...</td>\n",
       "      <td>-0.225775</td>\n",
       "      <td>-0.638672</td>\n",
       "      <td>0.101288</td>\n",
       "      <td>-0.339846</td>\n",
       "      <td>0.167170</td>\n",
       "      <td>0.125895</td>\n",
       "      <td>-0.008983</td>\n",
       "      <td>0.014724</td>\n",
       "      <td>2.69</td>\n",
       "      <td>0</td>\n",
       "    </tr>\n",
       "    <tr>\n",
       "      <td>2</td>\n",
       "      <td>1.0</td>\n",
       "      <td>-1.358354</td>\n",
       "      <td>-1.340163</td>\n",
       "      <td>1.773209</td>\n",
       "      <td>0.379780</td>\n",
       "      <td>-0.503198</td>\n",
       "      <td>1.800499</td>\n",
       "      <td>0.791461</td>\n",
       "      <td>0.247676</td>\n",
       "      <td>-1.514654</td>\n",
       "      <td>...</td>\n",
       "      <td>0.247998</td>\n",
       "      <td>0.771679</td>\n",
       "      <td>0.909412</td>\n",
       "      <td>-0.689281</td>\n",
       "      <td>-0.327642</td>\n",
       "      <td>-0.139097</td>\n",
       "      <td>-0.055353</td>\n",
       "      <td>-0.059752</td>\n",
       "      <td>378.66</td>\n",
       "      <td>0</td>\n",
       "    </tr>\n",
       "  </tbody>\n",
       "</table>\n",
       "<p>3 rows × 31 columns</p>\n",
       "</div>"
      ],
      "text/plain": [
       "   Time        V1        V2        V3        V4        V5        V6        V7  \\\n",
       "0   0.0 -1.359807 -0.072781  2.536347  1.378155 -0.338321  0.462388  0.239599   \n",
       "1   0.0  1.191857  0.266151  0.166480  0.448154  0.060018 -0.082361 -0.078803   \n",
       "2   1.0 -1.358354 -1.340163  1.773209  0.379780 -0.503198  1.800499  0.791461   \n",
       "\n",
       "         V8        V9  ...       V21       V22       V23       V24       V25  \\\n",
       "0  0.098698  0.363787  ... -0.018307  0.277838 -0.110474  0.066928  0.128539   \n",
       "1  0.085102 -0.255425  ... -0.225775 -0.638672  0.101288 -0.339846  0.167170   \n",
       "2  0.247676 -1.514654  ...  0.247998  0.771679  0.909412 -0.689281 -0.327642   \n",
       "\n",
       "        V26       V27       V28  Amount  Class  \n",
       "0 -0.189115  0.133558 -0.021053  149.62      0  \n",
       "1  0.125895 -0.008983  0.014724    2.69      0  \n",
       "2 -0.139097 -0.055353 -0.059752  378.66      0  \n",
       "\n",
       "[3 rows x 31 columns]"
      ]
     },
     "execution_count": 6,
     "metadata": {},
     "output_type": "execute_result"
    }
   ],
   "source": [
    "df = pd.read_csv('../data/processed/cleaned_dataframe.gz', compression='gzip')\n",
    "df.head(3)"
   ]
  },
  {
   "cell_type": "markdown",
   "metadata": {
    "heading_collapsed": true
   },
   "source": [
    "# Train:Test Split"
   ]
  },
  {
   "cell_type": "code",
   "execution_count": 7,
   "metadata": {
    "ExecuteTime": {
     "end_time": "2020-08-06T19:52:43.370154Z",
     "start_time": "2020-08-06T19:52:43.184507Z"
    },
    "hidden": true
   },
   "outputs": [
    {
     "name": "stdout",
     "output_type": "stream",
     "text": [
      "No. of samples in each training set:\t199364\n",
      "No. of samples in each test set:\t85443\n"
     ]
    }
   ],
   "source": [
    "X = df.drop(['Class'], axis=1)\n",
    "y = df['Class']\n",
    "\n",
    "X_train, X_test, y_train, y_test = train_test_split(X, \n",
    "                                                    y, \n",
    "                                                    test_size=0.3, \n",
    "                                                    stratify=y, \n",
    "                                                    random_state=random_seed)\n",
    "\n",
    "print(\"No. of samples in each training set:\\t{}\".format(X_train.shape[0]))\n",
    "print(\"No. of samples in each test set:\\t{}\".format(X_test.shape[0]))"
   ]
  },
  {
   "cell_type": "markdown",
   "metadata": {
    "hidden": true
   },
   "source": [
    "* We choose to stratify as we want to keep the distribution of classes the same in the training set as the test set. \n",
    "* Additionally we must ensure there are at least some fraudulent transactions in the test dataset."
   ]
  },
  {
   "cell_type": "markdown",
   "metadata": {
    "heading_collapsed": true
   },
   "source": [
    "# Scaling"
   ]
  },
  {
   "cell_type": "markdown",
   "metadata": {
    "hidden": true
   },
   "source": [
    "* Scaling the data will improve the predictive performance of some machine learning models.  \n",
    "    * Without scaling, gradient-based estimating models (such as linear or logistic regression) will take longer to converge or may not be able to converge at all."
   ]
  },
  {
   "cell_type": "code",
   "execution_count": 8,
   "metadata": {
    "ExecuteTime": {
     "end_time": "2020-08-06T19:52:43.375873Z",
     "start_time": "2020-08-06T19:52:43.373652Z"
    },
    "hidden": true
   },
   "outputs": [],
   "source": [
    "scaler = RobustScaler()"
   ]
  },
  {
   "cell_type": "markdown",
   "metadata": {
    "hidden": true
   },
   "source": [
    "* As seen earlier with the \"Distribution of Amount\", the data is not normally distributed and there are a lot of outliers in our data, so we have chosen to use Robust Scaling, rather than Standard Scaling."
   ]
  },
  {
   "cell_type": "code",
   "execution_count": 9,
   "metadata": {
    "ExecuteTime": {
     "end_time": "2020-08-06T19:52:43.582903Z",
     "start_time": "2020-08-06T19:52:43.378813Z"
    },
    "hidden": true
   },
   "outputs": [],
   "source": [
    "# Fit scaler on training data and transform Training data\n",
    "X_train = scaler.fit_transform(X_train)\n",
    "\n",
    "# Use the scaler to transform the Test data\n",
    "X_test = scaler.transform(X_test)"
   ]
  },
  {
   "cell_type": "markdown",
   "metadata": {
    "hidden": true
   },
   "source": [
    "* We must be careful to only scale the test data using the scaling parameters learned on the train data."
   ]
  },
  {
   "cell_type": "markdown",
   "metadata": {
    "heading_collapsed": true
   },
   "source": [
    "# Resampling"
   ]
  },
  {
   "cell_type": "markdown",
   "metadata": {
    "hidden": true
   },
   "source": [
    "We will be using resampling techniques to improve the effectiveness of our machine learning models\n",
    "* Resampling involves drawing repeated samples from the original dataset to create a new dataset which either reduces the ratio of the majority class (undersampling) or increases the ratio of the minority class (oversampling). A combination of the two can also be used.\n",
    "\n",
    "For this project we will be using **Random Undersampling** and **Synthetic Minority Oversampling TEchnique (SMOTE)**.\n",
    "\n",
    "### Random Undersampling\n",
    "* This technique under-samples the majority class (legitimate transactions) randomly and uniformly.  \n",
    "* This can lead to a loss of information, but if the transactions have similar feature values this loss will be minimized. \n",
    "\n",
    "### SMOTE\n",
    "* This technique over-samples the minority class by generating synthetic data.\n",
    "* This new data is based on the feature space similarities between fraudulent transactions. \n",
    "    * It finds the K-nearest neighbors of an individual fraudulent transaction and randomly selects one of them.  \n",
    "    * A new fraudulent transaction is then synthetically generated in between the original fraud transaction and its neighbor.\n",
    "    \n",
    "Note that we **do not resample the test data**, as it represents unseen data. If it is unseen, we will not know which class it falls in, and thus we will not know whether to undersample or oversample it."
   ]
  },
  {
   "cell_type": "code",
   "execution_count": 10,
   "metadata": {
    "ExecuteTime": {
     "end_time": "2020-08-06T19:52:43.917359Z",
     "start_time": "2020-08-06T19:52:43.584464Z"
    },
    "hidden": true
   },
   "outputs": [
    {
     "name": "stdout",
     "output_type": "stream",
     "text": [
      "Distribution of data before resampling:\n",
      "\t0: 199020         1:    344              578.5 : 1\n",
      "\n",
      "Distribution of Training Data after SMOTE:\n",
      "\t0: 199020         1:   19902              10.0 : 1\n",
      "\n",
      "Distribution of Training Data after Random Undersampling:\n",
      "\t0: 688            1:    344                2.0 : 1\n",
      "\n",
      "Distribution of Training Data after SMOTE and Random Undersampling:\n",
      "\t0: 39804          1:   19902               2.0 : 1\n"
     ]
    }
   ],
   "source": [
    "# Class distribution before resampling\n",
    "counter = Counter(y_train)\n",
    "print('Distribution of data before resampling:')\n",
    "ratio = round(counter[0]/counter[1], 1)\n",
    "print('\\t0: {:<15}1: {:^10}{:>15} : 1'.format(counter[0], counter[1], ratio))\n",
    "\n",
    "# Resample the dataset with SMOTE\n",
    "resample_smote = SMOTE(sampling_strategy=0.1, random_state=random_seed)\n",
    "X_train_smote, y_train_smote = resample_training_data(resample_smote, X_train, y_train, 'after SMOTE')\n",
    "\n",
    "# Resample the dataset with Random Undersampling\n",
    "resample_under = RandomUnderSampler(sampling_strategy=0.5, random_state=random_seed)\n",
    "X_train_under, y_train_under = resample_training_data(resample_under, X_train, y_train, 'after Random Undersampling')\n",
    "\n",
    "# Resample the dataset with SMOTE and Random Undersampling\n",
    "over = SMOTE(sampling_strategy=0.1, random_state=random_seed)\n",
    "under = RandomUnderSampler(sampling_strategy=0.5, random_state=random_seed)\n",
    "steps = [('o', over), ('u', under)]\n",
    "resample_smote_under = Pipeline(steps=steps)\n",
    "X_train_smote_under, y_train_smote_under = resample_training_data(resample_smote_under, X_train, y_train, 'after SMOTE and Random Undersampling')"
   ]
  },
  {
   "cell_type": "markdown",
   "metadata": {},
   "source": [
    "# Modeling"
   ]
  },
  {
   "cell_type": "markdown",
   "metadata": {},
   "source": [
    "## Pandas Dataframe to keep track of Scores"
   ]
  },
  {
   "cell_type": "code",
   "execution_count": 11,
   "metadata": {
    "ExecuteTime": {
     "end_time": "2020-08-06T19:52:43.926650Z",
     "start_time": "2020-08-06T19:52:43.919162Z"
    }
   },
   "outputs": [],
   "source": [
    "# Build scores dataframes for comparison\n",
    "scores_columns = ['Original', 'SMOTE', 'Undersampled', 'SMOTE & Undersampled']\n",
    "# F1 scores\n",
    "f1_scores_df = pd.DataFrame(columns=scores_columns)\n",
    "# Recall scores\n",
    "recall_scores_df = pd.DataFrame(columns=scores_columns)"
   ]
  },
  {
   "cell_type": "markdown",
   "metadata": {},
   "source": [
    "## GridSearch"
   ]
  },
  {
   "cell_type": "markdown",
   "metadata": {},
   "source": [
    "* The function we use makes use of sklearn's GridSearchCV function.  \n",
    "* Grid Search is an exhaustive search using the parameter values that we provide, in order to optimize our model\n",
    "    * Not every possible parameter combination is tested, so we can not guarantee a globally optimal combination of parameter values.\n",
    "    * The model will ony be as good as the possible combinations of parameters that we provide.\n",
    "    * the more parameter combinations we input, the longer the model will take to run"
   ]
  },
  {
   "cell_type": "markdown",
   "metadata": {},
   "source": [
    "## Baseline Model & Model Metrics"
   ]
  },
  {
   "cell_type": "markdown",
   "metadata": {},
   "source": [
    "Due to the high imbalance in our dataset, it is very easy to obtain a high accuracy by simply classifying every observation as the majority class (non-fraud)."
   ]
  },
  {
   "cell_type": "code",
   "execution_count": 12,
   "metadata": {
    "ExecuteTime": {
     "end_time": "2020-08-06T19:52:43.950155Z",
     "start_time": "2020-08-06T19:52:43.928592Z"
    }
   },
   "outputs": [
    {
     "name": "stdout",
     "output_type": "stream",
     "text": [
      "Baseline Model Accuracy: 0.99827\n"
     ]
    }
   ],
   "source": [
    "# Baseline model that all predictions are majority class\n",
    "y_pred_base = [0] * len(y_test)\n",
    "\n",
    "# Calculate Accuracy of Baseline Model\n",
    "acc_base = round(accuracy_score(y_test, y_pred_base), 5)\n",
    "print('Baseline Model Accuracy: {}'.format(acc_base))"
   ]
  },
  {
   "cell_type": "markdown",
   "metadata": {},
   "source": [
    "A model with this level of accuracy will initially seem highly successful, but once we realise it has not caught a single fraudulent transaction, we then realise that **we need a different performance metric to accuracy**.  \n",
    "   * 99.83% Accuracy can still be used as a starting point, or baseline, from which more sophisticated models can improve upon.\n",
    "\n",
    "Alternative metrics to Accuracy include:  \n",
    "\n",
    "### Precision \n",
    "* Out of all the frauds our model predicted, what proportion were actually frauds?\n",
    "\n",
    "\\begin{equation*}\n",
    "\\frac{True Positives}{True Positives + False Positives}\n",
    "\\end{equation*}\n",
    "\n",
    "### Recall\n",
    "* Out of all the actual frauds, what proportion did our model detect?\n",
    "\n",
    "\\begin{equation*}\n",
    "\\frac{True Positives}{True Positives + False Negatives}\n",
    "\\end{equation*}\n",
    "\n",
    "### F1 Score\n",
    "* Considers both Precision and Recall.  Can be interpreted as a weighted average of the two (harmonic mean)\n",
    "\n",
    "\\begin{equation*}\n",
    "2*\\frac{Precision * Recall}{Precision + Recall}\n",
    "\\end{equation*}\n",
    "\n",
    "\n",
    "**To avoid confusion in this project, True Positive refers to predicting fraud and it is a fraud.**\n",
    "\n",
    "When seeking to classify fraudulent transactions, the **cost for misclassifying frauds** (False Negative) **is greater than misclassifying a legitimate transaction** (False Positive).\n",
    "   * An undetected fraud could potentially cost the customer and bank a lot of money.\n",
    "   * A legitimate transaction, flagged as fraud, may cause inconvenience for the customer and requires a team within the bank to authorize the transaction.\n",
    "   \n",
    "For our model we will **focus on the F1 Score** and place more emphasis on a high **Recall** rather than Precision.\n",
    "* The F1 Score will be the most useful metric as it is includes Recall and Precision.\n",
    "* Focusing on Recall as well, reflects the fact that classifying frauds (class 1) is more important than classifying legitimate transactions (class 0)."
   ]
  },
  {
   "cell_type": "code",
   "execution_count": 13,
   "metadata": {
    "ExecuteTime": {
     "end_time": "2020-08-06T19:52:44.230757Z",
     "start_time": "2020-08-06T19:52:43.952025Z"
    },
    "scrolled": false
   },
   "outputs": [
    {
     "name": "stdout",
     "output_type": "stream",
     "text": [
      "Confusion Matrix: \n",
      "TN: 85295 FP: 0 FN: 148 TP: 0\n"
     ]
    },
    {
     "data": {
      "image/png": "[encoded data removed]",
      "text/plain": [
       "<Figure size 432x288 with 1 Axes>"
      ]
     },
     "metadata": {
      "needs_background": "light"
     },
     "output_type": "display_data"
    }
   ],
   "source": [
    "# Confusion matrix for baseline model\n",
    "custom_confusion_matrix(y_test, y_pred_base, 'Baseline', 'not resampled')"
   ]
  },
  {
   "cell_type": "code",
   "execution_count": 14,
   "metadata": {
    "ExecuteTime": {
     "end_time": "2020-08-06T19:52:44.275464Z",
     "start_time": "2020-08-06T19:52:44.232084Z"
    }
   },
   "outputs": [
    {
     "name": "stdout",
     "output_type": "stream",
     "text": [
      "Baseline Model F1 Score: 0.0\n"
     ]
    }
   ],
   "source": [
    "# Calculate F1 Score of Baseline Model\n",
    "f1_base = round(f1_score(y_test, y_pred_base), 8)\n",
    "print('Baseline Model F1 Score: {}'.format(f1_base))"
   ]
  },
  {
   "cell_type": "code",
   "execution_count": 15,
   "metadata": {
    "ExecuteTime": {
     "end_time": "2020-08-06T19:52:44.327264Z",
     "start_time": "2020-08-06T19:52:44.277216Z"
    }
   },
   "outputs": [
    {
     "name": "stdout",
     "output_type": "stream",
     "text": [
      "Baseline Mode Recall Score: 0.0\n"
     ]
    }
   ],
   "source": [
    "# Calculate Recall of Baseline Model\n",
    "recall_base = round(recall_score(y_test, y_pred_base), 8)\n",
    "print('Baseline Mode Recall Score: {}'.format(recall_base))"
   ]
  },
  {
   "cell_type": "markdown",
   "metadata": {},
   "source": [
    "Both the Baseline Model's F1 Score and Recall are 0 as the baseline model has a True Positive of 0."
   ]
  },
  {
   "cell_type": "code",
   "execution_count": 16,
   "metadata": {
    "ExecuteTime": {
     "end_time": "2020-08-06T19:52:44.333183Z",
     "start_time": "2020-08-06T19:52:44.328850Z"
    }
   },
   "outputs": [],
   "source": [
    "# Update F1 Scores table\n",
    "f1_scores_df.loc['Baseline'] = [f1_base] * 4"
   ]
  },
  {
   "cell_type": "code",
   "execution_count": 17,
   "metadata": {
    "ExecuteTime": {
     "end_time": "2020-08-06T19:52:44.338182Z",
     "start_time": "2020-08-06T19:52:44.334915Z"
    }
   },
   "outputs": [],
   "source": [
    "# Update Recall Scores table\n",
    "recall_scores_df.loc['Baseline'] = [recall_base] * 4"
   ]
  },
  {
   "cell_type": "markdown",
   "metadata": {},
   "source": [
    "## Gaussian Naive Bayes (GNB)"
   ]
  },
  {
   "cell_type": "markdown",
   "metadata": {},
   "source": [
    "This classification method is based on Bayes' Theorem and although it is one of the earliest classification techniques, it is still extremey powerful.  \n",
    "\n",
    "The classifier is essentially asking, \"given the Amount = X, the V1 = Y, V2 = Z etc...what is the most likely Class for this observation?\""
   ]
  },
  {
   "cell_type": "code",
   "execution_count": 18,
   "metadata": {
    "ExecuteTime": {
     "end_time": "2020-08-06T19:52:44.342276Z",
     "start_time": "2020-08-06T19:52:44.339936Z"
    }
   },
   "outputs": [],
   "source": [
    "# Instantiate Gaussian Naive Bayes Classifer\n",
    "clf_gnb = GaussianNB()\n",
    "\n",
    "# Build Parameter Grid\n",
    "param_grid_gnb = {}"
   ]
  },
  {
   "cell_type": "markdown",
   "metadata": {},
   "source": [
    "### Gaussian Naive Bayes - Original Dataset"
   ]
  },
  {
   "cell_type": "code",
   "execution_count": 19,
   "metadata": {
    "ExecuteTime": {
     "end_time": "2020-08-06T19:52:44.952543Z",
     "start_time": "2020-08-06T19:52:44.343929Z"
    },
    "scrolled": true
   },
   "outputs": [
    {
     "name": "stdout",
     "output_type": "stream",
     "text": [
      "Best Test Data F1 score: 0.11738\n",
      "Best Test Data Recall score: 0.86486\n"
     ]
    }
   ],
   "source": [
    "# Gaussian Bayes with SMOTE training data\n",
    "f1_gnb_original, recall_gnb_original, y_pred_gnb_original, y_pred_proba_gnb_original = best_model_score(clf_gnb, param_grid_gnb, X_train, y_train, X_test, y_test)"
   ]
  },
  {
   "cell_type": "markdown",
   "metadata": {},
   "source": [
    "### Gaussian Naive Bayes - SMOTE"
   ]
  },
  {
   "cell_type": "code",
   "execution_count": 20,
   "metadata": {
    "ExecuteTime": {
     "end_time": "2020-08-06T19:52:45.665691Z",
     "start_time": "2020-08-06T19:52:44.954046Z"
    },
    "scrolled": false
   },
   "outputs": [
    {
     "name": "stdout",
     "output_type": "stream",
     "text": [
      "Best Test Data F1 score: 0.11121\n",
      "Best Test Data Recall score: 0.86486\n"
     ]
    }
   ],
   "source": [
    "# Gaussian Bayes with SMOTE training data\n",
    "f1_gnb_smote, recall_gnb_smote, y_pred_gnb_smote, y_pred_proba_gnb_smote = best_model_score(clf_gnb, param_grid_gnb, X_train_smote, y_train_smote, X_test, y_test)"
   ]
  },
  {
   "cell_type": "markdown",
   "metadata": {},
   "source": [
    "### Gaussian Naive Bayes - RandomUndersampling"
   ]
  },
  {
   "cell_type": "code",
   "execution_count": 21,
   "metadata": {
    "ExecuteTime": {
     "end_time": "2020-08-06T19:52:45.754498Z",
     "start_time": "2020-08-06T19:52:45.667730Z"
    },
    "scrolled": false
   },
   "outputs": [
    {
     "name": "stdout",
     "output_type": "stream",
     "text": [
      "Best Test Data F1 score: 0.12187\n",
      "Best Test Data Recall score: 0.87162\n"
     ]
    }
   ],
   "source": [
    "# Gaussian Bayes with Undersampled training data\n",
    "f1_gnb_under, recall_gnb_under, y_pred_gnb_under, y_pred_proba_gnb_under = best_model_score(clf_gnb, param_grid_gnb, X_train_under, y_train_under, X_test, y_test)"
   ]
  },
  {
   "cell_type": "markdown",
   "metadata": {},
   "source": [
    "### Gaussian Naive Bayes - SMOTE & RandomUndersampling"
   ]
  },
  {
   "cell_type": "code",
   "execution_count": 22,
   "metadata": {
    "ExecuteTime": {
     "end_time": "2020-08-06T19:52:45.986903Z",
     "start_time": "2020-08-06T19:52:45.756490Z"
    },
    "scrolled": false
   },
   "outputs": [
    {
     "name": "stdout",
     "output_type": "stream",
     "text": [
      "Best Test Data F1 score: 0.10441\n",
      "Best Test Data Recall score: 0.87162\n"
     ]
    }
   ],
   "source": [
    "# Gaussian Bayes with SMOTE and Undersampled training data\n",
    "f1_gnb_smote_under, recall_gnb_smote_under, y_pred_gnb_smote_under, y_pred_proba_gnb_smote_under = best_model_score(clf_gnb, param_grid_gnb, X_train_smote_under, y_train_smote_under, X_test, y_test)"
   ]
  },
  {
   "cell_type": "code",
   "execution_count": 23,
   "metadata": {
    "ExecuteTime": {
     "end_time": "2020-08-06T19:52:45.996728Z",
     "start_time": "2020-08-06T19:52:45.993500Z"
    },
    "scrolled": false
   },
   "outputs": [],
   "source": [
    "# Update F1 Scores table\n",
    "f1_scores_df.loc['Gaussian Naive Bayes'] = [f1_gnb_original, f1_gnb_smote, f1_gnb_under, f1_gnb_smote_under]"
   ]
  },
  {
   "cell_type": "code",
   "execution_count": 24,
   "metadata": {
    "ExecuteTime": {
     "end_time": "2020-08-06T19:52:46.003325Z",
     "start_time": "2020-08-06T19:52:46.000088Z"
    },
    "scrolled": true
   },
   "outputs": [],
   "source": [
    "# Update Recall Scores table\n",
    "recall_scores_df.loc['Gaussian Naive Bayes'] = [recall_gnb_original, recall_gnb_smote, recall_gnb_under, recall_gnb_smote_under]"
   ]
  },
  {
   "cell_type": "markdown",
   "metadata": {},
   "source": [
    "## Random Forest"
   ]
  },
  {
   "cell_type": "markdown",
   "metadata": {},
   "source": [
    "A Random Forest classifier uses an ensemble of decision trees that are trained using different portions of the data and different combinations of features. The forests predicts based on what the majority of trees in the forest predict."
   ]
  },
  {
   "cell_type": "code",
   "execution_count": 25,
   "metadata": {
    "ExecuteTime": {
     "end_time": "2020-08-06T19:52:46.007778Z",
     "start_time": "2020-08-06T19:52:46.004692Z"
    }
   },
   "outputs": [],
   "source": [
    "# Instantiate Random Forest Classifer\n",
    "clf_rf = RandomForestClassifier(criterion='gini', \n",
    "                                class_weight={0: 1, 1: 2}, \n",
    "                                n_jobs=-1, \n",
    "                                random_state=random_seed)\n",
    "\n",
    "# Build Parameter Grid\n",
    "param_grid_rf = {'n_estimators': [50], \n",
    "                   'max_depth': [30, None], \n",
    "                 'min_samples_leaf': [1,3], \n",
    "                   'min_samples_split': [3,4]\n",
    "                  }"
   ]
  },
  {
   "cell_type": "markdown",
   "metadata": {},
   "source": [
    "### Parameter Tuning Guide - Random Forest\n",
    "\n",
    "*criterion*\n",
    "* The function to measure the quality of a split.\n",
    "* \"Gini\" (Gini impurity) will often produce the same results as \"Entropy\" (information gain) but Entropy is more computaionally expensive.\n",
    "\n",
    "*class_weight*\n",
    "* Weights associated with classes in the form {class_label: weight}.\n",
    "* We want our model to focus more on catching frauds, than catching legitimate transactions.\n",
    "\n",
    "*n_estimators*\n",
    "* Increasing this will improve the model as predictions will be based off a larger number of \"votes\", but it will also make it more computationally expensive\n",
    "\n",
    "*max_depth*\n",
    "* The max depth of the trees.  \n",
    "* Too large and we risk overfitting the data.\n",
    "* Too small and we prevent the trees being able to explain some of the variation in the data.\n",
    "\n",
    "*min_samples_leaf*\n",
    "* Minimum number of samples required to be at a leaf node.  \n",
    "* Too large will risk the trees not splitting enough to capture sufficient variation in the data\n",
    "\n",
    "*min_samples_split*\n",
    "* Minimum number of samples required to split an internal node\n",
    "* Too large will cause under-fitting as the trees won't be able to split enough to achieve node purity"
   ]
  },
  {
   "cell_type": "markdown",
   "metadata": {},
   "source": [
    "### Random Forest - Original Dataset"
   ]
  },
  {
   "cell_type": "code",
   "execution_count": 26,
   "metadata": {
    "ExecuteTime": {
     "end_time": "2020-08-06T19:56:45.620363Z",
     "start_time": "2020-08-06T19:52:46.009031Z"
    }
   },
   "outputs": [
    {
     "name": "stdout",
     "output_type": "stream",
     "text": [
      "Best Test Data F1 score: 0.88571\n",
      "Best Test Data Recall score: 0.83784\n",
      "\n",
      "Optimal parameters:\n",
      "\tmax_depth: 30\n",
      "\tmin_samples_leaf: 1\n",
      "\tmin_samples_split: 3\n",
      "\tn_estimators: 50\n"
     ]
    }
   ],
   "source": [
    "f1_rf_original, recall_rf_original, y_pred_rf_original, y_pred_proba_rf_original = best_model_score(clf_rf, param_grid_rf, X_train, y_train, X_test, y_test)"
   ]
  },
  {
   "cell_type": "markdown",
   "metadata": {},
   "source": [
    "### Random Forest - SMOTE"
   ]
  },
  {
   "cell_type": "code",
   "execution_count": 27,
   "metadata": {
    "ExecuteTime": {
     "end_time": "2020-08-06T20:00:44.262298Z",
     "start_time": "2020-08-06T19:56:45.622340Z"
    }
   },
   "outputs": [
    {
     "name": "stdout",
     "output_type": "stream",
     "text": [
      "Best Test Data F1 score: 0.87973\n",
      "Best Test Data Recall score: 0.86486\n",
      "\n",
      "Optimal parameters:\n",
      "\tmax_depth: None\n",
      "\tmin_samples_leaf: 1\n",
      "\tmin_samples_split: 3\n",
      "\tn_estimators: 50\n"
     ]
    }
   ],
   "source": [
    "f1_rf_smote, recall_rf_smote, y_pred_rf_smote, y_pred_proba_rf_smote = best_model_score(clf_rf, param_grid_rf, X_train_smote, y_train_smote, X_test, y_test)"
   ]
  },
  {
   "cell_type": "markdown",
   "metadata": {},
   "source": [
    "### Random Forest - RandomUndersampling"
   ]
  },
  {
   "cell_type": "code",
   "execution_count": 28,
   "metadata": {
    "ExecuteTime": {
     "end_time": "2020-08-06T20:00:50.085654Z",
     "start_time": "2020-08-06T20:00:44.265179Z"
    }
   },
   "outputs": [
    {
     "name": "stdout",
     "output_type": "stream",
     "text": [
      "Best Test Data F1 score: 0.22259\n",
      "Best Test Data Recall score: 0.89865\n",
      "\n",
      "Optimal parameters:\n",
      "\tmax_depth: 30\n",
      "\tmin_samples_leaf: 3\n",
      "\tmin_samples_split: 3\n",
      "\tn_estimators: 50\n"
     ]
    }
   ],
   "source": [
    "f1_rf_under, recall_rf_under, y_pred_rf_under, y_pred_proba_rf_under = best_model_score(clf_rf, param_grid_rf, X_train_under, y_train_under, X_test, y_test)"
   ]
  },
  {
   "cell_type": "markdown",
   "metadata": {},
   "source": [
    "### Random Forest - SMOTE & RandomUndersampling"
   ]
  },
  {
   "cell_type": "code",
   "execution_count": 29,
   "metadata": {
    "ExecuteTime": {
     "end_time": "2020-08-06T20:01:35.645367Z",
     "start_time": "2020-08-06T20:00:50.087274Z"
    }
   },
   "outputs": [
    {
     "name": "stdout",
     "output_type": "stream",
     "text": [
      "Best Test Data F1 score: 0.82243\n",
      "Best Test Data Recall score: 0.89189\n",
      "\n",
      "Optimal parameters:\n",
      "\tmax_depth: 30\n",
      "\tmin_samples_leaf: 1\n",
      "\tmin_samples_split: 4\n",
      "\tn_estimators: 50\n"
     ]
    }
   ],
   "source": [
    "f1_rf_smote_under, recall_rf_smote_under, y_pred_rf_smote_under, y_pred_proba_rf_smote_under = best_model_score(clf_rf, param_grid_rf, X_train_smote_under, y_train_smote_under, X_test, y_test)"
   ]
  },
  {
   "cell_type": "code",
   "execution_count": 30,
   "metadata": {
    "ExecuteTime": {
     "end_time": "2020-08-06T20:01:35.651917Z",
     "start_time": "2020-08-06T20:01:35.647178Z"
    }
   },
   "outputs": [],
   "source": [
    "# Update F1 Scores table\n",
    "f1_scores_df.loc['Random Forest'] = [f1_rf_original, f1_rf_smote, f1_rf_under, f1_rf_smote_under]"
   ]
  },
  {
   "cell_type": "code",
   "execution_count": 31,
   "metadata": {
    "ExecuteTime": {
     "end_time": "2020-08-06T20:01:35.657963Z",
     "start_time": "2020-08-06T20:01:35.654084Z"
    }
   },
   "outputs": [],
   "source": [
    "# Update Recall Scores table\n",
    "recall_scores_df.loc['Random Forest'] = [recall_rf_original, recall_rf_smote, recall_rf_under, recall_rf_smote_under]"
   ]
  },
  {
   "cell_type": "markdown",
   "metadata": {},
   "source": [
    "## XGBoost"
   ]
  },
  {
   "cell_type": "markdown",
   "metadata": {},
   "source": [
    "eXtreme Gradient Boosting (XGBoost) is a form of gradient-boosted decision trees. \n",
    "\n",
    "In a standard ensemble method such as Random Forest, models are trained in isolation so all of the models might make the same mistakes.\n",
    "\n",
    "Gradient Boosting methods, such as XGBoost, trains the Trees in succession.  \n",
    "* Each new Tree is trained to correct the errors made by the previous Trees.  \n",
    "* Trees are added sequentially until either no further improvements can be made or a specified number of trees is reached.\n",
    "* Note that Boosted classifiers do not necessarily have to be tree-based, though often are.\n",
    "\n",
    "\n"
   ]
  },
  {
   "cell_type": "code",
   "execution_count": 32,
   "metadata": {
    "ExecuteTime": {
     "end_time": "2020-08-06T20:01:35.663651Z",
     "start_time": "2020-08-06T20:01:35.659544Z"
    }
   },
   "outputs": [],
   "source": [
    "# Instantiate XGBClassifier\n",
    "scale_pos_weight = 10\n",
    "clf_xgb = XGBClassifier(booster='gbtree', tree_method='hist', scale_pos_weight=scale_pos_weight, verbosity=0,\n",
    "                    seed=random_seed\n",
    "                   )\n",
    "\n",
    "# Build Parameter Grid\n",
    "param_grid_xgb = {\n",
    "    'learning_rate': [0.2, 0.3],\n",
    "    'objective': ['binary:hinge'],\n",
    "    'max_depth': [30, 50],\n",
    "    'min_child_weight': [3],\n",
    "}"
   ]
  },
  {
   "cell_type": "markdown",
   "metadata": {},
   "source": [
    "### Parameter Tuning Guide - XGBoost\n",
    "\n",
    "*booster*\n",
    "* \"gbtree\" uses tree based models\n",
    "\n",
    "*tree_method*\n",
    "* \"hist\" allows for faster computation\n",
    "\n",
    "*scale_pos_weight\n",
    "* Ratio of legitimate transactions to frauds.\n",
    "* This helps the model deal with imbalanced datasets.\n",
    "\n",
    "*learning_rate*\n",
    "* This is the step size shrinkage used in each update.  It prevents overfitting\n",
    "\n",
    "*objective*\n",
    "* \"binary:hinge\" is for binary classification.  A prediction of 0 or 1 is output, rather than producing probabilities\n",
    "\n",
    "*max_depth*\n",
    "* Max number of nodes from root to furthest leaf.\n",
    "* Too large and splits will eventually become less relevant and overfitting will occur.\n",
    "* Too small and we won't be able to model more complex relationships in the data.\n",
    "\n",
    "*min_child_weight*\n",
    "* Min weight or number of samples needed to create a new node.\n",
    "* Too large and our model will not be able to create children to correspond to \n",
    "* Too small and we risk overfitting"
   ]
  },
  {
   "cell_type": "markdown",
   "metadata": {},
   "source": [
    "### XGBoost - Original Dataset"
   ]
  },
  {
   "cell_type": "code",
   "execution_count": 33,
   "metadata": {
    "ExecuteTime": {
     "end_time": "2020-08-06T20:01:46.932518Z",
     "start_time": "2020-08-06T20:01:35.665412Z"
    }
   },
   "outputs": [
    {
     "name": "stdout",
     "output_type": "stream",
     "text": [
      "Best Test Data F1 score: 0.86525\n",
      "Best Test Data Recall score: 0.82432\n",
      "\n",
      "Optimal parameters:\n",
      "\tlearning_rate: 0.2\n",
      "\tmax_depth: 30\n",
      "\tmin_child_weight: 3\n",
      "\tobjective: binary:hinge\n"
     ]
    }
   ],
   "source": [
    "# Find class weights required\n",
    "clf_xgb.scale_pos_weight = y_train.value_counts()[0] / y_train.value_counts()[1]\n",
    "\n",
    "# Fit model\n",
    "f1_xgb_original, recall_xgb_original, y_pred_xgb_original, y_pred_proba_xgb_original = best_model_score(clf_xgb, \n",
    "                                                                                                        param_grid_xgb, \n",
    "                                                                                                        X_train, \n",
    "                                                                                                        y_train, \n",
    "                                                                                                        X_test, \n",
    "                                                                                                        y_test)"
   ]
  },
  {
   "cell_type": "markdown",
   "metadata": {},
   "source": [
    "### XGBoost - SMOTE"
   ]
  },
  {
   "cell_type": "code",
   "execution_count": 34,
   "metadata": {
    "ExecuteTime": {
     "end_time": "2020-08-06T20:02:03.058041Z",
     "start_time": "2020-08-06T20:01:46.934516Z"
    }
   },
   "outputs": [
    {
     "name": "stdout",
     "output_type": "stream",
     "text": [
      "Best Test Data F1 score: 0.86195\n",
      "Best Test Data Recall score: 0.86486\n",
      "\n",
      "Optimal parameters:\n",
      "\tlearning_rate: 0.2\n",
      "\tmax_depth: 30\n",
      "\tmin_child_weight: 3\n",
      "\tobjective: binary:hinge\n"
     ]
    }
   ],
   "source": [
    "# Find class weights required\n",
    "clf_xgb.scale_pos_weight = y_train_smote.value_counts()[0] / y_train_smote.value_counts()[1]\n",
    "\n",
    "# Fit model\n",
    "f1_xgb_smote, recall_xgb_smote, y_pred_xgb_smote, y_pred_proba_xgb_smote = best_model_score(clf_xgb, \n",
    "                                                                                            param_grid_xgb, \n",
    "                                                                                            X_train_smote, \n",
    "                                                                                            y_train_smote, \n",
    "                                                                                            X_test, \n",
    "                                                                                            y_test)"
   ]
  },
  {
   "cell_type": "markdown",
   "metadata": {},
   "source": [
    "### XGBoost - RandomUndersampling"
   ]
  },
  {
   "cell_type": "code",
   "execution_count": 35,
   "metadata": {
    "ExecuteTime": {
     "end_time": "2020-08-06T20:02:03.889854Z",
     "start_time": "2020-08-06T20:02:03.059920Z"
    }
   },
   "outputs": [
    {
     "name": "stdout",
     "output_type": "stream",
     "text": [
      "Best Test Data F1 score: 0.11703\n",
      "Best Test Data Recall score: 0.89865\n",
      "\n",
      "Optimal parameters:\n",
      "\tlearning_rate: 0.2\n",
      "\tmax_depth: 30\n",
      "\tmin_child_weight: 3\n",
      "\tobjective: binary:hinge\n"
     ]
    }
   ],
   "source": [
    "# Find class weights required\n",
    "clf_xgb.scale_pos_weight = y_train_under.value_counts()[0] / y_train_under.value_counts()[1]\n",
    "\n",
    "# Fit model\n",
    "f1_xgb_under, recall_xgb_under, y_pred_xgb_under, y_pred_proba_xgb_under = best_model_score(clf_xgb, \n",
    "                                                                                            param_grid_xgb, \n",
    "                                                                                            X_train_under, \n",
    "                                                                                            y_train_under, \n",
    "                                                                                            X_test, \n",
    "                                                                                            y_test)"
   ]
  },
  {
   "cell_type": "markdown",
   "metadata": {},
   "source": [
    "### XGBoost - SMOTE & RandomUndersampling"
   ]
  },
  {
   "cell_type": "code",
   "execution_count": 36,
   "metadata": {
    "ExecuteTime": {
     "end_time": "2020-08-06T20:02:10.727437Z",
     "start_time": "2020-08-06T20:02:03.892139Z"
    }
   },
   "outputs": [
    {
     "name": "stdout",
     "output_type": "stream",
     "text": [
      "Best Test Data F1 score: 0.6514\n",
      "Best Test Data Recall score: 0.86486\n",
      "\n",
      "Optimal parameters:\n",
      "\tlearning_rate: 0.2\n",
      "\tmax_depth: 30\n",
      "\tmin_child_weight: 3\n",
      "\tobjective: binary:hinge\n"
     ]
    }
   ],
   "source": [
    "# Find class weights required\n",
    "clf_xgb.scale_pos_weight = y_train_smote_under.value_counts()[0] / y_train_smote_under.value_counts()[1]\n",
    "\n",
    "# Fit model\n",
    "f1_xgb_smote_under, recall_xgb_smote_under, y_pred_xgb_smote_under, y_pred_proba_xgb_smote_under = best_model_score(clf_xgb, \n",
    "                                                                                                                    param_grid_xgb, \n",
    "                                                                                                                    X_train_smote_under, \n",
    "                                                                                                                    y_train_smote_under, \n",
    "                                                                                                                    X_test, \n",
    "                                                                                                                    y_test)"
   ]
  },
  {
   "cell_type": "code",
   "execution_count": 37,
   "metadata": {
    "ExecuteTime": {
     "end_time": "2020-08-06T20:02:10.734272Z",
     "start_time": "2020-08-06T20:02:10.729336Z"
    }
   },
   "outputs": [],
   "source": [
    "# Update F1 Scores table\n",
    "f1_scores_df.loc['XGBoost'] = [f1_xgb_original, f1_xgb_smote, f1_xgb_under, f1_xgb_smote_under]"
   ]
  },
  {
   "cell_type": "code",
   "execution_count": 38,
   "metadata": {
    "ExecuteTime": {
     "end_time": "2020-08-06T20:02:10.740922Z",
     "start_time": "2020-08-06T20:02:10.736050Z"
    }
   },
   "outputs": [],
   "source": [
    "# Update Recall Scores table\n",
    "recall_scores_df.loc['XGBoost'] = [recall_xgb_original, recall_xgb_smote, recall_xgb_under, recall_xgb_smote_under]"
   ]
  },
  {
   "cell_type": "markdown",
   "metadata": {},
   "source": [
    "# Analysis of Results"
   ]
  },
  {
   "cell_type": "markdown",
   "metadata": {},
   "source": [
    "## F1 Scores"
   ]
  },
  {
   "cell_type": "code",
   "execution_count": 39,
   "metadata": {
    "ExecuteTime": {
     "end_time": "2020-08-06T20:02:10.751475Z",
     "start_time": "2020-08-06T20:02:10.742813Z"
    },
    "scrolled": true
   },
   "outputs": [
    {
     "data": {
      "text/html": [
       "<div>\n",
       "<style scoped>\n",
       "    .dataframe tbody tr th:only-of-type {\n",
       "        vertical-align: middle;\n",
       "    }\n",
       "\n",
       "    .dataframe tbody tr th {\n",
       "        vertical-align: top;\n",
       "    }\n",
       "\n",
       "    .dataframe thead th {\n",
       "        text-align: right;\n",
       "    }\n",
       "</style>\n",
       "<table border=\"1\" class=\"dataframe\">\n",
       "  <thead>\n",
       "    <tr style=\"text-align: right;\">\n",
       "      <th></th>\n",
       "      <th>Original</th>\n",
       "      <th>SMOTE</th>\n",
       "      <th>Undersampled</th>\n",
       "      <th>SMOTE &amp; Undersampled</th>\n",
       "    </tr>\n",
       "  </thead>\n",
       "  <tbody>\n",
       "    <tr>\n",
       "      <td>Baseline</td>\n",
       "      <td>0.000000</td>\n",
       "      <td>0.000000</td>\n",
       "      <td>0.000000</td>\n",
       "      <td>0.000000</td>\n",
       "    </tr>\n",
       "    <tr>\n",
       "      <td>Gaussian Naive Bayes</td>\n",
       "      <td>0.117377</td>\n",
       "      <td>0.111208</td>\n",
       "      <td>0.121871</td>\n",
       "      <td>0.104411</td>\n",
       "    </tr>\n",
       "    <tr>\n",
       "      <td>Random Forest</td>\n",
       "      <td>0.885714</td>\n",
       "      <td>0.879725</td>\n",
       "      <td>0.222594</td>\n",
       "      <td>0.822430</td>\n",
       "    </tr>\n",
       "    <tr>\n",
       "      <td>XGBoost</td>\n",
       "      <td>0.865248</td>\n",
       "      <td>0.861953</td>\n",
       "      <td>0.117026</td>\n",
       "      <td>0.651399</td>\n",
       "    </tr>\n",
       "  </tbody>\n",
       "</table>\n",
       "</div>"
      ],
      "text/plain": [
       "                      Original     SMOTE  Undersampled  SMOTE & Undersampled\n",
       "Baseline              0.000000  0.000000      0.000000              0.000000\n",
       "Gaussian Naive Bayes  0.117377  0.111208      0.121871              0.104411\n",
       "Random Forest         0.885714  0.879725      0.222594              0.822430\n",
       "XGBoost               0.865248  0.861953      0.117026              0.651399"
      ]
     },
     "execution_count": 39,
     "metadata": {},
     "output_type": "execute_result"
    }
   ],
   "source": [
    "f1_scores_df"
   ]
  },
  {
   "cell_type": "code",
   "execution_count": 40,
   "metadata": {
    "ExecuteTime": {
     "end_time": "2020-08-06T20:02:11.415302Z",
     "start_time": "2020-08-06T20:02:10.753314Z"
    }
   },
   "outputs": [
    {
     "data": {
      "image/png": "[encoded data removed]",
      "text/plain": [
       "<Figure size 1080x720 with 1 Axes>"
      ]
     },
     "metadata": {
      "needs_background": "light"
     },
     "output_type": "display_data"
    }
   ],
   "source": [
    "scores_bar_plot(reshape_scores_df(f1_scores_df), 'F1')"
   ]
  },
  {
   "cell_type": "code",
   "execution_count": 41,
   "metadata": {
    "ExecuteTime": {
     "end_time": "2020-08-06T20:02:11.421186Z",
     "start_time": "2020-08-06T20:02:11.416850Z"
    },
    "scrolled": false
   },
   "outputs": [
    {
     "name": "stdout",
     "output_type": "stream",
     "text": [
      "The highest score was 0.8857\n",
      "This was achieved by resampling with Original and using the Random Forest classifier\n"
     ]
    }
   ],
   "source": [
    "max_f1 = combination_for_best_score(f1_scores_df)"
   ]
  },
  {
   "cell_type": "markdown",
   "metadata": {},
   "source": [
    "* The best F1 Scores came from using Random Forest on the Original training data and the SMOTE resampled training data.\n",
    "* With such close performances it is worth investigating the performances with other metrics"
   ]
  },
  {
   "cell_type": "markdown",
   "metadata": {},
   "source": [
    "## Recall Scores"
   ]
  },
  {
   "cell_type": "code",
   "execution_count": 42,
   "metadata": {
    "ExecuteTime": {
     "end_time": "2020-08-06T20:02:11.432247Z",
     "start_time": "2020-08-06T20:02:11.422692Z"
    },
    "scrolled": true
   },
   "outputs": [
    {
     "data": {
      "text/html": [
       "<div>\n",
       "<style scoped>\n",
       "    .dataframe tbody tr th:only-of-type {\n",
       "        vertical-align: middle;\n",
       "    }\n",
       "\n",
       "    .dataframe tbody tr th {\n",
       "        vertical-align: top;\n",
       "    }\n",
       "\n",
       "    .dataframe thead th {\n",
       "        text-align: right;\n",
       "    }\n",
       "</style>\n",
       "<table border=\"1\" class=\"dataframe\">\n",
       "  <thead>\n",
       "    <tr style=\"text-align: right;\">\n",
       "      <th></th>\n",
       "      <th>Original</th>\n",
       "      <th>SMOTE</th>\n",
       "      <th>Undersampled</th>\n",
       "      <th>SMOTE &amp; Undersampled</th>\n",
       "    </tr>\n",
       "  </thead>\n",
       "  <tbody>\n",
       "    <tr>\n",
       "      <td>Baseline</td>\n",
       "      <td>0.000000</td>\n",
       "      <td>0.000000</td>\n",
       "      <td>0.000000</td>\n",
       "      <td>0.000000</td>\n",
       "    </tr>\n",
       "    <tr>\n",
       "      <td>Gaussian Naive Bayes</td>\n",
       "      <td>0.864865</td>\n",
       "      <td>0.864865</td>\n",
       "      <td>0.871622</td>\n",
       "      <td>0.871622</td>\n",
       "    </tr>\n",
       "    <tr>\n",
       "      <td>Random Forest</td>\n",
       "      <td>0.837838</td>\n",
       "      <td>0.864865</td>\n",
       "      <td>0.898649</td>\n",
       "      <td>0.891892</td>\n",
       "    </tr>\n",
       "    <tr>\n",
       "      <td>XGBoost</td>\n",
       "      <td>0.824324</td>\n",
       "      <td>0.864865</td>\n",
       "      <td>0.898649</td>\n",
       "      <td>0.864865</td>\n",
       "    </tr>\n",
       "  </tbody>\n",
       "</table>\n",
       "</div>"
      ],
      "text/plain": [
       "                      Original     SMOTE  Undersampled  SMOTE & Undersampled\n",
       "Baseline              0.000000  0.000000      0.000000              0.000000\n",
       "Gaussian Naive Bayes  0.864865  0.864865      0.871622              0.871622\n",
       "Random Forest         0.837838  0.864865      0.898649              0.891892\n",
       "XGBoost               0.824324  0.864865      0.898649              0.864865"
      ]
     },
     "execution_count": 42,
     "metadata": {},
     "output_type": "execute_result"
    }
   ],
   "source": [
    "recall_scores_df"
   ]
  },
  {
   "cell_type": "code",
   "execution_count": 43,
   "metadata": {
    "ExecuteTime": {
     "end_time": "2020-08-06T20:02:11.440977Z",
     "start_time": "2020-08-06T20:02:11.434475Z"
    }
   },
   "outputs": [
    {
     "name": "stdout",
     "output_type": "stream",
     "text": [
      "There are 148 fraud transactions in our test data\n"
     ]
    }
   ],
   "source": [
    "# How many fraud transactions are in our test data?\n",
    "print('There are {} fraud transactions in our test data'.format(y_test.value_counts()[1]))"
   ]
  },
  {
   "cell_type": "markdown",
   "metadata": {},
   "source": [
    "* There appears to be many duplicated Recall Scores. \n",
    "    * An explanation could be that as there are only 148 fraud cases in the test data\n",
    "    * It is quite likely that the model duplicates a recall calculation (i.e. finds TP=120 and FN=20 on more than one occasion)"
   ]
  },
  {
   "cell_type": "code",
   "execution_count": 44,
   "metadata": {
    "ExecuteTime": {
     "end_time": "2020-08-06T20:02:12.007078Z",
     "start_time": "2020-08-06T20:02:11.442892Z"
    },
    "scrolled": false
   },
   "outputs": [
    {
     "data": {
      "image/png": "[encoded data removed]",
      "text/plain": [
       "<Figure size 1080x720 with 1 Axes>"
      ]
     },
     "metadata": {},
     "output_type": "display_data"
    }
   ],
   "source": [
    "scores_bar_plot(reshape_scores_df(recall_scores_df), 'Recall')"
   ]
  },
  {
   "cell_type": "code",
   "execution_count": 45,
   "metadata": {
    "ExecuteTime": {
     "end_time": "2020-08-06T20:02:12.013567Z",
     "start_time": "2020-08-06T20:02:12.009046Z"
    },
    "scrolled": false
   },
   "outputs": [
    {
     "name": "stdout",
     "output_type": "stream",
     "text": [
      "The highest score was 0.8986\n",
      "This was achieved by resampling with Undersampled and using the Random Forest classifier\n"
     ]
    }
   ],
   "source": [
    "max_recall = combination_for_best_score(recall_scores_df)"
   ]
  },
  {
   "cell_type": "markdown",
   "metadata": {},
   "source": [
    "* Although the highest Recall scores came from the Undersampled training data, this data performed horribly in the F1 scores.  \n",
    "* Once again the Original training data and the training data resampled with SMOTE have performed very similarly.  Further comparison is needed to choose a best combination."
   ]
  },
  {
   "cell_type": "markdown",
   "metadata": {},
   "source": [
    "## Confusion Matrix"
   ]
  },
  {
   "cell_type": "markdown",
   "metadata": {},
   "source": [
    "* By analysing a confusion matrix of the two best performing models, we can look in particular at the False Negatives (i.e. the frauds that went undetected)"
   ]
  },
  {
   "cell_type": "markdown",
   "metadata": {},
   "source": [
    "### Confusion Matrix - Random Forest, Original Training Data"
   ]
  },
  {
   "cell_type": "code",
   "execution_count": 46,
   "metadata": {
    "ExecuteTime": {
     "end_time": "2020-08-06T20:02:12.278379Z",
     "start_time": "2020-08-06T20:02:12.014906Z"
    },
    "scrolled": false
   },
   "outputs": [
    {
     "name": "stdout",
     "output_type": "stream",
     "text": [
      "Confusion Matrix: \n",
      "TN: 85287 FP: 8 FN: 24 TP: 124\n"
     ]
    },
    {
     "data": {
      "image/png": "[encoded data removed]",
      "text/plain": [
       "<Figure size 432x288 with 1 Axes>"
      ]
     },
     "metadata": {},
     "output_type": "display_data"
    }
   ],
   "source": [
    "custom_confusion_matrix(y_test, y_pred_rf_original, 'Random Forest', 'not resampled')"
   ]
  },
  {
   "cell_type": "markdown",
   "metadata": {},
   "source": [
    "### Confusion Matrix - Random Forest, Training Data Resampled with SMOTE"
   ]
  },
  {
   "cell_type": "code",
   "execution_count": 47,
   "metadata": {
    "ExecuteTime": {
     "end_time": "2020-08-06T20:02:12.525688Z",
     "start_time": "2020-08-06T20:02:12.280373Z"
    },
    "scrolled": false
   },
   "outputs": [
    {
     "name": "stdout",
     "output_type": "stream",
     "text": [
      "Confusion Matrix: \n",
      "TN: 85280 FP: 15 FN: 20 TP: 128\n"
     ]
    },
    {
     "data": {
      "image/png": "[encoded data removed]",
      "text/plain": [
       "<Figure size 432x288 with 1 Axes>"
      ]
     },
     "metadata": {},
     "output_type": "display_data"
    }
   ],
   "source": [
    "custom_confusion_matrix(y_test, y_pred_rf_smote, 'Random Forest', 'resampled with SMOTE')"
   ]
  },
  {
   "cell_type": "markdown",
   "metadata": {},
   "source": [
    "* Although the SMOTE model had higher False Positives, it had 4 fewer False Negatives, representing a 17% drop."
   ]
  },
  {
   "cell_type": "markdown",
   "metadata": {},
   "source": [
    "## Precision-Recall Curve"
   ]
  },
  {
   "cell_type": "markdown",
   "metadata": {},
   "source": [
    "* The ROC (Receiver Operating Characteristic) curve is often used to assess machine learning models.  In this project however, the **ROC curve is not useful**.\n",
    "    * It does not measure well for imbalanced data.\n",
    "    * ROC curve does not measure the effects of negatives (as it uses the True Positive Rate) \n",
    "    * The AUC (Area Under the Curve) helps with assessing overall performance of the model but treats both classes equally.  \n",
    "* We instead **must look at the PR (Precision-Recall) curve** to visualize how well our models have captured True Positives.  \n",
    "    * The PR curve shows us how the model minimizes False Positives and False Negatives (very important for fraud detection)\n",
    "    * With the highly imbalanced data, the AUC of the PR curve is also more sensitive than the ROC curve. This makes it easier to interpret"
   ]
  },
  {
   "cell_type": "markdown",
   "metadata": {},
   "source": [
    "* The PR curve includes a \"no-skill\" baseline.\n",
    "    * This is determined by the ratio of positives and negatives or P / (P + N)\n",
    "* A perfect skil model will have a point at (1,1).\n",
    "* The F1 Score measures the model skill for a specific probability threshold.\n",
    "* The Area Under the Curve (AUC) summarizes the integral of the PR curve. i.e. the skill of the model across thresholds.\n",
    "* Both F1 Score and AUC are useful measures for binary classification problems which have an imbalance in the dataset."
   ]
  },
  {
   "cell_type": "markdown",
   "metadata": {},
   "source": [
    "### PR curve for Random Forest with Original dataset"
   ]
  },
  {
   "cell_type": "code",
   "execution_count": 48,
   "metadata": {
    "ExecuteTime": {
     "end_time": "2020-08-06T20:02:13.200763Z",
     "start_time": "2020-08-06T20:02:12.527368Z"
    },
    "scrolled": true
   },
   "outputs": [
    {
     "name": "stdout",
     "output_type": "stream",
     "text": [
      "Random Forest with no resampling: F1: 0.8857\tAUC: 0.8742\n"
     ]
    },
    {
     "data": {
      "image/png": "[encoded data removed]",
      "text/plain": [
       "<Figure size 1440x720 with 1 Axes>"
      ]
     },
     "metadata": {},
     "output_type": "display_data"
    }
   ],
   "source": [
    "plot_pr_curve(y_test, y_pred_rf_original, y_pred_proba_rf_original, 'Random Forest with no resampling')"
   ]
  },
  {
   "cell_type": "markdown",
   "metadata": {},
   "source": [
    "### PR curve for Random Forest with SMOTE"
   ]
  },
  {
   "cell_type": "code",
   "execution_count": 57,
   "metadata": {
    "ExecuteTime": {
     "end_time": "2020-08-06T20:07:48.804481Z",
     "start_time": "2020-08-06T20:07:48.111851Z"
    },
    "scrolled": false
   },
   "outputs": [
    {
     "name": "stdout",
     "output_type": "stream",
     "text": [
      "Random Forest with SMOTE: F1: 0.8797\tAUC: 0.8818\n"
     ]
    },
    {
     "data": {
      "image/png": "[encoded data removed]",
      "text/plain": [
       "<Figure size 1440x720 with 1 Axes>"
      ]
     },
     "metadata": {},
     "output_type": "display_data"
    }
   ],
   "source": [
    "plot_pr_curve(y_test, y_pred_rf_smote, y_pred_proba_rf_smote, 'Random Forest with SMOTE')"
   ]
  },
  {
   "cell_type": "markdown",
   "metadata": {},
   "source": [
    "# Conclusion"
   ]
  },
  {
   "cell_type": "markdown",
   "metadata": {},
   "source": [
    "* The AUC for the SMOTE dataset is higher than that for the orginal dataset, which means the model is more effective across thresholds.\n",
    "* Our most effective model came from using a Random Forest Classifier and resamping the dataset with SMOTE."
   ]
  }
 ],
 "metadata": {
  "kernelspec": {
   "display_name": "Python 3",
   "language": "python",
   "name": "python3"
  },
  "language_info": {
   "codemirror_mode": {
    "name": "ipython",
    "version": 3
   },
   "file_extension": ".py",
   "mimetype": "text/x-python",
   "name": "python",
   "nbconvert_exporter": "python",
   "pygments_lexer": "ipython3",
   "version": "3.7.4"
  },
  "toc": {
   "base_numbering": 1,
   "nav_menu": {},
   "number_sections": true,
   "sideBar": true,
   "skip_h1_title": false,
   "title_cell": "Table of Contents",
   "title_sidebar": "Contents",
   "toc_cell": false,
   "toc_position": {},
   "toc_section_display": true,
   "toc_window_display": false
  },
  "varInspector": {
   "cols": {
    "lenName": 16,
    "lenType": 16,
    "lenVar": 40
   },
   "kernels_config": {
    "python": {
     "delete_cmd_postfix": "",
     "delete_cmd_prefix": "del ",
     "library": "var_list.py",
     "varRefreshCmd": "print(var_dic_list())"
    },
    "r": {
     "delete_cmd_postfix": ") ",
     "delete_cmd_prefix": "rm(",
     "library": "var_list.r",
     "varRefreshCmd": "cat(var_dic_list()) "
    }
   },
   "types_to_exclude": [
    "module",
    "function",
    "builtin_function_or_method",
    "instance",
    "_Feature"
   ],
   "window_display": false
  }
 },
 "nbformat": 4,
 "nbformat_minor": 2
}
