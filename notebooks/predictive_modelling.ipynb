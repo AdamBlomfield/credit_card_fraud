{
 "cells": [
  {
   "cell_type": "markdown",
   "metadata": {},
   "source": [
    "To Do:\n",
    "* Confusion matrix diagram for best model\n",
    "* Add explanation for why to use SMOTE, options of over and/or under sampling.\n",
    "* Add in other models to this notebook"
   ]
  },
  {
   "cell_type": "markdown",
   "metadata": {},
   "source": [
    "# Library Install"
   ]
  },
  {
   "cell_type": "markdown",
   "metadata": {},
   "source": [
    "We need to install a previous version of matplotlib, otherwise seaborn heatmaps/confusion matrix will be broken"
   ]
  },
  {
   "cell_type": "code",
   "execution_count": 1,
   "metadata": {
    "ExecuteTime": {
     "end_time": "2020-08-04T18:53:26.858746Z",
     "start_time": "2020-08-04T18:53:24.936023Z"
    }
   },
   "outputs": [
    {
     "name": "stdout",
     "output_type": "stream",
     "text": [
      "Requirement already satisfied: matplotlib==3.1.0 in /Users/adam/opt/anaconda3/lib/python3.7/site-packages (3.1.0)\n",
      "Requirement already satisfied: cycler>=0.10 in /Users/adam/opt/anaconda3/lib/python3.7/site-packages (from matplotlib==3.1.0) (0.10.0)\n",
      "Requirement already satisfied: numpy>=1.11 in /Users/adam/opt/anaconda3/lib/python3.7/site-packages (from matplotlib==3.1.0) (1.17.2)\n",
      "Requirement already satisfied: kiwisolver>=1.0.1 in /Users/adam/opt/anaconda3/lib/python3.7/site-packages (from matplotlib==3.1.0) (1.1.0)\n",
      "Requirement already satisfied: python-dateutil>=2.1 in /Users/adam/opt/anaconda3/lib/python3.7/site-packages (from matplotlib==3.1.0) (2.8.0)\n",
      "Requirement already satisfied: pyparsing!=2.0.4,!=2.1.2,!=2.1.6,>=2.0.1 in /Users/adam/opt/anaconda3/lib/python3.7/site-packages (from matplotlib==3.1.0) (2.4.2)\n",
      "Requirement already satisfied: six in /Users/adam/opt/anaconda3/lib/python3.7/site-packages (from cycler>=0.10->matplotlib==3.1.0) (1.12.0)\n",
      "Requirement already satisfied: setuptools in /Users/adam/opt/anaconda3/lib/python3.7/site-packages (from kiwisolver>=1.0.1->matplotlib==3.1.0) (41.4.0)\n",
      "Note: you may need to restart the kernel to use updated packages.\n"
     ]
    }
   ],
   "source": [
    "pip install matplotlib==3.1.0"
   ]
  },
  {
   "cell_type": "code",
   "execution_count": 2,
   "metadata": {
    "ExecuteTime": {
     "end_time": "2020-08-04T18:53:28.097603Z",
     "start_time": "2020-08-04T18:53:26.862341Z"
    }
   },
   "outputs": [
    {
     "name": "stdout",
     "output_type": "stream",
     "text": [
      "Requirement already satisfied: xgboost in /Users/adam/opt/anaconda3/lib/python3.7/site-packages (1.1.1)\n",
      "Requirement already satisfied: scipy in /Users/adam/opt/anaconda3/lib/python3.7/site-packages (from xgboost) (1.3.1)\n",
      "Requirement already satisfied: numpy in /Users/adam/opt/anaconda3/lib/python3.7/site-packages (from xgboost) (1.17.2)\n",
      "Note: you may need to restart the kernel to use updated packages.\n"
     ]
    }
   ],
   "source": [
    "pip install xgboost"
   ]
  },
  {
   "cell_type": "markdown",
   "metadata": {},
   "source": [
    "# Functions to move"
   ]
  },
  {
   "cell_type": "code",
   "execution_count": 28,
   "metadata": {
    "ExecuteTime": {
     "end_time": "2020-08-04T20:16:54.677291Z",
     "start_time": "2020-08-04T20:16:54.670408Z"
    }
   },
   "outputs": [],
   "source": [
    "def best_model_score(clf, param_grid, X_train, y_train, X_test, y_test, scoring='f1', cv=3, n_jobs=-1):\n",
    "    '''Conducts Gridsearch to return the best test data accuracy and f1 score for a classifier as well as y_pred'''\n",
    "    \n",
    "    # Create GridSearch Object\n",
    "    grid_clf = GridSearchCV(clf, \n",
    "                            param_grid, \n",
    "                            scoring='f1', \n",
    "                            cv=cv\n",
    "                           )\n",
    "\n",
    "    # Fit our GridSearch Object and pass  in the training data\n",
    "    grid_clf.fit(X_train, y_train)\n",
    "\n",
    "    # Predict on test data\n",
    "    y_pred = grid_clf.predict(X_test)\n",
    "    y_pred_proba = grid_clf.predict_proba(X_test)\n",
    "    \n",
    "    # Best F1 Score\n",
    "    best_f1 = f1_score(y_test, y_pred)\n",
    "    print('Best Test Data F1 score: {}'.format(round(best_f1, 5)))\n",
    "    \n",
    "    # Best Recall Score\n",
    "    best_recall = recall_score(y_test, y_pred)\n",
    "    print('Best Test Data Recall score: {}'.format(round(best_f1, 5)))\n",
    "    \n",
    "    # Best Parameters\n",
    "    print('\\nOptimal parameters:')\n",
    "    best_parameters = grid_clf.best_estimator_.get_params()\n",
    "    for param_name in sorted(param_grid.keys()):\n",
    "        print('\\t{}: {}'.format(param_name, best_parameters[param_name]))    \n",
    "    \n",
    "#     # Classification report\n",
    "#     print('\\n', classification_report(y_test, y_pred))\n",
    "    \n",
    "    return best_f1, best_recall, y_pred, y_pred_proba"
   ]
  },
  {
   "cell_type": "code",
   "execution_count": 62,
   "metadata": {
    "ExecuteTime": {
     "end_time": "2020-08-04T20:40:50.781673Z",
     "start_time": "2020-08-04T20:40:50.775787Z"
    }
   },
   "outputs": [],
   "source": [
    "def combination_for_best_score(df):\n",
    "    ''' Return the highest score and prints the associated combination of resampling and classifier'''\n",
    "    index_positions = []\n",
    "    max_score = df.max().max()\n",
    "    \n",
    "    # Find where the max F1 score is (NB could be more than one max value)\n",
    "    df_bool_max_score = df.isin([max_score])\n",
    "    # Find index/classifier that contains the max F1 score\n",
    "    best_classifier_row = df_bool_max_score.any()\n",
    "    best_classifier_name = list(best_classifier_row[best_classifier_row == True].index)\n",
    "    # Iterate over list of columns and fetch the rows indexes where value exists\n",
    "    for col in best_classifier_name:\n",
    "        rows = list(df_bool_max_score[col][df_bool_max_score[col] == True].index)\n",
    "        for row in rows:\n",
    "            index_positions.append((row, col))\n",
    "    \n",
    "    print('The highest score was {}'.format(round(max_score, 4)))\n",
    "    best_classifier = index_positions[0][0]\n",
    "    best_resampling = index_positions[0][1]\n",
    "    print('This was achieved by resampling with {} and using the {} classifier'.format(best_resampling, best_classifier))\n",
    "    \n",
    "    return max_score"
   ]
  },
  {
   "cell_type": "markdown",
   "metadata": {},
   "source": [
    "# Library Imports"
   ]
  },
  {
   "cell_type": "code",
   "execution_count": 17,
   "metadata": {
    "ExecuteTime": {
     "end_time": "2020-08-04T19:56:06.941312Z",
     "start_time": "2020-08-04T19:56:06.931899Z"
    }
   },
   "outputs": [],
   "source": [
    "# Dataframes\n",
    "import pandas as pd\n",
    "import numpy as np\n",
    "\n",
    "# Graphing\n",
    "import matplotlib.pyplot as plt\n",
    "%matplotlib inline\n",
    "import seaborn as sns\n",
    "\n",
    "# Data Preparation\n",
    "    # Train:Test\n",
    "from sklearn.model_selection import train_test_split\n",
    "    # Scaling\n",
    "from sklearn.preprocessing import RobustScaler\n",
    "\n",
    "# Resampling\n",
    "from imblearn.over_sampling import SMOTE\n",
    "from imblearn.under_sampling import RandomUnderSampler\n",
    "from collections import Counter\n",
    "\n",
    "# Model Tuning and Cross Validation\n",
    "from imblearn.pipeline import make_pipeline, Pipeline\n",
    "from sklearn.model_selection import GridSearchCV\n",
    "\n",
    "# # Model metrics\n",
    "from sklearn.metrics import accuracy_score, f1_score, recall_score, confusion_matrix, classification_report, roc_curve, auc, precision_recall_curve\n",
    "from sklearn.metrics import plot_confusion_matrix\n",
    "\n",
    "# # Classifiers\n",
    "from sklearn.naive_bayes import GaussianNB\n",
    "from sklearn.ensemble import RandomForestClassifier\n",
    "from xgboost import XGBClassifier\n",
    "\n"
   ]
  },
  {
   "cell_type": "code",
   "execution_count": 6,
   "metadata": {
    "ExecuteTime": {
     "end_time": "2020-08-04T18:53:30.275109Z",
     "start_time": "2020-08-04T18:53:30.272375Z"
    }
   },
   "outputs": [],
   "source": [
    "random_seed = 1"
   ]
  },
  {
   "cell_type": "markdown",
   "metadata": {},
   "source": [
    "# Introduction"
   ]
  },
  {
   "cell_type": "markdown",
   "metadata": {},
   "source": [
    "three major approaches to handle imbalanced data: data sampling, algorithm modifications, and cost-sensitive learning."
   ]
  },
  {
   "cell_type": "markdown",
   "metadata": {},
   "source": [
    "# Import Cleaned Data "
   ]
  },
  {
   "cell_type": "code",
   "execution_count": 7,
   "metadata": {
    "ExecuteTime": {
     "end_time": "2020-08-04T18:53:33.065553Z",
     "start_time": "2020-08-04T18:53:30.278089Z"
    },
    "scrolled": true
   },
   "outputs": [
    {
     "data": {
      "text/html": [
       "<div>\n",
       "<style scoped>\n",
       "    .dataframe tbody tr th:only-of-type {\n",
       "        vertical-align: middle;\n",
       "    }\n",
       "\n",
       "    .dataframe tbody tr th {\n",
       "        vertical-align: top;\n",
       "    }\n",
       "\n",
       "    .dataframe thead th {\n",
       "        text-align: right;\n",
       "    }\n",
       "</style>\n",
       "<table border=\"1\" class=\"dataframe\">\n",
       "  <thead>\n",
       "    <tr style=\"text-align: right;\">\n",
       "      <th></th>\n",
       "      <th>Time</th>\n",
       "      <th>V1</th>\n",
       "      <th>V2</th>\n",
       "      <th>V3</th>\n",
       "      <th>V4</th>\n",
       "      <th>V5</th>\n",
       "      <th>V6</th>\n",
       "      <th>V7</th>\n",
       "      <th>V8</th>\n",
       "      <th>V9</th>\n",
       "      <th>...</th>\n",
       "      <th>V21</th>\n",
       "      <th>V22</th>\n",
       "      <th>V23</th>\n",
       "      <th>V24</th>\n",
       "      <th>V25</th>\n",
       "      <th>V26</th>\n",
       "      <th>V27</th>\n",
       "      <th>V28</th>\n",
       "      <th>Amount</th>\n",
       "      <th>Class</th>\n",
       "    </tr>\n",
       "  </thead>\n",
       "  <tbody>\n",
       "    <tr>\n",
       "      <td>0</td>\n",
       "      <td>0.0</td>\n",
       "      <td>-1.359807</td>\n",
       "      <td>-0.072781</td>\n",
       "      <td>2.536347</td>\n",
       "      <td>1.378155</td>\n",
       "      <td>-0.338321</td>\n",
       "      <td>0.462388</td>\n",
       "      <td>0.239599</td>\n",
       "      <td>0.098698</td>\n",
       "      <td>0.363787</td>\n",
       "      <td>...</td>\n",
       "      <td>-0.018307</td>\n",
       "      <td>0.277838</td>\n",
       "      <td>-0.110474</td>\n",
       "      <td>0.066928</td>\n",
       "      <td>0.128539</td>\n",
       "      <td>-0.189115</td>\n",
       "      <td>0.133558</td>\n",
       "      <td>-0.021053</td>\n",
       "      <td>149.62</td>\n",
       "      <td>0</td>\n",
       "    </tr>\n",
       "    <tr>\n",
       "      <td>1</td>\n",
       "      <td>0.0</td>\n",
       "      <td>1.191857</td>\n",
       "      <td>0.266151</td>\n",
       "      <td>0.166480</td>\n",
       "      <td>0.448154</td>\n",
       "      <td>0.060018</td>\n",
       "      <td>-0.082361</td>\n",
       "      <td>-0.078803</td>\n",
       "      <td>0.085102</td>\n",
       "      <td>-0.255425</td>\n",
       "      <td>...</td>\n",
       "      <td>-0.225775</td>\n",
       "      <td>-0.638672</td>\n",
       "      <td>0.101288</td>\n",
       "      <td>-0.339846</td>\n",
       "      <td>0.167170</td>\n",
       "      <td>0.125895</td>\n",
       "      <td>-0.008983</td>\n",
       "      <td>0.014724</td>\n",
       "      <td>2.69</td>\n",
       "      <td>0</td>\n",
       "    </tr>\n",
       "    <tr>\n",
       "      <td>2</td>\n",
       "      <td>1.0</td>\n",
       "      <td>-1.358354</td>\n",
       "      <td>-1.340163</td>\n",
       "      <td>1.773209</td>\n",
       "      <td>0.379780</td>\n",
       "      <td>-0.503198</td>\n",
       "      <td>1.800499</td>\n",
       "      <td>0.791461</td>\n",
       "      <td>0.247676</td>\n",
       "      <td>-1.514654</td>\n",
       "      <td>...</td>\n",
       "      <td>0.247998</td>\n",
       "      <td>0.771679</td>\n",
       "      <td>0.909412</td>\n",
       "      <td>-0.689281</td>\n",
       "      <td>-0.327642</td>\n",
       "      <td>-0.139097</td>\n",
       "      <td>-0.055353</td>\n",
       "      <td>-0.059752</td>\n",
       "      <td>378.66</td>\n",
       "      <td>0</td>\n",
       "    </tr>\n",
       "  </tbody>\n",
       "</table>\n",
       "<p>3 rows × 31 columns</p>\n",
       "</div>"
      ],
      "text/plain": [
       "   Time        V1        V2        V3        V4        V5        V6        V7  \\\n",
       "0   0.0 -1.359807 -0.072781  2.536347  1.378155 -0.338321  0.462388  0.239599   \n",
       "1   0.0  1.191857  0.266151  0.166480  0.448154  0.060018 -0.082361 -0.078803   \n",
       "2   1.0 -1.358354 -1.340163  1.773209  0.379780 -0.503198  1.800499  0.791461   \n",
       "\n",
       "         V8        V9  ...       V21       V22       V23       V24       V25  \\\n",
       "0  0.098698  0.363787  ... -0.018307  0.277838 -0.110474  0.066928  0.128539   \n",
       "1  0.085102 -0.255425  ... -0.225775 -0.638672  0.101288 -0.339846  0.167170   \n",
       "2  0.247676 -1.514654  ...  0.247998  0.771679  0.909412 -0.689281 -0.327642   \n",
       "\n",
       "        V26       V27       V28  Amount  Class  \n",
       "0 -0.189115  0.133558 -0.021053  149.62      0  \n",
       "1  0.125895 -0.008983  0.014724    2.69      0  \n",
       "2 -0.139097 -0.055353 -0.059752  378.66      0  \n",
       "\n",
       "[3 rows x 31 columns]"
      ]
     },
     "execution_count": 7,
     "metadata": {},
     "output_type": "execute_result"
    }
   ],
   "source": [
    "df = pd.read_csv('../data/processed/cleaned_dataframe.gz', compression='gzip')\n",
    "df.head(3)"
   ]
  },
  {
   "cell_type": "markdown",
   "metadata": {},
   "source": [
    "# Train:Test Split"
   ]
  },
  {
   "cell_type": "code",
   "execution_count": 8,
   "metadata": {
    "ExecuteTime": {
     "end_time": "2020-08-04T18:53:33.268376Z",
     "start_time": "2020-08-04T18:53:33.069343Z"
    }
   },
   "outputs": [
    {
     "name": "stdout",
     "output_type": "stream",
     "text": [
      "No. of samples in each training set:\t199364\n",
      "No. of samples in each test set:\t85443\n"
     ]
    }
   ],
   "source": [
    "X = df.drop(['Class'], axis=1)\n",
    "y = df['Class']\n",
    "\n",
    "X_train, X_test, y_train, y_test = train_test_split(X, \n",
    "                                                    y, \n",
    "                                                    test_size=0.3, \n",
    "                                                    stratify=y, \n",
    "                                                    random_state=random_seed)\n",
    "\n",
    "print(\"No. of samples in each training set:\\t{}\".format(X_train.shape[0]))\n",
    "print(\"No. of samples in each test set:\\t{}\".format(X_test.shape[0]))"
   ]
  },
  {
   "cell_type": "markdown",
   "metadata": {},
   "source": [
    "* We choose to stratify as we want to keep the distribution of classes the same in the training set as the test set. \n",
    "* Additionally we must ensure there are at least some fraudulent transactions in the test dataset."
   ]
  },
  {
   "cell_type": "markdown",
   "metadata": {},
   "source": [
    "# Scaling"
   ]
  },
  {
   "cell_type": "markdown",
   "metadata": {},
   "source": [
    "* Scaling the data will improve the predictive performance of some machine learning models.  \n",
    "    * Without scaling, gradient-based estimating models (such as linear or logistic regression) will take longer to converge or may not be able to converge at all."
   ]
  },
  {
   "cell_type": "code",
   "execution_count": 9,
   "metadata": {
    "ExecuteTime": {
     "end_time": "2020-08-04T18:53:33.273239Z",
     "start_time": "2020-08-04T18:53:33.270962Z"
    }
   },
   "outputs": [],
   "source": [
    "scaler = RobustScaler()"
   ]
  },
  {
   "cell_type": "markdown",
   "metadata": {},
   "source": [
    "* As seen earlier with the \"Distribution of Amount\", the data is not normally distributed and there are a lot of outliers in our data, so we have chosen to use Robust Scaling, rather than Standard Scaling."
   ]
  },
  {
   "cell_type": "code",
   "execution_count": 10,
   "metadata": {
    "ExecuteTime": {
     "end_time": "2020-08-04T18:53:33.474428Z",
     "start_time": "2020-08-04T18:53:33.274519Z"
    }
   },
   "outputs": [],
   "source": [
    "# Fit scaler on training data and transform Training data\n",
    "X_train = scaler.fit_transform(X_train)\n",
    "\n",
    "# Use the scaler to transform the Test data\n",
    "X_test = scaler.transform(X_test)"
   ]
  },
  {
   "cell_type": "markdown",
   "metadata": {},
   "source": [
    "* We must be careful to only scale the test data using the scaling parameters learned on the train data."
   ]
  },
  {
   "cell_type": "markdown",
   "metadata": {},
   "source": [
    "# Resampling"
   ]
  },
  {
   "cell_type": "markdown",
   "metadata": {},
   "source": [
    "We will be using resampling techniques to improve the effectiveness of our machine learning models\n",
    "* Resampling involves drawing repeated samples from the original dataset to create a new dataset which either reduces the ratio of the majority class (undersampling) or increases the ratio of the minority class (oversampling). A combination of the two can also be used.\n",
    "\n",
    "For this project we will be using **Random Undersampling** and **Synthetic Minority Oversampling TEchnique (SMOTE)**.\n",
    "\n",
    "### Random Undersampling\n",
    "* This technique under-samples the majority class (legitimate transactions) randomly and uniformly.  \n",
    "* This can lead to a loss of information, but if the transactions have similar feature values this loss will be minimized. \n",
    "\n",
    "### SMOTE\n",
    "* This technique over-samples the minority class by generating synthetic data.\n",
    "* This new data is based on the feature space similarities between fraudulent transactions. \n",
    "    * It finds the K-nearest neighbors of an individual fraudulent transaction and randomly selects one of them.  \n",
    "    * A new fraudulent transaction is then synthetically generated in between the original fraud transaction and its neighbor.\n",
    "    \n",
    "Note that we **do not resample the test data**, as it represents unseen data. If it is unseen, we will not know which class it falls in, and thus we will not know whether to undersample or oversample it."
   ]
  },
  {
   "cell_type": "code",
   "execution_count": 11,
   "metadata": {
    "ExecuteTime": {
     "end_time": "2020-08-04T19:54:23.081416Z",
     "start_time": "2020-08-04T19:54:22.591330Z"
    },
    "scrolled": true
   },
   "outputs": [
    {
     "name": "stdout",
     "output_type": "stream",
     "text": [
      "Distribution of data before resampling:\n",
      "\t0: 199020\t1: 344\t\t(578.5 : 1)\n",
      "Distribution after SMOTE:\n",
      "\t0: 199020\t1: 199020\t(1.0 : 1)\n",
      "Distribution after Random Undersampling:\n",
      "\t0: 344\t\t1: 344\t\t(1.0 : 1)\n",
      "Distribution after SMOTE and Random Undersampling:\n",
      "\t0: 39804\t1: 19902\t(2.0 : 1)\n"
     ]
    }
   ],
   "source": [
    "# summarize class distribution before resampling\n",
    "counter = Counter(y_train)\n",
    "print('Distribution of data before resampling:')\n",
    "ratio = round(counter[0]/counter[1], 1)\n",
    "print('\\t0: {}\\t1: {}\\t\\t({} : 1)'.format(counter[0], counter[1], ratio))\n",
    "\n",
    "# Resample the dataset with SMOTE\n",
    "resample_smote = SMOTE(sampling_strategy='auto', random_state=random_seed)\n",
    "resample_smote.fit(X_train, y_train)\n",
    "X_train_smote, y_train_smote = resample_smote.fit_resample(X_train, y_train)\n",
    "counter = Counter(y_train_smote)\n",
    "print('Distribution after SMOTE:')\n",
    "ratio = round(counter[0]/counter[1], 1)\n",
    "print('\\t0: {}\\t1: {}\\t({} : 1)'.format(counter[0], counter[1], ratio))\n",
    "\n",
    "# Resample the dataset with Random Undersampling\n",
    "resample_under = RandomUnderSampler(sampling_strategy='auto', random_state=random_seed)\n",
    "resample_under.fit(X_train, y_train)\n",
    "X_train_under, y_train_under = resample_under.fit_resample(X_train, y_train)\n",
    "counter = Counter(y_train_under)\n",
    "print('Distribution after Random Undersampling:')\n",
    "ratio = round(counter[0]/counter[1], 1)\n",
    "print('\\t0: {}\\t\\t1: {}\\t\\t({} : 1)'.format(counter[0], counter[1], ratio))\n",
    "\n",
    "# Resample the dataset with SMOTE and Random Undersampling\n",
    "over = SMOTE(sampling_strategy=0.1, random_state=random_seed)\n",
    "under = RandomUnderSampler(sampling_strategy=0.5, random_state=random_seed)\n",
    "steps = [('o', over), ('u', under)]\n",
    "resample_smote_under = Pipeline(steps=steps)\n",
    "resample_smote_under.fit(X_train, y_train)\n",
    "X_train_smote_under, y_train_smote_under = resample_smote_under.fit_resample(X_train, y_train)\n",
    "counter = Counter(y_train_smote_under)\n",
    "print('Distribution after SMOTE and Random Undersampling:')\n",
    "ratio = round(counter[0]/counter[1], 1)\n",
    "print('\\t0: {}\\t1: {}\\t({} : 1)'.format(counter[0], counter[1], ratio))"
   ]
  },
  {
   "cell_type": "markdown",
   "metadata": {},
   "source": [
    "# Modeling"
   ]
  },
  {
   "cell_type": "markdown",
   "metadata": {},
   "source": [
    "## Pandas Dataframe to keep track of Scores"
   ]
  },
  {
   "cell_type": "code",
   "execution_count": 66,
   "metadata": {
    "ExecuteTime": {
     "end_time": "2020-08-04T20:42:28.723832Z",
     "start_time": "2020-08-04T20:42:28.715745Z"
    }
   },
   "outputs": [],
   "source": [
    "# Build scores dataframes for comparison\n",
    "scores_columns = ['Original', 'SMOTE', 'Undersampled', 'SMOTE & Undersampled']\n",
    "# F1 scores\n",
    "f1_scores_df = pd.DataFrame(columns=scores_columns)\n",
    "# Recall scores\n",
    "recall_scores_df = pd.DataFrame(columns=scores_columns)"
   ]
  },
  {
   "cell_type": "markdown",
   "metadata": {},
   "source": [
    "## GridSearch"
   ]
  },
  {
   "cell_type": "markdown",
   "metadata": {},
   "source": [
    "* The function we use makes use of sklearn's GridSearchCV function.  \n",
    "* Grid Search is an exhaustive search using the parameter values that we provide, in order to optimize our model\n",
    "    * Not every possible parameter combination is tested, so we can not guarantee a globally optimal combination of parameter values.\n",
    "    * The model will ony be as good as the possible combinations of parameters that we provide.\n",
    "    * the more parameter combinations we input, the longer the model will take to run"
   ]
  },
  {
   "cell_type": "markdown",
   "metadata": {},
   "source": [
    "## Baseline Model & Model Metrics"
   ]
  },
  {
   "cell_type": "markdown",
   "metadata": {},
   "source": [
    "Due to the high imbalance in our dataset, it is very easy to obtain a high accuracy by simply classifying every observation as the majority class (non-fraud)."
   ]
  },
  {
   "cell_type": "code",
   "execution_count": 67,
   "metadata": {
    "ExecuteTime": {
     "end_time": "2020-08-04T20:42:34.847731Z",
     "start_time": "2020-08-04T20:42:34.821320Z"
    }
   },
   "outputs": [
    {
     "name": "stdout",
     "output_type": "stream",
     "text": [
      "Baseline Model Accuracy: 0.99827\n"
     ]
    }
   ],
   "source": [
    "# Baseline model that all predictions are majority class\n",
    "y_pred_base = [0] * len(y_test)\n",
    "\n",
    "# Calculate Accuracy of Baseline Model\n",
    "acc_base = round(accuracy_score(y_test, y_pred_base), 5)\n",
    "print('Baseline Model Accuracy: {}'.format(acc_base))"
   ]
  },
  {
   "cell_type": "markdown",
   "metadata": {},
   "source": [
    "A model with this level of accuracy will initially seem highly successful, but once we realise it has not caught a single fraudulent transaction, we then realise that **we need a different performance metric to accuracy**.  \n",
    "   * 99.83% Accuracy can still be used as a starting point, or baseline, from which more sophisticated models can improve upon.\n",
    "\n",
    "Alternative metrics to Accuracy include:  \n",
    "\n",
    "### Precision \n",
    "\\begin{equation*}\n",
    "\\frac{True Positives}{True Positives + False Positives}\n",
    "\\end{equation*}\n",
    "\n",
    "### Recall\n",
    "\\begin{equation*}\n",
    "\\frac{True Positives}{True Positives + False Negatives}\n",
    "\\end{equation*}\n",
    "\n",
    "### F1 Score\n",
    "\\begin{equation*}\n",
    "2*\\frac{Precision * Recall}{Precision + Recall}\n",
    "\\end{equation*}\n",
    "\n",
    "\n",
    "When seeking to classify fraudulent transactions, the **cost for misclassifying frauds** (False Negative) **is greater than misclassifying a legitimate transaction** (False Positive).\n",
    "   * An undetected fraud could potentially cost the customer and bank a lot of money.\n",
    "   * A legitimate transaction, flagged as fraud, may cause inconvenience for the customer and requires a team within the bank to authorize the transaction.\n",
    "   \n",
    "For our model we will **focus on the F1 Score** and place more emphasis on a high **Recall** rather than Precision.\n",
    "* The F1 Score will be the most useful metric as it is includes Recall and Precision.\n",
    "* Focusing more on Recall reflects the fact that classifying frauds (class 1) is more important than classifying legitimate transactions (class 0)."
   ]
  },
  {
   "cell_type": "code",
   "execution_count": 68,
   "metadata": {
    "ExecuteTime": {
     "end_time": "2020-08-04T20:42:35.171980Z",
     "start_time": "2020-08-04T20:42:35.123843Z"
    }
   },
   "outputs": [
    {
     "name": "stdout",
     "output_type": "stream",
     "text": [
      "Baseline Model F1 Score: 0.0\n"
     ]
    }
   ],
   "source": [
    "# Calculate F1 Score of Baseline Model\n",
    "f1_base = round(f1_score(y_test, y_pred_base), 8)\n",
    "print('Baseline Model F1 Score: {}'.format(f1_base))"
   ]
  },
  {
   "cell_type": "code",
   "execution_count": 69,
   "metadata": {
    "ExecuteTime": {
     "end_time": "2020-08-04T20:42:35.396783Z",
     "start_time": "2020-08-04T20:42:35.347371Z"
    }
   },
   "outputs": [
    {
     "name": "stdout",
     "output_type": "stream",
     "text": [
      "Baseline Mode Recall Score: 0.0\n"
     ]
    }
   ],
   "source": [
    "# Calculate Recall of Baseline Model\n",
    "recall_base = round(recall_score(y_test, y_pred_base), 8)\n",
    "print('Baseline Mode Recall Score: {}'.format(recall_base))"
   ]
  },
  {
   "cell_type": "markdown",
   "metadata": {},
   "source": [
    "Both the Baseline Model's F1 Score and Recall are terrible as both Precision and Recall are equal to 0."
   ]
  },
  {
   "cell_type": "code",
   "execution_count": 70,
   "metadata": {
    "ExecuteTime": {
     "end_time": "2020-08-04T20:42:35.604219Z",
     "start_time": "2020-08-04T20:42:35.596337Z"
    }
   },
   "outputs": [
    {
     "data": {
      "text/html": [
       "<div>\n",
       "<style scoped>\n",
       "    .dataframe tbody tr th:only-of-type {\n",
       "        vertical-align: middle;\n",
       "    }\n",
       "\n",
       "    .dataframe tbody tr th {\n",
       "        vertical-align: top;\n",
       "    }\n",
       "\n",
       "    .dataframe thead th {\n",
       "        text-align: right;\n",
       "    }\n",
       "</style>\n",
       "<table border=\"1\" class=\"dataframe\">\n",
       "  <thead>\n",
       "    <tr style=\"text-align: right;\">\n",
       "      <th></th>\n",
       "      <th>Original</th>\n",
       "      <th>SMOTE</th>\n",
       "      <th>Undersampled</th>\n",
       "      <th>SMOTE &amp; Undersampled</th>\n",
       "    </tr>\n",
       "  </thead>\n",
       "  <tbody>\n",
       "    <tr>\n",
       "      <td>Baseline</td>\n",
       "      <td>0.0</td>\n",
       "      <td>0.0</td>\n",
       "      <td>0.0</td>\n",
       "      <td>0.0</td>\n",
       "    </tr>\n",
       "  </tbody>\n",
       "</table>\n",
       "</div>"
      ],
      "text/plain": [
       "          Original  SMOTE  Undersampled  SMOTE & Undersampled\n",
       "Baseline       0.0    0.0           0.0                   0.0"
      ]
     },
     "execution_count": 70,
     "metadata": {},
     "output_type": "execute_result"
    }
   ],
   "source": [
    "f1_scores_df.loc['Baseline'] = [f1_base] * 4\n",
    "f1_scores_df"
   ]
  },
  {
   "cell_type": "code",
   "execution_count": 71,
   "metadata": {
    "ExecuteTime": {
     "end_time": "2020-08-04T20:42:35.833287Z",
     "start_time": "2020-08-04T20:42:35.823699Z"
    }
   },
   "outputs": [
    {
     "data": {
      "text/html": [
       "<div>\n",
       "<style scoped>\n",
       "    .dataframe tbody tr th:only-of-type {\n",
       "        vertical-align: middle;\n",
       "    }\n",
       "\n",
       "    .dataframe tbody tr th {\n",
       "        vertical-align: top;\n",
       "    }\n",
       "\n",
       "    .dataframe thead th {\n",
       "        text-align: right;\n",
       "    }\n",
       "</style>\n",
       "<table border=\"1\" class=\"dataframe\">\n",
       "  <thead>\n",
       "    <tr style=\"text-align: right;\">\n",
       "      <th></th>\n",
       "      <th>Original</th>\n",
       "      <th>SMOTE</th>\n",
       "      <th>Undersampled</th>\n",
       "      <th>SMOTE &amp; Undersampled</th>\n",
       "    </tr>\n",
       "  </thead>\n",
       "  <tbody>\n",
       "    <tr>\n",
       "      <td>Baseline</td>\n",
       "      <td>0.0</td>\n",
       "      <td>0.0</td>\n",
       "      <td>0.0</td>\n",
       "      <td>0.0</td>\n",
       "    </tr>\n",
       "  </tbody>\n",
       "</table>\n",
       "</div>"
      ],
      "text/plain": [
       "          Original  SMOTE  Undersampled  SMOTE & Undersampled\n",
       "Baseline       0.0    0.0           0.0                   0.0"
      ]
     },
     "execution_count": 71,
     "metadata": {},
     "output_type": "execute_result"
    }
   ],
   "source": [
    "recall_scores_df.loc['Baseline'] = [recall_base] * 4\n",
    "recall_scores_df"
   ]
  },
  {
   "cell_type": "markdown",
   "metadata": {},
   "source": [
    "## Gaussian Naive Bayes (GNB)"
   ]
  },
  {
   "cell_type": "markdown",
   "metadata": {},
   "source": [
    "This classification is based on Bayes' Theorem and although one of the earliest classification techniques, is still extremey powerful.  \n",
    "\n",
    "The classifier is essentially asking, \"given the Amount = X, the V1 = Y, V2 = Z etc...what is the most likely Class for this observation?\""
   ]
  },
  {
   "cell_type": "markdown",
   "metadata": {},
   "source": [
    "s a classification technique based on Bayes’ Theorem with an assumption of independence among predictors. In simple terms, a Naive Bayes classifier assumes that the presence of a particular feature in a class is unrelated to the presence of any other feature. For example, a fruit may be considered to be an apple if it is red, round, and about 3 inches in diameter. Even if these features depend on each other or upon the existence of the other features, all of these properties independently contribute to the probability that this fruit is an apple and that is why it is known as ‘Naive’."
   ]
  },
  {
   "cell_type": "code",
   "execution_count": 72,
   "metadata": {
    "ExecuteTime": {
     "end_time": "2020-08-04T20:42:36.427164Z",
     "start_time": "2020-08-04T20:42:36.424427Z"
    }
   },
   "outputs": [],
   "source": [
    "# Instantiate Gaussian Naive Bayes Classifer\n",
    "clf_gnb = GaussianNB()\n",
    "\n",
    "# Build Parameter Grid\n",
    "param_grid_gnb = {}"
   ]
  },
  {
   "cell_type": "markdown",
   "metadata": {},
   "source": [
    "### Gaussian Naive Bayes - Original Dataset"
   ]
  },
  {
   "cell_type": "code",
   "execution_count": 73,
   "metadata": {
    "ExecuteTime": {
     "end_time": "2020-08-04T20:42:37.370489Z",
     "start_time": "2020-08-04T20:42:36.775644Z"
    }
   },
   "outputs": [
    {
     "name": "stdout",
     "output_type": "stream",
     "text": [
      "Best Test Data F1 score: 0.11738\n",
      "Best Test Data Recall score: 0.11738\n",
      "\n",
      "Optimal parameters:\n"
     ]
    }
   ],
   "source": [
    "# Gaussian Bayes with SMOTE training data\n",
    "f1_gnb_original, recall_gnb_original, y_pred_gnb_original, y_pred_proba_gnb_original = best_model_score(clf_gnb, param_grid_gnb, X_train, y_train, X_test, y_test)"
   ]
  },
  {
   "cell_type": "markdown",
   "metadata": {},
   "source": [
    "### Gaussian Naive Bayes - SMOTE"
   ]
  },
  {
   "cell_type": "code",
   "execution_count": 74,
   "metadata": {
    "ExecuteTime": {
     "end_time": "2020-08-04T20:42:38.677177Z",
     "start_time": "2020-08-04T20:42:37.536585Z"
    },
    "scrolled": false
   },
   "outputs": [
    {
     "name": "stdout",
     "output_type": "stream",
     "text": [
      "Best Test Data F1 score: 0.10399\n",
      "Best Test Data Recall score: 0.10399\n",
      "\n",
      "Optimal parameters:\n"
     ]
    }
   ],
   "source": [
    "# Gaussian Bayes with SMOTE training data\n",
    "f1_gnb_smote, recall_gnb_smote, y_pred_gnb_smote, y_pred_proba_gnb_smote = best_model_score(clf_gnb, param_grid_gnb, X_train_smote, y_train_smote, X_test, y_test)"
   ]
  },
  {
   "cell_type": "markdown",
   "metadata": {},
   "source": [
    "### Gaussian Naive Bayes - RandomUndersampling"
   ]
  },
  {
   "cell_type": "code",
   "execution_count": 75,
   "metadata": {
    "ExecuteTime": {
     "end_time": "2020-08-04T20:42:38.935895Z",
     "start_time": "2020-08-04T20:42:38.844878Z"
    },
    "scrolled": false
   },
   "outputs": [
    {
     "name": "stdout",
     "output_type": "stream",
     "text": [
      "Best Test Data F1 score: 0.0723\n",
      "Best Test Data Recall score: 0.0723\n",
      "\n",
      "Optimal parameters:\n"
     ]
    }
   ],
   "source": [
    "# Gaussian Bayes with Undersampled training data\n",
    "f1_gnb_under, recall_gnb_under, y_pred_gnb_under, y_pred_proba_gnb_under = best_model_score(clf_gnb, param_grid_gnb, X_train_under, y_train_under, X_test, y_test)"
   ]
  },
  {
   "cell_type": "markdown",
   "metadata": {},
   "source": [
    "### Gaussian Naive Bayes - SMOTE & RandomUndersampling"
   ]
  },
  {
   "cell_type": "code",
   "execution_count": 76,
   "metadata": {
    "ExecuteTime": {
     "end_time": "2020-08-04T20:42:39.326998Z",
     "start_time": "2020-08-04T20:42:39.091146Z"
    },
    "scrolled": false
   },
   "outputs": [
    {
     "name": "stdout",
     "output_type": "stream",
     "text": [
      "Best Test Data F1 score: 0.10441\n",
      "Best Test Data Recall score: 0.10441\n",
      "\n",
      "Optimal parameters:\n"
     ]
    }
   ],
   "source": [
    "# Gaussian Bayes with SMOTE and Undersampled training data\n",
    "f1_gnb_smote_under, recall_gnb_smote_under, y_pred_gnb_smote_under, y_pred_proba_gnb_smote_under = best_model_score(clf_gnb, param_grid_gnb, X_train_smote_under, y_train_smote_under, X_test, y_test)"
   ]
  },
  {
   "cell_type": "code",
   "execution_count": 77,
   "metadata": {
    "ExecuteTime": {
     "end_time": "2020-08-04T20:42:39.520172Z",
     "start_time": "2020-08-04T20:42:39.512484Z"
    },
    "scrolled": false
   },
   "outputs": [
    {
     "data": {
      "text/html": [
       "<div>\n",
       "<style scoped>\n",
       "    .dataframe tbody tr th:only-of-type {\n",
       "        vertical-align: middle;\n",
       "    }\n",
       "\n",
       "    .dataframe tbody tr th {\n",
       "        vertical-align: top;\n",
       "    }\n",
       "\n",
       "    .dataframe thead th {\n",
       "        text-align: right;\n",
       "    }\n",
       "</style>\n",
       "<table border=\"1\" class=\"dataframe\">\n",
       "  <thead>\n",
       "    <tr style=\"text-align: right;\">\n",
       "      <th></th>\n",
       "      <th>Original</th>\n",
       "      <th>SMOTE</th>\n",
       "      <th>Undersampled</th>\n",
       "      <th>SMOTE &amp; Undersampled</th>\n",
       "    </tr>\n",
       "  </thead>\n",
       "  <tbody>\n",
       "    <tr>\n",
       "      <td>Baseline</td>\n",
       "      <td>0.000000</td>\n",
       "      <td>0.00000</td>\n",
       "      <td>0.000000</td>\n",
       "      <td>0.000000</td>\n",
       "    </tr>\n",
       "    <tr>\n",
       "      <td>Gaussian Naive Bayes</td>\n",
       "      <td>0.117377</td>\n",
       "      <td>0.10399</td>\n",
       "      <td>0.072303</td>\n",
       "      <td>0.104411</td>\n",
       "    </tr>\n",
       "  </tbody>\n",
       "</table>\n",
       "</div>"
      ],
      "text/plain": [
       "                      Original    SMOTE  Undersampled  SMOTE & Undersampled\n",
       "Baseline              0.000000  0.00000      0.000000              0.000000\n",
       "Gaussian Naive Bayes  0.117377  0.10399      0.072303              0.104411"
      ]
     },
     "execution_count": 77,
     "metadata": {},
     "output_type": "execute_result"
    }
   ],
   "source": [
    "# Add F1 Scores to F1 scores dataframe\n",
    "f1_scores_df.loc['Gaussian Naive Bayes'] = [f1_gnb_original, f1_gnb_smote, f1_gnb_under, f1_gnb_smote_under]\n",
    "f1_scores_df"
   ]
  },
  {
   "cell_type": "code",
   "execution_count": 78,
   "metadata": {
    "ExecuteTime": {
     "end_time": "2020-08-04T20:42:39.681439Z",
     "start_time": "2020-08-04T20:42:39.672407Z"
    },
    "scrolled": true
   },
   "outputs": [
    {
     "data": {
      "text/html": [
       "<div>\n",
       "<style scoped>\n",
       "    .dataframe tbody tr th:only-of-type {\n",
       "        vertical-align: middle;\n",
       "    }\n",
       "\n",
       "    .dataframe tbody tr th {\n",
       "        vertical-align: top;\n",
       "    }\n",
       "\n",
       "    .dataframe thead th {\n",
       "        text-align: right;\n",
       "    }\n",
       "</style>\n",
       "<table border=\"1\" class=\"dataframe\">\n",
       "  <thead>\n",
       "    <tr style=\"text-align: right;\">\n",
       "      <th></th>\n",
       "      <th>Original</th>\n",
       "      <th>SMOTE</th>\n",
       "      <th>Undersampled</th>\n",
       "      <th>SMOTE &amp; Undersampled</th>\n",
       "    </tr>\n",
       "  </thead>\n",
       "  <tbody>\n",
       "    <tr>\n",
       "      <td>Baseline</td>\n",
       "      <td>0.000000</td>\n",
       "      <td>0.000000</td>\n",
       "      <td>0.000000</td>\n",
       "      <td>0.000000</td>\n",
       "    </tr>\n",
       "    <tr>\n",
       "      <td>Gaussian Naive Bayes</td>\n",
       "      <td>0.864865</td>\n",
       "      <td>0.871622</td>\n",
       "      <td>0.878378</td>\n",
       "      <td>0.871622</td>\n",
       "    </tr>\n",
       "  </tbody>\n",
       "</table>\n",
       "</div>"
      ],
      "text/plain": [
       "                      Original     SMOTE  Undersampled  SMOTE & Undersampled\n",
       "Baseline              0.000000  0.000000      0.000000              0.000000\n",
       "Gaussian Naive Bayes  0.864865  0.871622      0.878378              0.871622"
      ]
     },
     "execution_count": 78,
     "metadata": {},
     "output_type": "execute_result"
    }
   ],
   "source": [
    "# Add Recal Scores to Recall scores dataframe\n",
    "recall_scores_df.loc['Gaussian Naive Bayes'] = [recall_gnb_original, recall_gnb_smote, recall_gnb_under, recall_gnb_smote_under]\n",
    "recall_scores_df"
   ]
  },
  {
   "cell_type": "markdown",
   "metadata": {},
   "source": [
    "## Random Forest"
   ]
  },
  {
   "cell_type": "markdown",
   "metadata": {},
   "source": [
    "A Random Forest classifier uses an ensemble of decision trees that are trained using different portions of the data and different combinations of features. The forests predicts based on what the majority of trees in the forest predict."
   ]
  },
  {
   "cell_type": "code",
   "execution_count": 79,
   "metadata": {
    "ExecuteTime": {
     "end_time": "2020-08-04T20:42:39.843346Z",
     "start_time": "2020-08-04T20:42:39.838959Z"
    }
   },
   "outputs": [],
   "source": [
    "# Instantiate Random Forest Classifer\n",
    "clf_rf = RandomForestClassifier(n_jobs=-1)\n",
    "\n",
    "# Build Parameter Grid\n",
    "param_grid_rf = {'n_estimators': [30], \n",
    "                  'class_weight': [{0: 1, 1: 2}],\n",
    "                  'clf__criterion': ['gini', 'entropy'], \n",
    "                   'clf__min_samples_leaf': [1], \n",
    "                   'clf__max_depth': [None], \n",
    "                   'clf__min_samples_split': [2]\n",
    "                  }"
   ]
  },
  {
   "cell_type": "markdown",
   "metadata": {},
   "source": [
    "Class weights ensure that there is a higher penalty for misclassifying instances of fraud."
   ]
  },
  {
   "cell_type": "code",
   "execution_count": 80,
   "metadata": {
    "ExecuteTime": {
     "end_time": "2020-08-04T20:42:39.984908Z",
     "start_time": "2020-08-04T20:42:39.982348Z"
    }
   },
   "outputs": [],
   "source": [
    "# Instantiate Random Forest Classifer\n",
    "clf_rf = RandomForestClassifier(n_estimators=30, n_jobs=-1)\n",
    "\n",
    "# Build Parameter Grid\n",
    "param_grid_rf = {}"
   ]
  },
  {
   "cell_type": "markdown",
   "metadata": {},
   "source": [
    "### Random Forest - Original Dataset"
   ]
  },
  {
   "cell_type": "code",
   "execution_count": 81,
   "metadata": {
    "ExecuteTime": {
     "end_time": "2020-08-04T20:43:09.020089Z",
     "start_time": "2020-08-04T20:42:40.764074Z"
    }
   },
   "outputs": [
    {
     "name": "stdout",
     "output_type": "stream",
     "text": [
      "Best Test Data F1 score: 0.89209\n",
      "Best Test Data Recall score: 0.89209\n",
      "\n",
      "Optimal parameters:\n"
     ]
    }
   ],
   "source": [
    "f1_rf_original, recall_rf_original, y_pred_rf_original, y_pred_proba_rf_original = best_model_score(clf_rf, param_grid_rf, X_train, y_train, X_test, y_test)"
   ]
  },
  {
   "cell_type": "markdown",
   "metadata": {},
   "source": [
    "### Random Forest - SMOTE"
   ]
  },
  {
   "cell_type": "code",
   "execution_count": 82,
   "metadata": {
    "ExecuteTime": {
     "end_time": "2020-08-04T20:43:58.606100Z",
     "start_time": "2020-08-04T20:43:09.173561Z"
    }
   },
   "outputs": [
    {
     "name": "stdout",
     "output_type": "stream",
     "text": [
      "Best Test Data F1 score: 0.87671\n",
      "Best Test Data Recall score: 0.87671\n",
      "\n",
      "Optimal parameters:\n"
     ]
    }
   ],
   "source": [
    "f1_rf_smote, recall_rf_smote, y_pred_rf_smote, y_pred_proba_rf_smote = best_model_score(clf_rf, param_grid_rf, X_train_smote, y_train_smote, X_test, y_test)"
   ]
  },
  {
   "cell_type": "markdown",
   "metadata": {},
   "source": [
    "### Random Forest - RandomUndersampling"
   ]
  },
  {
   "cell_type": "code",
   "execution_count": 83,
   "metadata": {
    "ExecuteTime": {
     "end_time": "2020-08-04T20:43:59.650846Z",
     "start_time": "2020-08-04T20:43:58.781549Z"
    }
   },
   "outputs": [
    {
     "name": "stdout",
     "output_type": "stream",
     "text": [
      "Best Test Data F1 score: 0.09717\n",
      "Best Test Data Recall score: 0.09717\n",
      "\n",
      "Optimal parameters:\n"
     ]
    }
   ],
   "source": [
    "f1_rf_under, recall_rf_under, y_pred_rf_under, y_pred_proba_rf_under = best_model_score(clf_rf, param_grid_rf, X_train_under, y_train_under, X_test, y_test)"
   ]
  },
  {
   "cell_type": "markdown",
   "metadata": {},
   "source": [
    "### Random Forest - SMOTE & RandomUndersampling"
   ]
  },
  {
   "cell_type": "code",
   "execution_count": 84,
   "metadata": {
    "ExecuteTime": {
     "end_time": "2020-08-04T20:44:05.154501Z",
     "start_time": "2020-08-04T20:43:59.823903Z"
    }
   },
   "outputs": [
    {
     "name": "stdout",
     "output_type": "stream",
     "text": [
      "Best Test Data F1 score: 0.77647\n",
      "Best Test Data Recall score: 0.77647\n",
      "\n",
      "Optimal parameters:\n"
     ]
    }
   ],
   "source": [
    "f1_rf_smote_under, recall_rf_smote_under, y_pred_rf_smote_under, y_pred_proba_rf_smote_under = best_model_score(clf_rf, param_grid_rf, X_train_smote_under, y_train_smote_under, X_test, y_test)"
   ]
  },
  {
   "cell_type": "code",
   "execution_count": 85,
   "metadata": {
    "ExecuteTime": {
     "end_time": "2020-08-04T20:44:05.362847Z",
     "start_time": "2020-08-04T20:44:05.353876Z"
    }
   },
   "outputs": [
    {
     "data": {
      "text/html": [
       "<div>\n",
       "<style scoped>\n",
       "    .dataframe tbody tr th:only-of-type {\n",
       "        vertical-align: middle;\n",
       "    }\n",
       "\n",
       "    .dataframe tbody tr th {\n",
       "        vertical-align: top;\n",
       "    }\n",
       "\n",
       "    .dataframe thead th {\n",
       "        text-align: right;\n",
       "    }\n",
       "</style>\n",
       "<table border=\"1\" class=\"dataframe\">\n",
       "  <thead>\n",
       "    <tr style=\"text-align: right;\">\n",
       "      <th></th>\n",
       "      <th>Original</th>\n",
       "      <th>SMOTE</th>\n",
       "      <th>Undersampled</th>\n",
       "      <th>SMOTE &amp; Undersampled</th>\n",
       "    </tr>\n",
       "  </thead>\n",
       "  <tbody>\n",
       "    <tr>\n",
       "      <td>Baseline</td>\n",
       "      <td>0.000000</td>\n",
       "      <td>0.000000</td>\n",
       "      <td>0.000000</td>\n",
       "      <td>0.000000</td>\n",
       "    </tr>\n",
       "    <tr>\n",
       "      <td>Gaussian Naive Bayes</td>\n",
       "      <td>0.117377</td>\n",
       "      <td>0.103990</td>\n",
       "      <td>0.072303</td>\n",
       "      <td>0.104411</td>\n",
       "    </tr>\n",
       "    <tr>\n",
       "      <td>Random Forest</td>\n",
       "      <td>0.892086</td>\n",
       "      <td>0.876712</td>\n",
       "      <td>0.097172</td>\n",
       "      <td>0.776471</td>\n",
       "    </tr>\n",
       "  </tbody>\n",
       "</table>\n",
       "</div>"
      ],
      "text/plain": [
       "                      Original     SMOTE  Undersampled  SMOTE & Undersampled\n",
       "Baseline              0.000000  0.000000      0.000000              0.000000\n",
       "Gaussian Naive Bayes  0.117377  0.103990      0.072303              0.104411\n",
       "Random Forest         0.892086  0.876712      0.097172              0.776471"
      ]
     },
     "execution_count": 85,
     "metadata": {},
     "output_type": "execute_result"
    }
   ],
   "source": [
    "f1_scores_df.loc['Random Forest'] = [f1_rf_original, f1_rf_smote, f1_rf_under, f1_rf_smote_under]\n",
    "f1_scores_df"
   ]
  },
  {
   "cell_type": "code",
   "execution_count": 86,
   "metadata": {
    "ExecuteTime": {
     "end_time": "2020-08-04T20:44:05.530743Z",
     "start_time": "2020-08-04T20:44:05.522019Z"
    }
   },
   "outputs": [
    {
     "data": {
      "text/html": [
       "<div>\n",
       "<style scoped>\n",
       "    .dataframe tbody tr th:only-of-type {\n",
       "        vertical-align: middle;\n",
       "    }\n",
       "\n",
       "    .dataframe tbody tr th {\n",
       "        vertical-align: top;\n",
       "    }\n",
       "\n",
       "    .dataframe thead th {\n",
       "        text-align: right;\n",
       "    }\n",
       "</style>\n",
       "<table border=\"1\" class=\"dataframe\">\n",
       "  <thead>\n",
       "    <tr style=\"text-align: right;\">\n",
       "      <th></th>\n",
       "      <th>Original</th>\n",
       "      <th>SMOTE</th>\n",
       "      <th>Undersampled</th>\n",
       "      <th>SMOTE &amp; Undersampled</th>\n",
       "    </tr>\n",
       "  </thead>\n",
       "  <tbody>\n",
       "    <tr>\n",
       "      <td>Baseline</td>\n",
       "      <td>0.000000</td>\n",
       "      <td>0.000000</td>\n",
       "      <td>0.000000</td>\n",
       "      <td>0.000000</td>\n",
       "    </tr>\n",
       "    <tr>\n",
       "      <td>Gaussian Naive Bayes</td>\n",
       "      <td>0.864865</td>\n",
       "      <td>0.871622</td>\n",
       "      <td>0.878378</td>\n",
       "      <td>0.871622</td>\n",
       "    </tr>\n",
       "    <tr>\n",
       "      <td>Random Forest</td>\n",
       "      <td>0.837838</td>\n",
       "      <td>0.864865</td>\n",
       "      <td>0.905405</td>\n",
       "      <td>0.891892</td>\n",
       "    </tr>\n",
       "  </tbody>\n",
       "</table>\n",
       "</div>"
      ],
      "text/plain": [
       "                      Original     SMOTE  Undersampled  SMOTE & Undersampled\n",
       "Baseline              0.000000  0.000000      0.000000              0.000000\n",
       "Gaussian Naive Bayes  0.864865  0.871622      0.878378              0.871622\n",
       "Random Forest         0.837838  0.864865      0.905405              0.891892"
      ]
     },
     "execution_count": 86,
     "metadata": {},
     "output_type": "execute_result"
    }
   ],
   "source": [
    "recall_scores_df.loc['Random Forest'] = [recall_rf_original, recall_rf_smote, recall_rf_under, recall_rf_smote_under]\n",
    "recall_scores_df"
   ]
  },
  {
   "cell_type": "markdown",
   "metadata": {},
   "source": [
    "## XGBoost"
   ]
  },
  {
   "cell_type": "markdown",
   "metadata": {},
   "source": [
    "eXtreme Gradient Boosting (XGBoost) is a form of gradient-boosted decision trees. \n",
    "\n",
    "In a standard ensemble method such as Random Forest, models are trained in isolation so all of the models might make the same mistakes.\n",
    "\n",
    "Gradient Boosting methods, such as XGBoost, trains the Trees in succession.  \n",
    "* Each new Tree is trained to correct the errors made by the previous Trees.  \n",
    "* Trees are added sequentially until either no further improvements can be made or a specified number of trees is reached.\n",
    "* Note that Boosted classifiers do not necessarily have to be tree-based, though often are.\n",
    "\n",
    "\n"
   ]
  },
  {
   "cell_type": "code",
   "execution_count": 88,
   "metadata": {
    "ExecuteTime": {
     "end_time": "2020-08-04T20:45:48.787126Z",
     "start_time": "2020-08-04T20:45:48.783726Z"
    }
   },
   "outputs": [],
   "source": [
    "# Instantiate XGBClassifier\n",
    "clf_xgb = XGBClassifier(booster='gbtree', \n",
    "                    seed=random_seed\n",
    "                   )\n",
    "\n",
    "# Build Parameter Grid\n",
    "param_grid_xgb = {\n",
    "    'learning_rate': [0.3],\n",
    "    'objective': ['binary:logistic', 'binary:hinge'],\n",
    "    'max_depth': [10],\n",
    "    'min_child_weight': [3],\n",
    "}"
   ]
  },
  {
   "cell_type": "markdown",
   "metadata": {},
   "source": [
    "### XGBoost - Original Dataset"
   ]
  },
  {
   "cell_type": "code",
   "execution_count": 89,
   "metadata": {
    "ExecuteTime": {
     "end_time": "2020-08-04T20:47:09.106744Z",
     "start_time": "2020-08-04T20:45:51.138556Z"
    }
   },
   "outputs": [
    {
     "name": "stdout",
     "output_type": "stream",
     "text": [
      "Best Test Data F1 score: 0.8777\n",
      "Best Test Data Recall score: 0.8777\n",
      "\n",
      "Optimal parameters:\n",
      "\tlearning_rate: 0.3\n",
      "\tmax_depth: 10\n",
      "\tmin_child_weight: 3\n",
      "\tobjective: binary:logistic\n"
     ]
    }
   ],
   "source": [
    "f1_xgb_original, recall_xgb_original, y_pred_xgb_original, y_pred_proba_xgb_original = best_model_score(clf_xgb, param_grid_xgb, X_train, y_train, X_test, y_test)\n"
   ]
  },
  {
   "cell_type": "markdown",
   "metadata": {},
   "source": [
    "### XGBoost - SMOTE"
   ]
  },
  {
   "cell_type": "code",
   "execution_count": 90,
   "metadata": {
    "ExecuteTime": {
     "end_time": "2020-08-04T20:51:10.578855Z",
     "start_time": "2020-08-04T20:47:09.319338Z"
    },
    "scrolled": true
   },
   "outputs": [
    {
     "name": "stdout",
     "output_type": "stream",
     "text": [
      "Best Test Data F1 score: 0.84516\n",
      "Best Test Data Recall score: 0.84516\n",
      "\n",
      "Optimal parameters:\n",
      "\tlearning_rate: 0.3\n",
      "\tmax_depth: 10\n",
      "\tmin_child_weight: 3\n",
      "\tobjective: binary:logistic\n"
     ]
    }
   ],
   "source": [
    "f1_xgb_smote, recall_xgb_smote, y_pred_xgb_smote, y_pred_proba_xgb_smote = best_model_score(clf_xgb, param_grid_xgb, X_train_smote, y_train_smote, X_test, y_test)"
   ]
  },
  {
   "cell_type": "markdown",
   "metadata": {},
   "source": [
    "### XGBoost - RandomUndersampling"
   ]
  },
  {
   "cell_type": "code",
   "execution_count": 91,
   "metadata": {
    "ExecuteTime": {
     "end_time": "2020-08-04T20:51:11.298218Z",
     "start_time": "2020-08-04T20:51:10.853412Z"
    }
   },
   "outputs": [
    {
     "name": "stdout",
     "output_type": "stream",
     "text": [
      "Best Test Data F1 score: 0.08336\n",
      "Best Test Data Recall score: 0.08336\n",
      "\n",
      "Optimal parameters:\n",
      "\tlearning_rate: 0.3\n",
      "\tmax_depth: 10\n",
      "\tmin_child_weight: 3\n",
      "\tobjective: binary:logistic\n"
     ]
    }
   ],
   "source": [
    "f1_xgb_under, recall_xgb_under, y_pred_xgb_under, y_pred_proba_xgb_under = best_model_score(clf_xgb, param_grid_xgb, X_train_under, y_train_under, X_test, y_test)"
   ]
  },
  {
   "cell_type": "markdown",
   "metadata": {},
   "source": [
    "### XGBoost - SMOTE & RandomUndersampling"
   ]
  },
  {
   "cell_type": "code",
   "execution_count": 92,
   "metadata": {
    "ExecuteTime": {
     "end_time": "2020-08-04T20:51:37.293271Z",
     "start_time": "2020-08-04T20:51:11.496743Z"
    }
   },
   "outputs": [
    {
     "name": "stdout",
     "output_type": "stream",
     "text": [
      "Best Test Data F1 score: 0.7043\n",
      "Best Test Data Recall score: 0.7043\n",
      "\n",
      "Optimal parameters:\n",
      "\tlearning_rate: 0.3\n",
      "\tmax_depth: 10\n",
      "\tmin_child_weight: 3\n",
      "\tobjective: binary:logistic\n"
     ]
    }
   ],
   "source": [
    "f1_xgb_smote_under, recall_xgb_smote_under, y_pred_xgb_smote_under, y_pred_proba_xgb_smote_under = best_model_score(clf_xgb, param_grid_xgb, X_train_smote_under, y_train_smote_under, X_test, y_test)"
   ]
  },
  {
   "cell_type": "code",
   "execution_count": 94,
   "metadata": {
    "ExecuteTime": {
     "end_time": "2020-08-04T21:20:30.364737Z",
     "start_time": "2020-08-04T21:20:30.356201Z"
    }
   },
   "outputs": [
    {
     "data": {
      "text/html": [
       "<div>\n",
       "<style scoped>\n",
       "    .dataframe tbody tr th:only-of-type {\n",
       "        vertical-align: middle;\n",
       "    }\n",
       "\n",
       "    .dataframe tbody tr th {\n",
       "        vertical-align: top;\n",
       "    }\n",
       "\n",
       "    .dataframe thead th {\n",
       "        text-align: right;\n",
       "    }\n",
       "</style>\n",
       "<table border=\"1\" class=\"dataframe\">\n",
       "  <thead>\n",
       "    <tr style=\"text-align: right;\">\n",
       "      <th></th>\n",
       "      <th>Original</th>\n",
       "      <th>SMOTE</th>\n",
       "      <th>Undersampled</th>\n",
       "      <th>SMOTE &amp; Undersampled</th>\n",
       "    </tr>\n",
       "  </thead>\n",
       "  <tbody>\n",
       "    <tr>\n",
       "      <td>Baseline</td>\n",
       "      <td>0.000000</td>\n",
       "      <td>0.000000</td>\n",
       "      <td>0.000000</td>\n",
       "      <td>0.000000</td>\n",
       "    </tr>\n",
       "    <tr>\n",
       "      <td>Gaussian Naive Bayes</td>\n",
       "      <td>0.117377</td>\n",
       "      <td>0.103990</td>\n",
       "      <td>0.072303</td>\n",
       "      <td>0.104411</td>\n",
       "    </tr>\n",
       "    <tr>\n",
       "      <td>Random Forest</td>\n",
       "      <td>0.892086</td>\n",
       "      <td>0.876712</td>\n",
       "      <td>0.097172</td>\n",
       "      <td>0.776471</td>\n",
       "    </tr>\n",
       "    <tr>\n",
       "      <td>XGBoost</td>\n",
       "      <td>0.877698</td>\n",
       "      <td>0.845161</td>\n",
       "      <td>0.083359</td>\n",
       "      <td>0.704301</td>\n",
       "    </tr>\n",
       "  </tbody>\n",
       "</table>\n",
       "</div>"
      ],
      "text/plain": [
       "                      Original     SMOTE  Undersampled  SMOTE & Undersampled\n",
       "Baseline              0.000000  0.000000      0.000000              0.000000\n",
       "Gaussian Naive Bayes  0.117377  0.103990      0.072303              0.104411\n",
       "Random Forest         0.892086  0.876712      0.097172              0.776471\n",
       "XGBoost               0.877698  0.845161      0.083359              0.704301"
      ]
     },
     "execution_count": 94,
     "metadata": {},
     "output_type": "execute_result"
    }
   ],
   "source": [
    "f1_scores_df.loc['XGBoost'] = [f1_xgb_original, f1_xgb_smote, f1_xgb_under, f1_xgb_smote_under]\n",
    "f1_scores_df"
   ]
  },
  {
   "cell_type": "code",
   "execution_count": 95,
   "metadata": {
    "ExecuteTime": {
     "end_time": "2020-08-04T21:20:31.121218Z",
     "start_time": "2020-08-04T21:20:31.111630Z"
    }
   },
   "outputs": [
    {
     "data": {
      "text/html": [
       "<div>\n",
       "<style scoped>\n",
       "    .dataframe tbody tr th:only-of-type {\n",
       "        vertical-align: middle;\n",
       "    }\n",
       "\n",
       "    .dataframe tbody tr th {\n",
       "        vertical-align: top;\n",
       "    }\n",
       "\n",
       "    .dataframe thead th {\n",
       "        text-align: right;\n",
       "    }\n",
       "</style>\n",
       "<table border=\"1\" class=\"dataframe\">\n",
       "  <thead>\n",
       "    <tr style=\"text-align: right;\">\n",
       "      <th></th>\n",
       "      <th>Original</th>\n",
       "      <th>SMOTE</th>\n",
       "      <th>Undersampled</th>\n",
       "      <th>SMOTE &amp; Undersampled</th>\n",
       "    </tr>\n",
       "  </thead>\n",
       "  <tbody>\n",
       "    <tr>\n",
       "      <td>Baseline</td>\n",
       "      <td>0.000000</td>\n",
       "      <td>0.000000</td>\n",
       "      <td>0.000000</td>\n",
       "      <td>0.000000</td>\n",
       "    </tr>\n",
       "    <tr>\n",
       "      <td>Gaussian Naive Bayes</td>\n",
       "      <td>0.864865</td>\n",
       "      <td>0.871622</td>\n",
       "      <td>0.878378</td>\n",
       "      <td>0.871622</td>\n",
       "    </tr>\n",
       "    <tr>\n",
       "      <td>Random Forest</td>\n",
       "      <td>0.837838</td>\n",
       "      <td>0.864865</td>\n",
       "      <td>0.905405</td>\n",
       "      <td>0.891892</td>\n",
       "    </tr>\n",
       "    <tr>\n",
       "      <td>XGBoost</td>\n",
       "      <td>0.824324</td>\n",
       "      <td>0.885135</td>\n",
       "      <td>0.932432</td>\n",
       "      <td>0.885135</td>\n",
       "    </tr>\n",
       "  </tbody>\n",
       "</table>\n",
       "</div>"
      ],
      "text/plain": [
       "                      Original     SMOTE  Undersampled  SMOTE & Undersampled\n",
       "Baseline              0.000000  0.000000      0.000000              0.000000\n",
       "Gaussian Naive Bayes  0.864865  0.871622      0.878378              0.871622\n",
       "Random Forest         0.837838  0.864865      0.905405              0.891892\n",
       "XGBoost               0.824324  0.885135      0.932432              0.885135"
      ]
     },
     "execution_count": 95,
     "metadata": {},
     "output_type": "execute_result"
    }
   ],
   "source": [
    "recall_scores_df.loc['XGBoost'] = [recall_xgb_original, recall_xgb_smote, recall_xgb_under, recall_xgb_smote_under]\n",
    "recall_scores_df"
   ]
  },
  {
   "cell_type": "markdown",
   "metadata": {},
   "source": [
    "# Analysis of Results"
   ]
  },
  {
   "cell_type": "code",
   "execution_count": 96,
   "metadata": {
    "ExecuteTime": {
     "end_time": "2020-08-04T21:27:19.448280Z",
     "start_time": "2020-08-04T21:27:19.441061Z"
    },
    "scrolled": true
   },
   "outputs": [
    {
     "data": {
      "text/html": [
       "<div>\n",
       "<style scoped>\n",
       "    .dataframe tbody tr th:only-of-type {\n",
       "        vertical-align: middle;\n",
       "    }\n",
       "\n",
       "    .dataframe tbody tr th {\n",
       "        vertical-align: top;\n",
       "    }\n",
       "\n",
       "    .dataframe thead th {\n",
       "        text-align: right;\n",
       "    }\n",
       "</style>\n",
       "<table border=\"1\" class=\"dataframe\">\n",
       "  <thead>\n",
       "    <tr style=\"text-align: right;\">\n",
       "      <th></th>\n",
       "      <th>Original</th>\n",
       "      <th>SMOTE</th>\n",
       "      <th>Undersampled</th>\n",
       "      <th>SMOTE &amp; Undersampled</th>\n",
       "    </tr>\n",
       "  </thead>\n",
       "  <tbody>\n",
       "    <tr>\n",
       "      <td>Baseline</td>\n",
       "      <td>0.000000</td>\n",
       "      <td>0.000000</td>\n",
       "      <td>0.000000</td>\n",
       "      <td>0.000000</td>\n",
       "    </tr>\n",
       "    <tr>\n",
       "      <td>Gaussian Naive Bayes</td>\n",
       "      <td>0.117377</td>\n",
       "      <td>0.103990</td>\n",
       "      <td>0.072303</td>\n",
       "      <td>0.104411</td>\n",
       "    </tr>\n",
       "    <tr>\n",
       "      <td>Random Forest</td>\n",
       "      <td>0.892086</td>\n",
       "      <td>0.876712</td>\n",
       "      <td>0.097172</td>\n",
       "      <td>0.776471</td>\n",
       "    </tr>\n",
       "    <tr>\n",
       "      <td>XGBoost</td>\n",
       "      <td>0.877698</td>\n",
       "      <td>0.845161</td>\n",
       "      <td>0.083359</td>\n",
       "      <td>0.704301</td>\n",
       "    </tr>\n",
       "  </tbody>\n",
       "</table>\n",
       "</div>"
      ],
      "text/plain": [
       "                      Original     SMOTE  Undersampled  SMOTE & Undersampled\n",
       "Baseline              0.000000  0.000000      0.000000              0.000000\n",
       "Gaussian Naive Bayes  0.117377  0.103990      0.072303              0.104411\n",
       "Random Forest         0.892086  0.876712      0.097172              0.776471\n",
       "XGBoost               0.877698  0.845161      0.083359              0.704301"
      ]
     },
     "execution_count": 96,
     "metadata": {},
     "output_type": "execute_result"
    }
   ],
   "source": [
    "f1_scores_df"
   ]
  },
  {
   "cell_type": "code",
   "execution_count": 225,
   "metadata": {
    "ExecuteTime": {
     "end_time": "2020-08-05T01:15:43.808597Z",
     "start_time": "2020-08-05T01:15:43.804673Z"
    }
   },
   "outputs": [],
   "source": [
    "def reshape_scores_df(df):\n",
    "    '''Takes a df and configures it so its easier to do a barplot'''\n",
    "    df = df.reset_index() # Move classifier names into 1st column\n",
    "    df = df.iloc[1:,:] # Drop the baseline model\n",
    "    classifiers = list(f1_scores_df.columns[-4:])\n",
    "    df = df.melt(id_vars=['index'], value_vars=classifiers) # melt dataframe so its easier to plot\n",
    "    return df"
   ]
  },
  {
   "cell_type": "code",
   "execution_count": 246,
   "metadata": {
    "ExecuteTime": {
     "end_time": "2020-08-05T01:21:07.522190Z",
     "start_time": "2020-08-05T01:21:07.515670Z"
    }
   },
   "outputs": [],
   "source": [
    "def scores_bar_plot(df, metric, figsize=(15,10)):\n",
    "    '''takes a configured df and plots a barplot'''\n",
    "    \n",
    "    plt.figure(figsize=figsize);\n",
    "    sns.set(font_scale=2, style='whitegrid');\n",
    "\n",
    "    sns.barplot(x = 'variable', y = 'value', hue = 'index', data=df, ci=None);\n",
    "    plt.ylabel('Score');\n",
    "    plt.xlabel('\\nResampling Method')\n",
    "    plt.ylim(0,1)\n",
    "    plt.title('Barplot of {} scores across different resampled datasets and classifiers\\n'.format(metric))\n",
    "    \n",
    "    # Horizontal line to show max combination\n",
    "    high_score = round(df.max().value, 4)\n",
    "    plt.hlines(y=df['value'].max(), xmin=-0.4, xmax=3.4, ls='--', lw=3, label='Highest {} Score: {}'.format(metric, high_score));\n",
    "    \n",
    "    # Put the legend out of the figure\n",
    "    plt.legend(bbox_to_anchor=(1.05, 1), loc=2, borderaxespad=0.)"
   ]
  },
  {
   "cell_type": "code",
   "execution_count": 247,
   "metadata": {
    "ExecuteTime": {
     "end_time": "2020-08-05T01:21:08.297780Z",
     "start_time": "2020-08-05T01:21:07.888632Z"
    }
   },
   "outputs": [
    {
     "data": {
      "image/png": "[encoded data removed]",
      "text/plain": [
       "<Figure size 1080x720 with 1 Axes>"
      ]
     },
     "metadata": {},
     "output_type": "display_data"
    }
   ],
   "source": [
    "scores_bar_plot(reshape_scores_df(f1_scores_df), 'F1')"
   ]
  },
  {
   "cell_type": "code",
   "execution_count": 98,
   "metadata": {
    "ExecuteTime": {
     "end_time": "2020-08-04T21:27:19.906596Z",
     "start_time": "2020-08-04T21:27:19.901713Z"
    },
    "scrolled": true
   },
   "outputs": [
    {
     "name": "stdout",
     "output_type": "stream",
     "text": [
      "The highest score was 0.8921\n",
      "This was achieved by resampling with Original and using the Random Forest classifier\n"
     ]
    }
   ],
   "source": [
    "max_f1 = combination_for_best_score(f1_scores_df)"
   ]
  },
  {
   "cell_type": "code",
   "execution_count": 248,
   "metadata": {
    "ExecuteTime": {
     "end_time": "2020-08-05T01:21:08.837523Z",
     "start_time": "2020-08-05T01:21:08.421534Z"
    },
    "scrolled": false
   },
   "outputs": [
    {
     "data": {
      "image/png": "[encoded data removed]",
      "text/plain": [
       "<Figure size 1080x720 with 1 Axes>"
      ]
     },
     "metadata": {},
     "output_type": "display_data"
    }
   ],
   "source": [
    "scores_bar_plot(reshape_scores_df(recall_scores_df), 'Recall')"
   ]
  },
  {
   "cell_type": "code",
   "execution_count": 99,
   "metadata": {
    "ExecuteTime": {
     "end_time": "2020-08-04T21:27:20.370243Z",
     "start_time": "2020-08-04T21:27:20.365169Z"
    },
    "scrolled": true
   },
   "outputs": [
    {
     "name": "stdout",
     "output_type": "stream",
     "text": [
      "The highest score was 0.9324\n",
      "This was achieved by resampling with Undersampled and using the XGBoost classifier\n"
     ]
    }
   ],
   "source": [
    "max_recall = combination_for_best_score(recall_scores_df)"
   ]
  },
  {
   "cell_type": "code",
   "execution_count": 315,
   "metadata": {
    "ExecuteTime": {
     "end_time": "2020-08-01T00:19:18.771416Z",
     "start_time": "2020-08-01T00:19:18.769051Z"
    }
   },
   "outputs": [],
   "source": [
    "# Save the predictions from the optimal resampling and classifier\n",
    "y_pred = y_pred_rf_smote"
   ]
  },
  {
   "cell_type": "markdown",
   "metadata": {},
   "source": [
    "## Confusion Matrix"
   ]
  },
  {
   "cell_type": "code",
   "execution_count": 184,
   "metadata": {
    "ExecuteTime": {
     "end_time": "2020-07-31T20:14:01.836294Z",
     "start_time": "2020-07-31T20:14:01.586477Z"
    }
   },
   "outputs": [
    {
     "name": "stdout",
     "output_type": "stream",
     "text": [
      "Confusion Matrix: \n",
      "TN: 85278 FP: 17 FN: 19 TP: 129\n"
     ]
    },
    {
     "data": {
      "image/png": "[encoded data removed]",
      "text/plain": [
       "<Figure size 432x288 with 1 Axes>"
      ]
     },
     "metadata": {
      "needs_background": "light"
     },
     "output_type": "display_data"
    }
   ],
   "source": [
    "# print confusion matrix    \n",
    "cm = confusion_matrix(y_test, y_pred)\n",
    "sns.heatmap(cm.T, square=True, annot=True, fmt = 'g', cmap='RdBu', cbar=False, xticklabels=['legitimate', 'fraud'], yticklabels=['legitimate', 'fraud'])\n",
    "plt.title('Confusion Matrix:\\n Random Forest Model')\n",
    "plt.xlabel('true label')\n",
    "plt.ylabel('predicted label')\n",
    "plt.savefig('cm_rf_smote')\n",
    "\n",
    "tn, fp, fn, tp = confusion_matrix(y_test, y_pred).ravel()\n",
    "print(\"Confusion Matrix:\",'\\nTN:', tn, 'FP:', fp, 'FN:', fn, 'TP:', tp)"
   ]
  },
  {
   "cell_type": "markdown",
   "metadata": {},
   "source": [
    "## ROC CURVE"
   ]
  },
  {
   "cell_type": "code",
   "execution_count": 188,
   "metadata": {
    "ExecuteTime": {
     "end_time": "2020-07-31T20:23:02.081622Z",
     "start_time": "2020-07-31T20:23:02.078787Z"
    }
   },
   "outputs": [],
   "source": [
    "y_pred_proba = y_pred_proba_rf_smote"
   ]
  },
  {
   "cell_type": "code",
   "execution_count": 189,
   "metadata": {
    "ExecuteTime": {
     "end_time": "2020-07-31T20:23:05.243166Z",
     "start_time": "2020-07-31T20:23:02.622716Z"
    },
    "scrolled": true
   },
   "outputs": [
    {
     "data": {
      "image/png": "[encoded data removed]",
      "text/plain": [
       "<Figure size 432x288 with 1 Axes>"
      ]
     },
     "metadata": {},
     "output_type": "display_data"
    }
   ],
   "source": [
    "probs = pd.DataFrame(y_pred_proba, columns=['prob_legit', 'prob_fraud'])\n",
    "probs['actual']=[i for i in y_test]\n",
    "probs.head()\n",
    "\n",
    "# # print \n",
    "def frange(start, stop, step):\n",
    "    i = start\n",
    "    while i < stop:\n",
    "        yield i\n",
    "        i += step\n",
    "\n",
    "names = ['cut_off', 'recall', 'precision']\n",
    "fraud_metrics = pd.DataFrame()\n",
    "\n",
    "# for loop to test different cut-off values\n",
    "for i in frange(.2,.95,.015):\n",
    "    probs['label'] = np.where(probs['prob_fraud'] >= i, 1, 0)\n",
    "    tn, fp, fn, tp = confusion_matrix(probs['actual'], probs['label']).ravel()\n",
    "    recall = tp/(tp+fn)\n",
    "    precision = tp/(tp+fp)\n",
    "    evals = [i,recall,precision]\n",
    "    fraud_metrics=fraud_metrics.append(pd.Series(evals), ignore_index=True)\n",
    "\n",
    "fraud_metrics.columns = names\n",
    "\n",
    "import matplotlib.pyplot as plt\n",
    "%matplotlib inline\n",
    "plt.style.use('seaborn-whitegrid')\n",
    "# plot the data\n",
    "plt.plot(fraud_metrics.recall, fraud_metrics.precision , '-', color='blue')\n",
    "plt.plot(fraud_metrics.recall, fraud_metrics.precision , 'o', color='black')\n",
    "# make some nice labels\n",
    "plt.title('Precision-Recall curve')\n",
    "plt.ylabel('Precision')\n",
    "plt.xlabel('Recall')\n",
    "plt.savefig('pr_curve_rf_smote')"
   ]
  },
  {
   "cell_type": "markdown",
   "metadata": {},
   "source": [
    "The Receiver operating characteristic (ROC) curve is the typical tool for assessing the performance of machine learning algorithms, but it actually does not measure well for imbalanced data.\n",
    "\n",
    "The Receiver Operating Characteristic (ROC) curves plot FPR vs. TPR as shown below. Because TPR only depends on positives, ROC curves do not measure the effects of negatives. The area under the ROC curve (AUC) assesses overall classification performance. AUC does not place more emphasis on one class over the other, so it does not reflect the minority class well.\n",
    "\n",
    "We also looked at Precision-Recall curves to get a sense of how well the model captures true positives. A PR curve plots the Precision and Recall scores across different thresholds for a positive identification. This helps us to see whether a model captures true positives while minimizing false positives and false negatives.\n",
    "\n",
    "Precision-Recall (PR) curves will be more informative than ROC when dealing with highly skewed datasets. The PR curves plot precision vs. recall (FPR). Because Precision is directly influenced by class imbalance so the Precision-recall curves are better to highlight differences between models for highly imbalanced data sets. When you compare different models with imbalanced settings, the area under the Precision-Recall curve will be more sensitive than the area under the ROC curve."
   ]
  },
  {
   "cell_type": "code",
   "execution_count": 192,
   "metadata": {
    "ExecuteTime": {
     "end_time": "2020-07-31T22:58:47.923344Z",
     "start_time": "2020-07-31T22:58:47.910125Z"
    },
    "scrolled": true
   },
   "outputs": [
    {
     "ename": "IndexError",
     "evalue": "only integers, slices (`:`), ellipsis (`...`), numpy.newaxis (`None`) and integer or boolean arrays are valid indices",
     "output_type": "error",
     "traceback": [
      "\u001b[0;31m---------------------------------------------------------------------------\u001b[0m",
      "\u001b[0;31mIndexError\u001b[0m                                Traceback (most recent call last)",
      "\u001b[0;32m<ipython-input-192-55abb3b70288>\u001b[0m in \u001b[0;36m<module>\u001b[0;34m\u001b[0m\n\u001b[1;32m      1\u001b[0m \u001b[0;31m# Inspecting the amounts of frauds that our model missed\u001b[0m\u001b[0;34m\u001b[0m\u001b[0;34m\u001b[0m\u001b[0;34m\u001b[0m\u001b[0m\n\u001b[0;32m----> 2\u001b[0;31m \u001b[0mpred_vs_actual\u001b[0m \u001b[0;34m=\u001b[0m \u001b[0mpd\u001b[0m\u001b[0;34m.\u001b[0m\u001b[0mDataFrame\u001b[0m\u001b[0;34m(\u001b[0m\u001b[0;34m{\u001b[0m\u001b[0;34m\"Amount\"\u001b[0m\u001b[0;34m:\u001b[0m \u001b[0mX_test\u001b[0m\u001b[0;34m[\u001b[0m\u001b[0;34m'Amount'\u001b[0m\u001b[0;34m]\u001b[0m\u001b[0;34m,\u001b[0m \u001b[0;34m\"Predicted\"\u001b[0m\u001b[0;34m:\u001b[0m \u001b[0my_pred_rf_smote\u001b[0m\u001b[0;34m,\u001b[0m \u001b[0;34m\"Actual\"\u001b[0m\u001b[0;34m:\u001b[0m \u001b[0;34m[\u001b[0m\u001b[0mi\u001b[0m \u001b[0;32mfor\u001b[0m \u001b[0mi\u001b[0m \u001b[0;32min\u001b[0m \u001b[0my_test\u001b[0m\u001b[0;34m]\u001b[0m\u001b[0;34m}\u001b[0m\u001b[0;34m)\u001b[0m\u001b[0;34m\u001b[0m\u001b[0;34m\u001b[0m\u001b[0m\n\u001b[0m\u001b[1;32m      3\u001b[0m \u001b[0mpred_vs_actual\u001b[0m\u001b[0;34m.\u001b[0m\u001b[0mloc\u001b[0m\u001b[0;34m[\u001b[0m\u001b[0;34m(\u001b[0m\u001b[0mpred_vs_actual\u001b[0m\u001b[0;34m[\u001b[0m\u001b[0;34m'Predicted'\u001b[0m\u001b[0;34m]\u001b[0m\u001b[0;34m==\u001b[0m\u001b[0;36m0\u001b[0m\u001b[0;34m)\u001b[0m \u001b[0;34m&\u001b[0m \u001b[0;34m(\u001b[0m\u001b[0mpred_vs_actual\u001b[0m\u001b[0;34m[\u001b[0m\u001b[0;34m'Actual'\u001b[0m\u001b[0;34m]\u001b[0m\u001b[0;34m==\u001b[0m\u001b[0;36m1\u001b[0m\u001b[0;34m)\u001b[0m\u001b[0;34m]\u001b[0m\u001b[0;34m[\u001b[0m\u001b[0;34m'Amount'\u001b[0m\u001b[0;34m]\u001b[0m\u001b[0;34m.\u001b[0m\u001b[0mdescribe\u001b[0m\u001b[0;34m(\u001b[0m\u001b[0;34m)\u001b[0m\u001b[0;34m\u001b[0m\u001b[0;34m\u001b[0m\u001b[0m\n",
      "\u001b[0;31mIndexError\u001b[0m: only integers, slices (`:`), ellipsis (`...`), numpy.newaxis (`None`) and integer or boolean arrays are valid indices"
     ]
    }
   ],
   "source": [
    "# Inspecting the amounts of frauds that our model missed\n",
    "pred_vs_actual = pd.DataFrame({\"Amount\": X_test['Amount'], \"Predicted\": y_pred_rf_smote, \"Actual\": [i for i in y_test]})\n",
    "pred_vs_actual.loc[(pred_vs_actual['Predicted']==0) & (pred_vs_actual['Actual']==1)]['Amount'].describe()"
   ]
  },
  {
   "cell_type": "code",
   "execution_count": 270,
   "metadata": {
    "ExecuteTime": {
     "end_time": "2020-07-31T23:49:25.658186Z",
     "start_time": "2020-07-31T23:49:25.637921Z"
    }
   },
   "outputs": [
    {
     "data": {
      "text/html": [
       "<div>\n",
       "<style scoped>\n",
       "    .dataframe tbody tr th:only-of-type {\n",
       "        vertical-align: middle;\n",
       "    }\n",
       "\n",
       "    .dataframe tbody tr th {\n",
       "        vertical-align: top;\n",
       "    }\n",
       "\n",
       "    .dataframe thead th {\n",
       "        text-align: right;\n",
       "    }\n",
       "</style>\n",
       "<table border=\"1\" class=\"dataframe\">\n",
       "  <thead>\n",
       "    <tr style=\"text-align: right;\">\n",
       "      <th></th>\n",
       "      <th>Amount</th>\n",
       "      <th>Predictions</th>\n",
       "      <th>Test Data</th>\n",
       "      <th>Correct</th>\n",
       "    </tr>\n",
       "  </thead>\n",
       "  <tbody>\n",
       "    <tr>\n",
       "      <td>31773</td>\n",
       "      <td>104.00</td>\n",
       "      <td>0</td>\n",
       "      <td>0</td>\n",
       "      <td>1</td>\n",
       "    </tr>\n",
       "    <tr>\n",
       "      <td>117430</td>\n",
       "      <td>16.48</td>\n",
       "      <td>0</td>\n",
       "      <td>0</td>\n",
       "      <td>1</td>\n",
       "    </tr>\n",
       "    <tr>\n",
       "      <td>274383</td>\n",
       "      <td>4.00</td>\n",
       "      <td>0</td>\n",
       "      <td>0</td>\n",
       "      <td>1</td>\n",
       "    </tr>\n",
       "    <tr>\n",
       "      <td>216704</td>\n",
       "      <td>18.96</td>\n",
       "      <td>0</td>\n",
       "      <td>0</td>\n",
       "      <td>1</td>\n",
       "    </tr>\n",
       "    <tr>\n",
       "      <td>245854</td>\n",
       "      <td>4.99</td>\n",
       "      <td>0</td>\n",
       "      <td>0</td>\n",
       "      <td>1</td>\n",
       "    </tr>\n",
       "  </tbody>\n",
       "</table>\n",
       "</div>"
      ],
      "text/plain": [
       "        Amount  Predictions  Test Data  Correct\n",
       "31773   104.00            0          0        1\n",
       "117430   16.48            0          0        1\n",
       "274383    4.00            0          0        1\n",
       "216704   18.96            0          0        1\n",
       "245854    4.99            0          0        1"
      ]
     },
     "execution_count": 270,
     "metadata": {},
     "output_type": "execute_result"
    }
   ],
   "source": [
    "pred_vs_actual = pd.DataFrame()\n",
    "pred_vs_actual['Amount'] = X_test['Amount']\n",
    "pred_vs_actual['Predictions'] = y_pred\n",
    "pred_vs_actual['Test Data'] = y_test\n",
    "pred_vs_actual['Correct'] = (pred_vs_actual['Predictions']==pred_vs_actual['Test Data']).astype(int)\n",
    "pred_vs_actual.head()"
   ]
  },
  {
   "cell_type": "code",
   "execution_count": 314,
   "metadata": {
    "ExecuteTime": {
     "end_time": "2020-08-01T00:07:54.591145Z",
     "start_time": "2020-08-01T00:07:54.065703Z"
    },
    "scrolled": false
   },
   "outputs": [
    {
     "data": {
      "image/png": "[encoded data removed]",
      "text/plain": [
       "<Figure size 1440x720 with 1 Axes>"
      ]
     },
     "metadata": {},
     "output_type": "display_data"
    }
   ],
   "source": [
    "incorrect_predictions = pred_vs_actual['Correct']==0\n",
    "correct_predictions = pred_vs_actual['Correct']==1\n",
    "\n",
    "plt.figure(figsize=(20,10))\n",
    "sns.set(font_scale=2, style='whitegrid', )\n",
    "ax = sns.distplot(pred_vs_actual[incorrect_predictions]['Amount'], kde=False, color='navy', bins=50)\n",
    "sns.despine()\n",
    "plt.ylabel('Count');\n",
    "ax.set_title('Distribution of Amount for Incorrect Predictions\\n',);"
   ]
  },
  {
   "cell_type": "markdown",
   "metadata": {},
   "source": [
    "## GridSearch"
   ]
  },
  {
   "cell_type": "markdown",
   "metadata": {},
   "source": [
    "The parameter tuning using GridSearchCV improved our model's performance \n",
    "by over 20%, from ~44% to ~66%. The model also shows no signs of \n",
    "overfitting, as evidenced by the close training and testing scores. \n",
    "Grid Search does not gaurantee that we will always find the globally \n",
    "optimal combination of parameter values. Since it only exhaustively \n",
    "searches through the parameter values we provide, \n",
    "not every possible combination of every possible value for each parameter \n",
    "is tested. This means that the model is only as good as the possible \n",
    "combinations of the parameters we include in our parameter grid."
   ]
  },
  {
   "cell_type": "markdown",
   "metadata": {
    "ExecuteTime": {
     "end_time": "2020-07-27T23:48:29.807291Z",
     "start_time": "2020-07-27T23:48:29.801524Z"
    }
   },
   "source": [
    " |     Parameter     |         Values         |\n",
    "|:-----------------:|:----------------------:|\n",
    "|    n_estimators   |      [10, 30, 100]     |\n",
    "|     criterion     |   ['gini', 'entropy']  |\n",
    "|     max_depth     | [None, 2, 6, 10] |\n",
    "| min_samples_split |       [5, 10]       |\n",
    "|  min_samples_leaf |   [3, 6]   |"
   ]
  },
  {
   "cell_type": "markdown",
   "metadata": {},
   "source": [
    "GridSearchCV finds the optimal combination of parameters through an exhaustive combinatoric search. If you search through too many parameters, the model will take forever to run"
   ]
  },
  {
   "cell_type": "code",
   "execution_count": 21,
   "metadata": {
    "ExecuteTime": {
     "end_time": "2020-07-30T20:30:01.174307Z",
     "start_time": "2020-07-30T20:30:00.901042Z"
    },
    "scrolled": false
   },
   "outputs": [
    {
     "data": {
      "image/png": "[encoded data removed]",
      "text/plain": [
       "<Figure size 432x288 with 2 Axes>"
      ]
     },
     "metadata": {
      "needs_background": "light"
     },
     "output_type": "display_data"
    }
   ],
   "source": [
    "# Plot Confusion Matrix\n",
    "class_names = ['Legitimate', 'Fraud']\n",
    "\n",
    "conf_matrx_title = 'Gaussian Naive Bayes'\n",
    "\n",
    "disp = plot_confusion_matrix(model,\n",
    "                             X_test,\n",
    "                             y_test,\n",
    "                             display_labels=class_names,\n",
    "                             normalize=None,\n",
    "                            cmap=plt.cm.Blues)\n",
    "plt.title('Confusion Matrix for {}'.format(conf_matrx_title));\n"
   ]
  },
  {
   "cell_type": "markdown",
   "metadata": {},
   "source": [
    "https://www.scikit-yb.org/en/latest/"
   ]
  },
  {
   "cell_type": "code",
   "execution_count": null,
   "metadata": {},
   "outputs": [],
   "source": []
  }
 ],
 "metadata": {
  "kernelspec": {
   "display_name": "Python 3",
   "language": "python",
   "name": "python3"
  },
  "language_info": {
   "codemirror_mode": {
    "name": "ipython",
    "version": 3
   },
   "file_extension": ".py",
   "mimetype": "text/x-python",
   "name": "python",
   "nbconvert_exporter": "python",
   "pygments_lexer": "ipython3",
   "version": "3.7.4"
  },
  "toc": {
   "base_numbering": 1,
   "nav_menu": {},
   "number_sections": true,
   "sideBar": true,
   "skip_h1_title": false,
   "title_cell": "Table of Contents",
   "title_sidebar": "Contents",
   "toc_cell": false,
   "toc_position": {},
   "toc_section_display": true,
   "toc_window_display": false
  },
  "varInspector": {
   "cols": {
    "lenName": 16,
    "lenType": 16,
    "lenVar": 40
   },
   "kernels_config": {
    "python": {
     "delete_cmd_postfix": "",
     "delete_cmd_prefix": "del ",
     "library": "var_list.py",
     "varRefreshCmd": "print(var_dic_list())"
    },
    "r": {
     "delete_cmd_postfix": ") ",
     "delete_cmd_prefix": "rm(",
     "library": "var_list.r",
     "varRefreshCmd": "cat(var_dic_list()) "
    }
   },
   "types_to_exclude": [
    "module",
    "function",
    "builtin_function_or_method",
    "instance",
    "_Feature"
   ],
   "window_display": false
  }
 },
 "nbformat": 4,
 "nbformat_minor": 2
}
