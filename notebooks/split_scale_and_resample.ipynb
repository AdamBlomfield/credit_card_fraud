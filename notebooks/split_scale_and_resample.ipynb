{
 "cells": [
  {
   "cell_type": "markdown",
   "metadata": {},
   "source": [
    "# Introduction"
   ]
  },
  {
   "cell_type": "markdown",
   "metadata": {},
   "source": [
    "This notebook performs the following on the dataset:\n",
    "* Train:Test Split\n",
    "* Scaling via Robust Scaler\n",
    "* Resamples via SMOTE and/or Random Undersampling"
   ]
  },
  {
   "cell_type": "markdown",
   "metadata": {},
   "source": [
    "# Import Libraries"
   ]
  },
  {
   "cell_type": "code",
   "execution_count": 1,
   "metadata": {
    "ExecuteTime": {
     "end_time": "2020-08-06T15:59:48.997136Z",
     "start_time": "2020-08-06T15:59:48.211362Z"
    }
   },
   "outputs": [],
   "source": [
    "# Dataframes\n",
    "import pandas as pd\n",
    "import numpy as np\n",
    "# Data Preparation\n",
    "    # Train:Test\n",
    "from sklearn.model_selection import train_test_split\n",
    "    # Scaling\n",
    "from sklearn.preprocessing import RobustScaler\n",
    "\n",
    "# Resampling\n",
    "from imblearn.over_sampling import SMOTE\n",
    "from imblearn.under_sampling import RandomUnderSampler\n",
    "from collections import Counter\n",
    "from imblearn.pipeline import make_pipeline, Pipeline"
   ]
  },
  {
   "cell_type": "code",
   "execution_count": 2,
   "metadata": {
    "ExecuteTime": {
     "end_time": "2020-08-06T15:59:49.363951Z",
     "start_time": "2020-08-06T15:59:48.998876Z"
    }
   },
   "outputs": [],
   "source": [
    "# Import functions.py file\n",
    "import sys\n",
    "sys.path.append('../')\n",
    "\n",
    "from functions.functions import resample_training_data, convert_array_to_dataframe"
   ]
  },
  {
   "cell_type": "code",
   "execution_count": 3,
   "metadata": {
    "ExecuteTime": {
     "end_time": "2020-08-06T15:59:49.368186Z",
     "start_time": "2020-08-06T15:59:49.365951Z"
    }
   },
   "outputs": [],
   "source": [
    "random_seed = 1"
   ]
  },
  {
   "cell_type": "markdown",
   "metadata": {},
   "source": [
    "# Import Cleaned Data"
   ]
  },
  {
   "cell_type": "code",
   "execution_count": 4,
   "metadata": {
    "ExecuteTime": {
     "end_time": "2020-08-06T15:59:52.128354Z",
     "start_time": "2020-08-06T15:59:49.369591Z"
    },
    "scrolled": true
   },
   "outputs": [
    {
     "data": {
      "text/html": [
       "<div>\n",
       "<style scoped>\n",
       "    .dataframe tbody tr th:only-of-type {\n",
       "        vertical-align: middle;\n",
       "    }\n",
       "\n",
       "    .dataframe tbody tr th {\n",
       "        vertical-align: top;\n",
       "    }\n",
       "\n",
       "    .dataframe thead th {\n",
       "        text-align: right;\n",
       "    }\n",
       "</style>\n",
       "<table border=\"1\" class=\"dataframe\">\n",
       "  <thead>\n",
       "    <tr style=\"text-align: right;\">\n",
       "      <th></th>\n",
       "      <th>Time</th>\n",
       "      <th>V1</th>\n",
       "      <th>V2</th>\n",
       "      <th>V3</th>\n",
       "      <th>V4</th>\n",
       "      <th>V5</th>\n",
       "      <th>V6</th>\n",
       "      <th>V7</th>\n",
       "      <th>V8</th>\n",
       "      <th>V9</th>\n",
       "      <th>...</th>\n",
       "      <th>V21</th>\n",
       "      <th>V22</th>\n",
       "      <th>V23</th>\n",
       "      <th>V24</th>\n",
       "      <th>V25</th>\n",
       "      <th>V26</th>\n",
       "      <th>V27</th>\n",
       "      <th>V28</th>\n",
       "      <th>Amount</th>\n",
       "      <th>Class</th>\n",
       "    </tr>\n",
       "  </thead>\n",
       "  <tbody>\n",
       "    <tr>\n",
       "      <td>0</td>\n",
       "      <td>0.0</td>\n",
       "      <td>-1.359807</td>\n",
       "      <td>-0.072781</td>\n",
       "      <td>2.536347</td>\n",
       "      <td>1.378155</td>\n",
       "      <td>-0.338321</td>\n",
       "      <td>0.462388</td>\n",
       "      <td>0.239599</td>\n",
       "      <td>0.098698</td>\n",
       "      <td>0.363787</td>\n",
       "      <td>...</td>\n",
       "      <td>-0.018307</td>\n",
       "      <td>0.277838</td>\n",
       "      <td>-0.110474</td>\n",
       "      <td>0.066928</td>\n",
       "      <td>0.128539</td>\n",
       "      <td>-0.189115</td>\n",
       "      <td>0.133558</td>\n",
       "      <td>-0.021053</td>\n",
       "      <td>149.62</td>\n",
       "      <td>0</td>\n",
       "    </tr>\n",
       "    <tr>\n",
       "      <td>1</td>\n",
       "      <td>0.0</td>\n",
       "      <td>1.191857</td>\n",
       "      <td>0.266151</td>\n",
       "      <td>0.166480</td>\n",
       "      <td>0.448154</td>\n",
       "      <td>0.060018</td>\n",
       "      <td>-0.082361</td>\n",
       "      <td>-0.078803</td>\n",
       "      <td>0.085102</td>\n",
       "      <td>-0.255425</td>\n",
       "      <td>...</td>\n",
       "      <td>-0.225775</td>\n",
       "      <td>-0.638672</td>\n",
       "      <td>0.101288</td>\n",
       "      <td>-0.339846</td>\n",
       "      <td>0.167170</td>\n",
       "      <td>0.125895</td>\n",
       "      <td>-0.008983</td>\n",
       "      <td>0.014724</td>\n",
       "      <td>2.69</td>\n",
       "      <td>0</td>\n",
       "    </tr>\n",
       "    <tr>\n",
       "      <td>2</td>\n",
       "      <td>1.0</td>\n",
       "      <td>-1.358354</td>\n",
       "      <td>-1.340163</td>\n",
       "      <td>1.773209</td>\n",
       "      <td>0.379780</td>\n",
       "      <td>-0.503198</td>\n",
       "      <td>1.800499</td>\n",
       "      <td>0.791461</td>\n",
       "      <td>0.247676</td>\n",
       "      <td>-1.514654</td>\n",
       "      <td>...</td>\n",
       "      <td>0.247998</td>\n",
       "      <td>0.771679</td>\n",
       "      <td>0.909412</td>\n",
       "      <td>-0.689281</td>\n",
       "      <td>-0.327642</td>\n",
       "      <td>-0.139097</td>\n",
       "      <td>-0.055353</td>\n",
       "      <td>-0.059752</td>\n",
       "      <td>378.66</td>\n",
       "      <td>0</td>\n",
       "    </tr>\n",
       "  </tbody>\n",
       "</table>\n",
       "<p>3 rows × 31 columns</p>\n",
       "</div>"
      ],
      "text/plain": [
       "   Time        V1        V2        V3        V4        V5        V6        V7  \\\n",
       "0   0.0 -1.359807 -0.072781  2.536347  1.378155 -0.338321  0.462388  0.239599   \n",
       "1   0.0  1.191857  0.266151  0.166480  0.448154  0.060018 -0.082361 -0.078803   \n",
       "2   1.0 -1.358354 -1.340163  1.773209  0.379780 -0.503198  1.800499  0.791461   \n",
       "\n",
       "         V8        V9  ...       V21       V22       V23       V24       V25  \\\n",
       "0  0.098698  0.363787  ... -0.018307  0.277838 -0.110474  0.066928  0.128539   \n",
       "1  0.085102 -0.255425  ... -0.225775 -0.638672  0.101288 -0.339846  0.167170   \n",
       "2  0.247676 -1.514654  ...  0.247998  0.771679  0.909412 -0.689281 -0.327642   \n",
       "\n",
       "        V26       V27       V28  Amount  Class  \n",
       "0 -0.189115  0.133558 -0.021053  149.62      0  \n",
       "1  0.125895 -0.008983  0.014724    2.69      0  \n",
       "2 -0.139097 -0.055353 -0.059752  378.66      0  \n",
       "\n",
       "[3 rows x 31 columns]"
      ]
     },
     "execution_count": 4,
     "metadata": {},
     "output_type": "execute_result"
    }
   ],
   "source": [
    "df = pd.read_csv('../data/processed/cleaned_dataframe.gz', compression='gzip')\n",
    "df.head(3)"
   ]
  },
  {
   "cell_type": "markdown",
   "metadata": {},
   "source": [
    "# Train:Test Split"
   ]
  },
  {
   "cell_type": "code",
   "execution_count": 5,
   "metadata": {
    "ExecuteTime": {
     "end_time": "2020-08-06T15:59:52.329262Z",
     "start_time": "2020-08-06T15:59:52.129990Z"
    }
   },
   "outputs": [
    {
     "name": "stdout",
     "output_type": "stream",
     "text": [
      "No. of samples in each training set:\t199364\n",
      "No. of samples in each test set:\t85443\n"
     ]
    }
   ],
   "source": [
    "X = df.drop(['Class'], axis=1)\n",
    "y = df['Class']\n",
    "\n",
    "X_train, X_test, y_train, y_test = train_test_split(X, \n",
    "                                                    y, \n",
    "                                                    test_size=0.3, \n",
    "                                                    stratify=y, \n",
    "                                                    random_state=random_seed)\n",
    "\n",
    "print(\"No. of samples in each training set:\\t{}\".format(X_train.shape[0]))\n",
    "print(\"No. of samples in each test set:\\t{}\".format(X_test.shape[0]))"
   ]
  },
  {
   "cell_type": "markdown",
   "metadata": {},
   "source": [
    "* We choose to stratify as we want to keep the distribution of classes the same in the training set as the test set. \n",
    "* Additionally we must ensure there are at least some fraudulent transactions in the test dataset."
   ]
  },
  {
   "cell_type": "markdown",
   "metadata": {},
   "source": [
    "# Scaling"
   ]
  },
  {
   "cell_type": "markdown",
   "metadata": {},
   "source": [
    "* Scaling the data **improves the predictive performance** of some machine learning models.  \n",
    "    * Without scaling, gradient-based estimating models (such as linear or logistic regression) will take longer to converge or may not be able to converge at all."
   ]
  },
  {
   "cell_type": "code",
   "execution_count": 6,
   "metadata": {
    "ExecuteTime": {
     "end_time": "2020-08-06T15:59:52.333127Z",
     "start_time": "2020-08-06T15:59:52.330916Z"
    }
   },
   "outputs": [],
   "source": [
    "scaler = RobustScaler()"
   ]
  },
  {
   "cell_type": "markdown",
   "metadata": {},
   "source": [
    "* As seen earlier with the \"Distribution of Amount\", the data is not normally distributed and there are a **lot of outliers in our data, so we have chosen to use Robust Scaling**, rather than Standard Scaling."
   ]
  },
  {
   "cell_type": "code",
   "execution_count": 7,
   "metadata": {
    "ExecuteTime": {
     "end_time": "2020-08-06T15:59:52.545878Z",
     "start_time": "2020-08-06T15:59:52.336724Z"
    }
   },
   "outputs": [],
   "source": [
    "# Fit scaler on training data and transform Training data\n",
    "X_train = scaler.fit_transform(X_train)\n",
    "\n",
    "# Use the scaler to transform the Test data\n",
    "X_test = scaler.transform(X_test)"
   ]
  },
  {
   "cell_type": "markdown",
   "metadata": {},
   "source": [
    "* We must be careful to only **scale the test data using the scaling parameters learned on the train data**."
   ]
  },
  {
   "cell_type": "markdown",
   "metadata": {},
   "source": [
    "# Resampling"
   ]
  },
  {
   "cell_type": "markdown",
   "metadata": {},
   "source": [
    "We will be using resampling techniques to improve the effectiveness of our machine learning models\n",
    "* Resampling involves drawing repeated samples from the original dataset to create a new dataset which either reduces the ratio of the majority class (undersampling) or increases the ratio of the minority class (oversampling). A combination of the two can also be used.\n",
    "\n",
    "For this project we will be using **Random Undersampling** and **Synthetic Minority Oversampling TEchnique (SMOTE)**.\n",
    "\n",
    "### Random Undersampling\n",
    "* This technique under-samples the majority class (legitimate transactions) randomly and uniformly.  \n",
    "* This can lead to a loss of information, but if the transactions have similar feature values this loss will be minimized. \n",
    "\n",
    "### SMOTE\n",
    "* This technique over-samples the minority class by generating synthetic data.\n",
    "* This new data is based on the feature space similarities between fraudulent transactions. \n",
    "    * It finds the K-nearest neighbors of an individual fraudulent transaction and randomly selects one of them.  \n",
    "    * A new fraudulent transaction is then synthetically generated in between the original fraud transaction and its neighbor.\n",
    "    \n",
    "Note that we **do not resample the test data**, as it represents unseen data. If it is unseen, we will not know which class it falls in, and thus we will not know whether to undersample or oversample it."
   ]
  },
  {
   "cell_type": "code",
   "execution_count": 8,
   "metadata": {
    "ExecuteTime": {
     "end_time": "2020-08-06T15:59:52.911202Z",
     "start_time": "2020-08-06T15:59:52.548693Z"
    }
   },
   "outputs": [
    {
     "name": "stdout",
     "output_type": "stream",
     "text": [
      "Distribution of data before resampling:\n",
      "\t0: 199020         1:    344              578.5 : 1\n",
      "\n",
      "Distribution of Training Data after SMOTE:\n",
      "\t0: 199020         1:   19902              10.0 : 1\n",
      "\n",
      "Distribution of Training Data after Random Undersampling:\n",
      "\t0: 688            1:    344                2.0 : 1\n",
      "\n",
      "Distribution of Training Data after SMOTE and Random Undersampling:\n",
      "\t0: 39804          1:   19902               2.0 : 1\n"
     ]
    }
   ],
   "source": [
    "# Class distribution before resampling\n",
    "counter = Counter(y_train)\n",
    "print('Distribution of data before resampling:')\n",
    "ratio = round(counter[0]/counter[1], 1)\n",
    "print('\\t0: {:<15}1: {:^10}{:>15} : 1'.format(counter[0], counter[1], ratio))\n",
    "\n",
    "# Resample the dataset with SMOTE\n",
    "resample_smote = SMOTE(sampling_strategy=0.1, random_state=random_seed)\n",
    "X_train_smote, y_train_smote = resample_training_data(resample_smote, X_train, y_train, 'after SMOTE')\n",
    "\n",
    "# Resample the dataset with Random Undersampling\n",
    "resample_under = RandomUnderSampler(sampling_strategy=0.5, random_state=random_seed)\n",
    "X_train_under, y_train_under = resample_training_data(resample_under, X_train, y_train, 'after Random Undersampling')\n",
    "\n",
    "# Resample the dataset with SMOTE and Random Undersampling\n",
    "over = SMOTE(sampling_strategy=0.1, random_state=random_seed)\n",
    "under = RandomUnderSampler(sampling_strategy=0.5, random_state=random_seed)\n",
    "steps = [('o', over), ('u', under)]\n",
    "resample_smote_under = Pipeline(steps=steps)\n",
    "X_train_smote_under, y_train_smote_under = resample_training_data(resample_smote_under, X_train, y_train, 'after SMOTE and Random Undersampling')"
   ]
  },
  {
   "cell_type": "markdown",
   "metadata": {},
   "source": [
    "# Save new data"
   ]
  },
  {
   "cell_type": "markdown",
   "metadata": {},
   "source": [
    "## Convert numpy arrays to pandas dataframes"
   ]
  },
  {
   "cell_type": "code",
   "execution_count": 9,
   "metadata": {
    "ExecuteTime": {
     "end_time": "2020-08-06T15:59:52.915672Z",
     "start_time": "2020-08-06T15:59:52.913031Z"
    },
    "code_folding": []
   },
   "outputs": [],
   "source": [
    "# create list of training numpy arrays for ease of iteration\n",
    "list_of_X_trains = [X_train, X_train_smote, X_train_under, X_train_smote_under]\n",
    "list_of_y_trains = [y_train, y_train_smote, y_train_under, y_train_smote_under]"
   ]
  },
  {
   "cell_type": "code",
   "execution_count": 10,
   "metadata": {
    "ExecuteTime": {
     "end_time": "2020-08-06T15:59:52.920189Z",
     "start_time": "2020-08-06T15:59:52.917317Z"
    }
   },
   "outputs": [],
   "source": [
    "# Set columns for training and test dataframes\n",
    "X_columns = df.columns[:-1]\n",
    "y_columns = [df.columns[-1]]"
   ]
  },
  {
   "cell_type": "code",
   "execution_count": 11,
   "metadata": {
    "ExecuteTime": {
     "end_time": "2020-08-06T15:59:53.000779Z",
     "start_time": "2020-08-06T15:59:52.921955Z"
    }
   },
   "outputs": [
    {
     "name": "stdout",
     "output_type": "stream",
     "text": [
      "X_train\n",
      "\tInput:\t<class 'numpy.ndarray'>\n",
      "\tOutput:\t<class 'pandas.core.frame.DataFrame'>\n",
      "\n",
      "y_train\n",
      "\tInput:\t<class 'pandas.core.series.Series'>\n",
      "\tOutput:\t<class 'pandas.core.frame.DataFrame'>\n",
      "\n",
      "X_test\n",
      "\tInput:\t<class 'numpy.ndarray'>\n",
      "\tOutput:\t<class 'pandas.core.frame.DataFrame'>\n",
      "\n",
      "y_test\n",
      "\tInput:\t<class 'pandas.core.series.Series'>\n",
      "\tOutput:\t<class 'pandas.core.frame.DataFrame'>\n",
      "\n",
      "X_train_smote\n",
      "\tInput:\t<class 'numpy.ndarray'>\n",
      "\tOutput:\t<class 'pandas.core.frame.DataFrame'>\n",
      "\n",
      "y_train_smote\n",
      "\tInput:\t<class 'pandas.core.series.Series'>\n",
      "\tOutput:\t<class 'pandas.core.frame.DataFrame'>\n",
      "\n",
      "X_train_under\n",
      "\tInput:\t<class 'numpy.ndarray'>\n",
      "\tOutput:\t<class 'pandas.core.frame.DataFrame'>\n",
      "\n",
      "y_train_under\n",
      "\tInput:\t<class 'pandas.core.series.Series'>\n",
      "\tOutput:\t<class 'pandas.core.frame.DataFrame'>\n",
      "\n",
      "X_train_smote_under\n",
      "\tInput:\t<class 'numpy.ndarray'>\n",
      "\tOutput:\t<class 'pandas.core.frame.DataFrame'>\n",
      "\n",
      "X_train_smote_under\n",
      "\tInput:\t<class 'pandas.core.series.Series'>\n",
      "\tOutput:\t<class 'pandas.core.frame.DataFrame'>\n",
      "\n"
     ]
    }
   ],
   "source": [
    "# Original Train\n",
    "X_train, input_dtype, output_dtype = convert_array_to_dataframe(X_train, X_columns)\n",
    "print('X_train\\n\\tInput:\\t{}\\n\\tOutput:\\t{}\\n'.format(input_dtype, output_dtype))\n",
    "y_train, input_dtype, output_dtype = convert_array_to_dataframe(y_train, y_columns)\n",
    "print('y_train\\n\\tInput:\\t{}\\n\\tOutput:\\t{}\\n'.format(input_dtype, output_dtype))\n",
    "\n",
    "# Original Test\n",
    "X_test, input_dtype, output_dtype = convert_array_to_dataframe(X_test, X_columns)\n",
    "print('X_test\\n\\tInput:\\t{}\\n\\tOutput:\\t{}\\n'.format(input_dtype, output_dtype))\n",
    "y_test, input_dtype, output_dtype = convert_array_to_dataframe(y_test, y_columns)\n",
    "print('y_test\\n\\tInput:\\t{}\\n\\tOutput:\\t{}\\n'.format(input_dtype, output_dtype))\n",
    "\n",
    "# SMOTE Train\n",
    "X_train_smote, input_dtype, output_dtype = convert_array_to_dataframe(X_train_smote, X_columns)\n",
    "print('X_train_smote\\n\\tInput:\\t{}\\n\\tOutput:\\t{}\\n'.format(input_dtype, output_dtype))\n",
    "y_train_smote, input_dtype, output_dtype = convert_array_to_dataframe(y_train_smote, y_columns)\n",
    "print('y_train_smote\\n\\tInput:\\t{}\\n\\tOutput:\\t{}\\n'.format(input_dtype, output_dtype))\n",
    "\n",
    "# Undersampled Train\n",
    "X_train_under, input_dtype, output_dtype = convert_array_to_dataframe(X_train_under, X_columns)\n",
    "print('X_train_under\\n\\tInput:\\t{}\\n\\tOutput:\\t{}\\n'.format(input_dtype, output_dtype))\n",
    "y_train_under, input_dtype, output_dtype = convert_array_to_dataframe(y_train_under, y_columns)\n",
    "print('y_train_under\\n\\tInput:\\t{}\\n\\tOutput:\\t{}\\n'.format(input_dtype, output_dtype))\n",
    "\n",
    "# SMOTE and Undersampled Train\n",
    "X_train_smote_under, input_dtype, output_dtype = convert_array_to_dataframe(X_train_smote_under, X_columns)\n",
    "print('X_train_smote_under\\n\\tInput:\\t{}\\n\\tOutput:\\t{}\\n'.format(input_dtype, output_dtype))\n",
    "y_train_smote_under, input_dtype, output_dtype = convert_array_to_dataframe(y_train_smote_under, y_columns)\n",
    "print('X_train_smote_under\\n\\tInput:\\t{}\\n\\tOutput:\\t{}\\n'.format(input_dtype, output_dtype))"
   ]
  },
  {
   "cell_type": "markdown",
   "metadata": {},
   "source": [
    "## Save Training Data"
   ]
  },
  {
   "cell_type": "code",
   "execution_count": 12,
   "metadata": {
    "ExecuteTime": {
     "end_time": "2020-08-06T16:00:42.392187Z",
     "start_time": "2020-08-06T15:59:53.002617Z"
    }
   },
   "outputs": [],
   "source": [
    "# Original data\n",
    "X_train.to_csv('../data/processed/X_train.gz', index=0, compression='gzip')\n",
    "y_train.to_csv('../data/processed/y_train.gz', index=0, compression='gzip', header=True)\n",
    "\n",
    "# Resampled with SMOTE\n",
    "X_train_smote.to_csv('../data/processed/X_train_smote.gz', index=0, compression='gzip')\n",
    "y_train_smote.to_csv('../data/processed/y_train_smote.gz', index=0, compression='gzip', header=True)\n",
    "\n",
    "# Resampled with Random Undersampling\n",
    "X_train_under.to_csv('../data/processed/X_train_under.gz', index=0, compression='gzip')\n",
    "y_train_under.to_csv('../data/processed/y_train_under.gz', index=0, compression='gzip', header=True)\n",
    "\n",
    "# Resampled with SMOTE and Random Undersampling\n",
    "X_train_smote_under.to_csv('../data/processed/X_train_smote_under.gz', index=0, compression='gzip')\n",
    "y_train_smote_under.to_csv('../data/processed/y_train_smote_under.gz', index=0, compression='gzip', header=True)"
   ]
  },
  {
   "cell_type": "markdown",
   "metadata": {},
   "source": [
    "## Save Test Data"
   ]
  },
  {
   "cell_type": "code",
   "execution_count": 13,
   "metadata": {
    "ExecuteTime": {
     "end_time": "2020-08-06T16:00:51.564498Z",
     "start_time": "2020-08-06T16:00:42.393629Z"
    }
   },
   "outputs": [],
   "source": [
    "X_test.to_csv('../data/processed/X_test.gz', index=0, compression='gzip')\n",
    "y_test.to_csv('../data/processed/y_test.gz', index=0, compression='gzip', header=True)"
   ]
  }
 ],
 "metadata": {
  "kernelspec": {
   "display_name": "Python 3",
   "language": "python",
   "name": "python3"
  },
  "language_info": {
   "codemirror_mode": {
    "name": "ipython",
    "version": 3
   },
   "file_extension": ".py",
   "mimetype": "text/x-python",
   "name": "python",
   "nbconvert_exporter": "python",
   "pygments_lexer": "ipython3",
   "version": "3.7.4"
  },
  "toc": {
   "base_numbering": 1,
   "nav_menu": {},
   "number_sections": true,
   "sideBar": true,
   "skip_h1_title": false,
   "title_cell": "Table of Contents",
   "title_sidebar": "Contents",
   "toc_cell": false,
   "toc_position": {},
   "toc_section_display": true,
   "toc_window_display": false
  },
  "varInspector": {
   "cols": {
    "lenName": 16,
    "lenType": 16,
    "lenVar": 40
   },
   "kernels_config": {
    "python": {
     "delete_cmd_postfix": "",
     "delete_cmd_prefix": "del ",
     "library": "var_list.py",
     "varRefreshCmd": "print(var_dic_list())"
    },
    "r": {
     "delete_cmd_postfix": ") ",
     "delete_cmd_prefix": "rm(",
     "library": "var_list.r",
     "varRefreshCmd": "cat(var_dic_list()) "
    }
   },
   "types_to_exclude": [
    "module",
    "function",
    "builtin_function_or_method",
    "instance",
    "_Feature"
   ],
   "window_display": false
  }
 },
 "nbformat": 4,
 "nbformat_minor": 2
}
