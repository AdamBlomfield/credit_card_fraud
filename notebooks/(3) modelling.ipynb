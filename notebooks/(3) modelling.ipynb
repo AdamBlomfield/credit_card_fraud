{
 "cells": [
  {
   "cell_type": "markdown",
   "metadata": {},
   "source": [
    "# Notebook Introduction"
   ]
  },
  {
   "cell_type": "markdown",
   "metadata": {},
   "source": [
    "**TL;DR**: \n",
    "This notebook compares 3 classificaiton models and 2 resampling techniques to find the highest F-1 score for identifying fraudulent transactions"
   ]
  },
  {
   "cell_type": "markdown",
   "metadata": {},
   "source": [
    "<ins>**Contents**</ins>:\n",
    "* [Library Imports](#Library-Imports)\n",
    "* [Data Import](#Data-Import)\n",
    "* [Modeling](#Modeling)\n",
    "    * [Baseline Model & Model Metrics](#Baseline-Model-&-Model-Metrics)\n",
    "    * [Gaussian Naive Bayes](#Gaussian-Naive-Bayes-(GNB))\n",
    "    * [Random Forest](#Random-Forest-(RF))\n",
    "    * [eXtreme Gradient Boosting (XGBoost)](#XGBoost-(XGB))"
   ]
  },
  {
   "cell_type": "markdown",
   "metadata": {},
   "source": [
    "# Library Imports"
   ]
  },
  {
   "cell_type": "code",
   "execution_count": 1,
   "metadata": {
    "ExecuteTime": {
     "end_time": "2020-10-01T23:06:29.259359Z",
     "start_time": "2020-10-01T23:06:24.078228Z"
    }
   },
   "outputs": [
    {
     "name": "stderr",
     "output_type": "stream",
     "text": [
      "/Users/adam/opt/anaconda3/lib/python3.7/site-packages/dask/dataframe/utils.py:14: FutureWarning: pandas.util.testing is deprecated. Use the functions in the public API at pandas.testing instead.\n",
      "  import pandas.util.testing as tm\n"
     ]
    }
   ],
   "source": [
    "# Dataframes\n",
    "import pandas as pd\n",
    "import numpy as np\n",
    "\n",
    "# Model Tuning and Cross Validation\n",
    "from imblearn.pipeline import make_pipeline, Pipeline\n",
    "from sklearn.model_selection import GridSearchCV\n",
    "\n",
    "# # Model metrics\n",
    "from sklearn.metrics import accuracy_score, f1_score, recall_score, confusion_matrix, classification_report, roc_curve, auc, precision_recall_curve\n",
    "from sklearn.metrics import plot_confusion_matrix\n",
    "\n",
    "# # Classifiers\n",
    "from sklearn.naive_bayes import GaussianNB\n",
    "from sklearn.ensemble import RandomForestClassifier\n",
    "from xgboost import XGBClassifier"
   ]
  },
  {
   "cell_type": "code",
   "execution_count": 2,
   "metadata": {
    "ExecuteTime": {
     "end_time": "2020-10-01T23:06:29.530579Z",
     "start_time": "2020-10-01T23:06:29.261089Z"
    }
   },
   "outputs": [],
   "source": [
    "# Import functions.py file\n",
    "import sys\n",
    "sys.path.append('../')\n",
    "\n",
    "from functions.functions import *"
   ]
  },
  {
   "cell_type": "code",
   "execution_count": 3,
   "metadata": {
    "ExecuteTime": {
     "end_time": "2020-10-01T23:06:29.535100Z",
     "start_time": "2020-10-01T23:06:29.532945Z"
    }
   },
   "outputs": [],
   "source": [
    "random_seed = 1"
   ]
  },
  {
   "cell_type": "markdown",
   "metadata": {},
   "source": [
    "# Data Import"
   ]
  },
  {
   "cell_type": "markdown",
   "metadata": {},
   "source": [
    "## Import Training Datasets"
   ]
  },
  {
   "cell_type": "code",
   "execution_count": 4,
   "metadata": {
    "ExecuteTime": {
     "end_time": "2020-10-01T23:06:33.948468Z",
     "start_time": "2020-10-01T23:06:29.536931Z"
    }
   },
   "outputs": [],
   "source": [
    "# Original Training Dataset\n",
    "X_train = pd.read_csv('../data/processed/x_train.gz', compression='gzip')\n",
    "y_train = pd.read_csv('../data/processed/y_train.gz', compression='gzip').values.ravel()\n",
    "# y_train.dropna(inplace=True)\n",
    "\n",
    "# Training Dataset resampled with SMOTE\n",
    "X_train_smote = pd.read_csv('../data/processed/x_train_smote.gz', compression='gzip')\n",
    "y_train_smote = pd.read_csv('../data/processed/y_train_smote.gz', compression='gzip').values.ravel()\n",
    "# y_train_smote.dropna(inplace=True)\n",
    "\n",
    "# Training Dataset resampled with Random Undersampling\n",
    "X_train_under = pd.read_csv('../data/processed/x_train_under.gz', compression='gzip')\n",
    "y_train_under = pd.read_csv('../data/processed/y_train_under.gz', compression='gzip').values.ravel()\n",
    "# y_train_under.dropna(inplace=True)\n",
    "\n",
    "# Training Dataset resampled with SMOTE and Random Undersampling\n",
    "X_train_smote_under = pd.read_csv('../data/processed/x_train_smote_under.gz', compression='gzip')\n",
    "y_train_smote_under = pd.read_csv('../data/processed/y_train_smote_under.gz', compression='gzip').values.ravel()\n",
    "# y_train_smote_under.dropna(inplace=True)"
   ]
  },
  {
   "cell_type": "markdown",
   "metadata": {},
   "source": [
    "## Import Test Datasets"
   ]
  },
  {
   "cell_type": "code",
   "execution_count": 5,
   "metadata": {
    "ExecuteTime": {
     "end_time": "2020-10-01T23:06:34.773505Z",
     "start_time": "2020-10-01T23:06:33.950199Z"
    }
   },
   "outputs": [],
   "source": [
    "X_test = pd.read_csv('../data/processed/x_test.gz', compression='gzip')\n",
    "y_test = pd.read_csv('../data/processed/y_test.gz', compression='gzip').values.ravel()\n",
    "# y_test.dropna(inplace=True)"
   ]
  },
  {
   "cell_type": "markdown",
   "metadata": {},
   "source": [
    "# Modeling"
   ]
  },
  {
   "cell_type": "markdown",
   "metadata": {},
   "source": [
    "## Dataframe to keep track of Scores & Predictions"
   ]
  },
  {
   "cell_type": "code",
   "execution_count": 6,
   "metadata": {
    "ExecuteTime": {
     "end_time": "2020-10-01T23:06:34.781930Z",
     "start_time": "2020-10-01T23:06:34.775364Z"
    }
   },
   "outputs": [],
   "source": [
    "# Build scores dataframes for comparison\n",
    "scores_columns = ['Original', 'SMOTE', 'Undersampled', 'SMOTE & Undersampled']\n",
    "# F1 scores\n",
    "f1_scores_df = pd.DataFrame(columns=scores_columns)\n",
    "# Recall scores\n",
    "recall_scores_df = pd.DataFrame(columns=scores_columns)\n",
    "# Predictions\n",
    "preds_df = pd.DataFrame()\n",
    "# Prediction Probabilities\n",
    "preds_proba_df = pd.DataFrame()"
   ]
  },
  {
   "cell_type": "markdown",
   "metadata": {},
   "source": [
    "## GridSearch"
   ]
  },
  {
   "cell_type": "markdown",
   "metadata": {
    "ExecuteTime": {
     "end_time": "2020-08-06T18:54:53.172839Z",
     "start_time": "2020-08-06T18:54:53.167723Z"
    }
   },
   "source": [
    "* The function we use makes use of sklearn's GridSearchCV function.  \n",
    "* Grid Search is an **exhaustive search** using the parameter values that we provide, in order **to optimize our model**.\n",
    "    * Not every possible parameter combination is tested, so we can not guarantee a globally optimal combination of parameter values.\n",
    "    * The model will ony be as good as the possible combinations of parameters that we provide.\n",
    "    * the more parameter combinations we input, the longer the model will take to run."
   ]
  },
  {
   "cell_type": "markdown",
   "metadata": {},
   "source": [
    "## Baseline Model & Model Metrics"
   ]
  },
  {
   "cell_type": "markdown",
   "metadata": {},
   "source": [
    "Due to the high imbalance in our dataset, it is very easy to obtain a high accuracy by simply classifying every observation as the majority class (non-fraud)."
   ]
  },
  {
   "cell_type": "code",
   "execution_count": 7,
   "metadata": {
    "ExecuteTime": {
     "end_time": "2020-10-01T23:06:34.804805Z",
     "start_time": "2020-10-01T23:06:34.783640Z"
    }
   },
   "outputs": [
    {
     "name": "stdout",
     "output_type": "stream",
     "text": [
      "Baseline Model Accuracy: 0.99827\n"
     ]
    }
   ],
   "source": [
    "# Baseline model that all predictions are majority class\n",
    "y_pred_base = [0] * len(y_test)\n",
    "\n",
    "# Calculate Accuracy of Baseline Model\n",
    "acc_base = round(accuracy_score(y_test, y_pred_base), 5)\n",
    "print('Baseline Model Accuracy: {}'.format(acc_base))"
   ]
  },
  {
   "cell_type": "markdown",
   "metadata": {},
   "source": [
    "A model with this level of accuracy will initially seem highly successful, but once we realise it has not caught a single fraudulent transaction, we then realise that **we need a different performance metric to accuracy**.  \n",
    "   * 99.83% Accuracy can still be used as a starting point, or baseline, from which more sophisticated models can improve upon.\n",
    "\n",
    "Alternative metrics to Accuracy include:  \n",
    "\n",
    "### Precision \n",
    "* Out of all the frauds our model predicted, what proportion were actually frauds?\n",
    "\n",
    "\\begin{equation*}\n",
    "\\frac{True Positives}{True Positives + False Positives}\n",
    "\\end{equation*}\n",
    "\n",
    "### Recall\n",
    "* Out of all the actual frauds, what proportion did our model detect?\n",
    "\n",
    "\\begin{equation*}\n",
    "\\frac{True Positives}{True Positives + False Negatives}\n",
    "\\end{equation*}\n",
    "\n",
    "### F1 Score\n",
    "* Considers both Precision and Recall.  Can be interpreted as a weighted average of the two (harmonic mean)\n",
    "\n",
    "\\begin{equation*}\n",
    "2*\\frac{Precision * Recall}{Precision + Recall}\n",
    "\\end{equation*}\n",
    "\n",
    "\n",
    "**To avoid confusion in this project, True Positive refers to predicting fraud and it is a fraud.**\n",
    "\n",
    "When seeking to classify fraudulent transactions, the **cost for misclassifying frauds** (False Negative) **is greater than misclassifying a legitimate transaction** (False Positive).\n",
    "   * An undetected fraud could potentially cost the customer and bank a lot of money.\n",
    "   * A legitimate transaction, flagged as fraud, may cause inconvenience for the customer and requires a team within the bank to authorize the transaction.\n",
    "   \n",
    "For our model we will **focus on the F1 Score** and place more emphasis on a high **Recall** rather than Precision.\n",
    "* The F1 Score will be the most useful metric as it is includes Recall and Precision.\n",
    "* Focusing on Recall as well, reflects the fact that classifying frauds (class 1) is more important than classifying legitimate transactions (class 0)."
   ]
  },
  {
   "cell_type": "code",
   "execution_count": 8,
   "metadata": {
    "ExecuteTime": {
     "end_time": "2020-10-01T23:06:35.224534Z",
     "start_time": "2020-10-01T23:06:34.808134Z"
    }
   },
   "outputs": [
    {
     "name": "stdout",
     "output_type": "stream",
     "text": [
      "Confusion Matrix: \n",
      "TN: 85295 FP: 0 FN: 148 TP: 0\n"
     ]
    },
    {
     "data": {
      "image/png": "[encoded data removed]",
      "text/plain": [
       "<Figure size 1440x720 with 1 Axes>"
      ]
     },
     "metadata": {
      "needs_background": "light"
     },
     "output_type": "display_data"
    }
   ],
   "source": [
    "# Confusion matrix for baseline model\n",
    "custom_confusion_matrix(y_test, y_pred_base, 'Baseline', 'not resampled')"
   ]
  },
  {
   "cell_type": "code",
   "execution_count": 9,
   "metadata": {
    "ExecuteTime": {
     "end_time": "2020-10-01T23:06:35.324907Z",
     "start_time": "2020-10-01T23:06:35.226872Z"
    }
   },
   "outputs": [
    {
     "name": "stdout",
     "output_type": "stream",
     "text": [
      "Baseline Model F1 Score: 0.0\n",
      "Baseline Mode Recall Score: 0.0\n"
     ]
    }
   ],
   "source": [
    "# Calculate F1 Score of Baseline Model\n",
    "f1_base = round(f1_score(y_test, y_pred_base), 8)\n",
    "print('Baseline Model F1 Score: {}'.format(f1_base))\n",
    "\n",
    "# Calculate Recall of Baseline Model\n",
    "recall_base = round(recall_score(y_test, y_pred_base), 8)\n",
    "print('Baseline Mode Recall Score: {}'.format(recall_base))"
   ]
  },
  {
   "cell_type": "markdown",
   "metadata": {},
   "source": [
    "Baseline Model's F1 Score and Recall are 0 as the baseline model has a True Positive of 0."
   ]
  },
  {
   "cell_type": "code",
   "execution_count": 10,
   "metadata": {
    "ExecuteTime": {
     "end_time": "2020-10-01T23:06:35.331615Z",
     "start_time": "2020-10-01T23:06:35.326374Z"
    }
   },
   "outputs": [],
   "source": [
    "# Update F1 Scores table\n",
    "f1_scores_df.loc['Baseline'] = [f1_base] * 4\n",
    "\n",
    "# Update Recall Scores table\n",
    "recall_scores_df.loc['Baseline'] = [recall_base] * 4"
   ]
  },
  {
   "cell_type": "markdown",
   "metadata": {},
   "source": [
    "## Gaussian Naive Bayes (GNB)"
   ]
  },
  {
   "cell_type": "markdown",
   "metadata": {},
   "source": [
    "<details><summary><strong>Classifier information</strong></summary>\n",
    "    <br>\n",
    "\n",
    "* This classification method is based on Bayes' Theorem and although it is one of the earliest classification techniques, it is still extremey powerful.  \n",
    "* The classifier is essentially asking, \"given the Amount = X, the V1 = Y, V2 = Z etc...what is the most likely Class for this observation?\"\n",
    "    </details>"
   ]
  },
  {
   "cell_type": "code",
   "execution_count": 11,
   "metadata": {
    "ExecuteTime": {
     "end_time": "2020-10-01T23:06:35.335364Z",
     "start_time": "2020-10-01T23:06:35.333216Z"
    }
   },
   "outputs": [],
   "source": [
    "# Instantiate Gaussian Naive Bayes Classifer\n",
    "clf_gnb = GaussianNB()\n",
    "\n",
    "# Build Parameter Grid\n",
    "param_grid_gnb = {}"
   ]
  },
  {
   "cell_type": "code",
   "execution_count": 12,
   "metadata": {
    "ExecuteTime": {
     "end_time": "2020-10-01T23:06:36.789058Z",
     "start_time": "2020-10-01T23:06:35.336830Z"
    },
    "scrolled": true
   },
   "outputs": [
    {
     "name": "stdout",
     "output_type": "stream",
     "text": [
      "GNB - Original Dataset:\n",
      "Best Test Data F1 score: \t0.11738\n",
      "Best Test Data Recall score: \t0.86486\n",
      "\n",
      "GNB - SMOTE Dataset:\n",
      "Best Test Data F1 score: \t0.11121\n",
      "Best Test Data Recall score: \t0.86486\n",
      "\n",
      "GNB - Random Undersampled Dataset:\n",
      "Best Test Data F1 score: \t0.12187\n",
      "Best Test Data Recall score: \t0.87162\n",
      "\n",
      "GNB - SMOTE and Random Undersampled Dataset:\n",
      "Best Test Data F1 score: \t0.10441\n",
      "Best Test Data Recall score: \t0.87162\n"
     ]
    }
   ],
   "source": [
    "# Gaussian Bayes with Original training data\n",
    "print('GNB - Original Dataset:')\n",
    "f1_gnb_original, recall_gnb_original, y_pred_gnb_original, y_pred_proba_gnb_original = best_model_score(clf_gnb, param_grid_gnb, X_train, y_train, X_test, y_test)\n",
    "\n",
    "# Gaussian Bayes with SMOTE training data\n",
    "print('\\nGNB - SMOTE Dataset:')\n",
    "f1_gnb_smote, recall_gnb_smote, y_pred_gnb_smote, y_pred_proba_gnb_smote = best_model_score(clf_gnb, param_grid_gnb, X_train_smote, y_train_smote, X_test, y_test)\n",
    "\n",
    "# Gaussian Bayes with Random Undersampled training data\n",
    "print('\\nGNB - Random Undersampled Dataset:')\n",
    "f1_gnb_under, recall_gnb_under, y_pred_gnb_under, y_pred_proba_gnb_under = best_model_score(clf_gnb, param_grid_gnb, X_train_under, y_train_under, X_test, y_test)\n",
    "\n",
    "# Gaussian Bayes with SMOTE and Random Undersampled training data\n",
    "print('\\nGNB - SMOTE and Random Undersampled Dataset:')\n",
    "f1_gnb_smote_under, recall_gnb_smote_under, y_pred_gnb_smote_under, y_pred_proba_gnb_smote_under = best_model_score(clf_gnb, param_grid_gnb, X_train_smote_under, y_train_smote_under, X_test, y_test)"
   ]
  },
  {
   "cell_type": "code",
   "execution_count": 13,
   "metadata": {
    "ExecuteTime": {
     "end_time": "2020-10-01T23:06:36.867469Z",
     "start_time": "2020-10-01T23:06:36.791200Z"
    }
   },
   "outputs": [],
   "source": [
    "# Update F1 Scores table\n",
    "f1_scores_df.loc['Gaussian Naive Bayes'] = [f1_gnb_original, f1_gnb_smote, f1_gnb_under, f1_gnb_smote_under]\n",
    "\n",
    "# Update Recall Scores table\n",
    "recall_scores_df.loc['Gaussian Naive Bayes'] = [recall_gnb_original, recall_gnb_smote, recall_gnb_under, recall_gnb_smote_under]\n",
    "\n",
    "# Update Predictions table\n",
    "preds = {'y_pred_gnb_original': y_pred_gnb_original, 'y_pred_gnb_smote':y_pred_gnb_smote, 'y_pred_gnb_under':y_pred_gnb_under, 'y_pred_gnb_smote_under':y_pred_gnb_smote_under}\n",
    "gnb_preds_df = pd.DataFrame(preds)\n",
    "preds_df = pd.concat([preds_df, gnb_preds_df], axis=1, sort=False)\n",
    "\n",
    "# Update Predictions Probability table\n",
    "preds_proba = {'y_pred_proba_gnb_original': list(y_pred_proba_gnb_original), 'y_pred_proba_gnb_smote':list(y_pred_proba_gnb_smote), 'y_pred_proba_gnb_under':list(y_pred_proba_gnb_under), 'y_pred_proba_gnb_smote_under':list(y_pred_proba_gnb_smote_under)}\n",
    "gnb_preds_proba_df = pd.DataFrame(preds_proba)\n",
    "preds_proba_df = pd.concat([preds_proba_df, gnb_preds_proba_df], axis=1, sort=False)"
   ]
  },
  {
   "cell_type": "markdown",
   "metadata": {},
   "source": [
    "## Random Forest (RF)"
   ]
  },
  {
   "cell_type": "markdown",
   "metadata": {},
   "source": [
    "<details><summary><strong>Classifier information</strong></summary>\n",
    "    <br>\n",
    "\n",
    "* A Random Forest classifier uses an ensemble of decision trees that are trained using different portions of the data and different combinations of features. The forests predicts based on what the majority of trees in the forest predict.\n",
    "    </details>\n",
    "\n"
   ]
  },
  {
   "cell_type": "code",
   "execution_count": 14,
   "metadata": {
    "ExecuteTime": {
     "end_time": "2020-10-01T23:06:36.872222Z",
     "start_time": "2020-10-01T23:06:36.868978Z"
    }
   },
   "outputs": [],
   "source": [
    "# Instantiate Random Forest Classifer\n",
    "clf_rf = RandomForestClassifier(criterion='gini', \n",
    "                                class_weight={0: 1, 1: 2}, \n",
    "                                n_jobs=-1, \n",
    "                                random_state=random_seed)\n",
    "\n",
    "# Build Parameter Grid\n",
    "param_grid_rf = {'n_estimators': [50], \n",
    "                   'max_depth': [30, None], \n",
    "                 'min_samples_leaf': [1,3], \n",
    "                   'min_samples_split': [3,4]\n",
    "                  }"
   ]
  },
  {
   "cell_type": "markdown",
   "metadata": {},
   "source": [
    "<details><summary><strong>Parameter Tuning Guide<strong></summary>\n",
    "    <br>\n",
    "\n",
    "*criterion*\n",
    "* The function to measure the quality of a split.\n",
    "* \"Gini\" (Gini impurity) will often produce the same results as \"Entropy\" (information gain) but Entropy is more computaionally expensive.\n",
    "\n",
    "*class_weight*\n",
    "* Weights associated with classes in the form {class_label: weight}.\n",
    "* We want our model to focus more on catching frauds, than catching legitimate transactions.\n",
    "\n",
    "*n_estimators*\n",
    "* Increasing this will improve the model as predictions will be based off a larger number of \"votes\", but it will also make it more computationally expensive\n",
    "\n",
    "*max_depth*\n",
    "* The max depth of the trees.  \n",
    "* Too large and we risk overfitting the data.\n",
    "* Too small and we prevent the trees being able to explain some of the variation in the data.\n",
    "\n",
    "*min_samples_leaf*\n",
    "* Minimum number of samples required to be at a leaf node.  \n",
    "* Too large will risk the trees not splitting enough to capture sufficient variation in the data\n",
    "\n",
    "*min_samples_split*\n",
    "* Minimum number of samples required to split an internal node\n",
    "* Too large will cause under-fitting as the trees won't be able to split enough to achieve node purity\n",
    "    </details>"
   ]
  },
  {
   "cell_type": "code",
   "execution_count": 15,
   "metadata": {
    "ExecuteTime": {
     "end_time": "2020-10-01T23:14:25.811447Z",
     "start_time": "2020-10-01T23:06:36.873610Z"
    },
    "scrolled": true
   },
   "outputs": [
    {
     "name": "stdout",
     "output_type": "stream",
     "text": [
      "RF - Original Dataset:\n",
      "Best Test Data F1 score: \t0.88571\n",
      "Best Test Data Recall score: \t0.83784\n",
      "\n",
      "Optimal parameters:\n",
      "\tmax_depth: 30\n",
      "\tmin_samples_leaf: 1\n",
      "\tmin_samples_split: 3\n",
      "\tn_estimators: 50\n",
      "\n",
      "RF - SMOTE Dataset:\n",
      "Best Test Data F1 score: \t0.87973\n",
      "Best Test Data Recall score: \t0.86486\n",
      "\n",
      "Optimal parameters:\n",
      "\tmax_depth: None\n",
      "\tmin_samples_leaf: 1\n",
      "\tmin_samples_split: 3\n",
      "\tn_estimators: 50\n",
      "\n",
      "RF - Random Undersampled Dataset:\n",
      "Best Test Data F1 score: \t0.22259\n",
      "Best Test Data Recall score: \t0.89865\n",
      "\n",
      "Optimal parameters:\n",
      "\tmax_depth: 30\n",
      "\tmin_samples_leaf: 3\n",
      "\tmin_samples_split: 3\n",
      "\tn_estimators: 50\n",
      "\n",
      "RF - SMOTE and Random Undersampled Dataset:\n",
      "Best Test Data F1 score: \t0.82243\n",
      "Best Test Data Recall score: \t0.89189\n",
      "\n",
      "Optimal parameters:\n",
      "\tmax_depth: 30\n",
      "\tmin_samples_leaf: 1\n",
      "\tmin_samples_split: 4\n",
      "\tn_estimators: 50\n"
     ]
    }
   ],
   "source": [
    "# Random Forest with Original training data\n",
    "print('RF - Original Dataset:')\n",
    "f1_rf_original, recall_rf_original, y_pred_rf_original, y_pred_proba_rf_original = best_model_score(clf_rf, param_grid_rf, X_train, y_train, X_test, y_test)\n",
    "\n",
    "# Random Forest with SMOTE training data\n",
    "print('\\nRF - SMOTE Dataset:')\n",
    "f1_rf_smote, recall_rf_smote, y_pred_rf_smote, y_pred_proba_rf_smote = best_model_score(clf_rf, param_grid_rf, X_train_smote, y_train_smote, X_test, y_test)\n",
    "\n",
    "# Random Forest with Random Undersampled training data\n",
    "print('\\nRF - Random Undersampled Dataset:')\n",
    "f1_rf_under, recall_rf_under, y_pred_rf_under, y_pred_proba_rf_under = best_model_score(clf_rf, param_grid_rf, X_train_under, y_train_under, X_test, y_test)\n",
    "\n",
    "# Random Forest with SMOTE and Random Undersampled training data\n",
    "print('\\nRF - SMOTE and Random Undersampled Dataset:')\n",
    "f1_rf_smote_under, recall_rf_smote_under, y_pred_rf_smote_under, y_pred_proba_rf_smote_under = best_model_score(clf_rf, param_grid_rf, X_train_smote_under, y_train_smote_under, X_test, y_test)"
   ]
  },
  {
   "cell_type": "code",
   "execution_count": 16,
   "metadata": {
    "ExecuteTime": {
     "end_time": "2020-10-01T23:14:25.924418Z",
     "start_time": "2020-10-01T23:14:25.813831Z"
    }
   },
   "outputs": [],
   "source": [
    "# Update F1 Scores table\n",
    "f1_scores_df.loc['Random Forest'] = [f1_rf_original, f1_rf_smote, f1_rf_under, f1_rf_smote_under]\n",
    "\n",
    "# Update Recall Scores table\n",
    "recall_scores_df.loc['Random Forest'] = [recall_rf_original, recall_rf_smote, recall_rf_under, recall_rf_smote_under]\n",
    "\n",
    "# Update Predictions table\n",
    "preds = {'y_pred_rf_original': y_pred_rf_original, 'y_pred_rf_smote':y_pred_rf_smote, 'y_pred_rf_under':y_pred_rf_under, 'y_pred_rf_smote_under':y_pred_rf_smote_under}\n",
    "rf_preds_df = pd.DataFrame(preds)\n",
    "preds_df = preds_df.join(rf_preds_df)\n",
    "\n",
    "# Update Predictions Probability table\n",
    "preds_proba = {'y_pred_proba_rf_original': list(y_pred_proba_rf_original), 'y_pred_proba_rf_smote': list(y_pred_proba_rf_smote), 'y_pred_proba_rf_under':list(y_pred_proba_rf_under), 'y_pred_proba_rf_smote_under': list(y_pred_proba_rf_smote_under)}\n",
    "rf_preds_proba_df = pd.DataFrame(preds_proba)\n",
    "preds_proba_df = pd.concat([preds_proba_df, rf_preds_proba_df], axis=1, sort=False)"
   ]
  },
  {
   "cell_type": "markdown",
   "metadata": {},
   "source": [
    "## XGBoost (XGB)"
   ]
  },
  {
   "cell_type": "markdown",
   "metadata": {},
   "source": [
    "<details><summary><strong>Classifier information</strong></summary>\n",
    "    <br>\n",
    "\n",
    "eXtreme Gradient Boosting (XGBoost) is a form of gradient-boosted decision trees. \n",
    "\n",
    "In a standard ensemble method such as Random Forest, models are trained in isolation so all of the models might make the same mistakes.\n",
    "\n",
    "Gradient Boosting methods, such as XGBoost, trains the Trees in succession.  \n",
    "* Each new Tree is trained to correct the errors made by the previous Trees.  \n",
    "* Trees are added sequentially until either no further improvements can be made or a specified number of trees is reached.\n",
    "* Note that Boosted classifiers do not necessarily have to be tree-based, though often are.\n",
    "    </details>"
   ]
  },
  {
   "cell_type": "code",
   "execution_count": 18,
   "metadata": {
    "ExecuteTime": {
     "end_time": "2020-10-01T23:14:25.975341Z",
     "start_time": "2020-10-01T23:14:25.971286Z"
    }
   },
   "outputs": [],
   "source": [
    "# Instantiate XGBClassifier\n",
    "scale_pos_weight = 10\n",
    "clf_xgb = XGBClassifier(booster='gbtree', tree_method='hist', scale_pos_weight=scale_pos_weight, verbosity=0,\n",
    "                    seed=random_seed\n",
    "                   )\n",
    "\n",
    "# Build Parameter Grid\n",
    "param_grid_xgb = {\n",
    "    'learning_rate': [0.2, 0.3],\n",
    "    'objective': ['binary:hinge'],\n",
    "    'max_depth': [30, 50],\n",
    "    'min_child_weight': [3],\n",
    "}"
   ]
  },
  {
   "cell_type": "markdown",
   "metadata": {},
   "source": [
    "<details><summary><strong>Parameter Tuning Guide<strong></summary>\n",
    "    <br>\n",
    "\n",
    "*booster*\n",
    "* \"gbtree\" uses tree based models\n",
    "\n",
    "*tree_method*\n",
    "* \"hist\" allows for faster computation\n",
    "\n",
    "*scale_pos_weight\n",
    "* Ratio of legitimate transactions to frauds.\n",
    "* This helps the model deal with imbalanced datasets.\n",
    "\n",
    "*learning_rate*\n",
    "* This is the step size shrinkage used in each update.  It prevents overfitting\n",
    "\n",
    "*objective*\n",
    "* \"binary:hinge\" is for binary classification.  A prediction of 0 or 1 is output, rather than producing probabilities\n",
    "\n",
    "*max_depth*\n",
    "* Max number of nodes from root to furthest leaf.\n",
    "* Too large and splits will eventually become less relevant and overfitting will occur.\n",
    "* Too small and we won't be able to model more complex relationships in the data.\n",
    "\n",
    "*min_child_weight*\n",
    "* Min weight or number of samples needed to create a new node.\n",
    "* Too large and our model will not be able to create children to correspond to \n",
    "* Too small and we risk overfitting"
   ]
  },
  {
   "cell_type": "code",
   "execution_count": 19,
   "metadata": {
    "ExecuteTime": {
     "end_time": "2020-10-01T23:14:58.680386Z",
     "start_time": "2020-10-01T23:14:25.977337Z"
    }
   },
   "outputs": [
    {
     "name": "stdout",
     "output_type": "stream",
     "text": [
      "XGB - Original Dataset:\n",
      "Best Test Data F1 score: \t0.86525\n",
      "Best Test Data Recall score: \t0.82432\n",
      "\n",
      "Optimal parameters:\n",
      "\tlearning_rate: 0.2\n",
      "\tmax_depth: 30\n",
      "\tmin_child_weight: 3\n",
      "\tobjective: binary:hinge\n",
      "\n",
      "XGB - SMOTE Dataset:\n",
      "Best Test Data F1 score: \t0.86195\n",
      "Best Test Data Recall score: \t0.86486\n",
      "\n",
      "Optimal parameters:\n",
      "\tlearning_rate: 0.2\n",
      "\tmax_depth: 30\n",
      "\tmin_child_weight: 3\n",
      "\tobjective: binary:hinge\n",
      "\n",
      "XGB - Random Undersampled Dataset:\n",
      "Best Test Data F1 score: \t0.11703\n",
      "Best Test Data Recall score: \t0.89865\n",
      "\n",
      "Optimal parameters:\n",
      "\tlearning_rate: 0.2\n",
      "\tmax_depth: 30\n",
      "\tmin_child_weight: 3\n",
      "\tobjective: binary:hinge\n",
      "\n",
      "XGB - SMOTE and Random Undersampled Dataset:\n",
      "Best Test Data F1 score: \t0.6514\n",
      "Best Test Data Recall score: \t0.86486\n",
      "\n",
      "Optimal parameters:\n",
      "\tlearning_rate: 0.2\n",
      "\tmax_depth: 30\n",
      "\tmin_child_weight: 3\n",
      "\tobjective: binary:hinge\n"
     ]
    }
   ],
   "source": [
    "# XGBoost with Original training data\n",
    "print('XGB - Original Dataset:')\n",
    "# Class weights\n",
    "(y_class, y_train_counts) = np.unique(y_train, return_counts=True) # Value counts for Class 0 and 1\n",
    "clf_xgb.scale_pos_weight = y_train_counts[0] / y_train_counts[1] # Ratio of Class 1: Class 0\n",
    "\n",
    "# Fit model\n",
    "f1_xgb_original, recall_xgb_original, y_pred_xgb_original, y_pred_proba_xgb_original = best_model_score(clf_xgb, \n",
    "                                                                                                        param_grid_xgb, \n",
    "                                                                                                        X_train, \n",
    "                                                                                                        y_train, \n",
    "                                                                                                        X_test, \n",
    "                                                                                                        y_test)\n",
    "\n",
    "\n",
    "# XGBoost with SMOTE training data\n",
    "print('\\nXGB - SMOTE Dataset:')\n",
    "# Class weights\n",
    "(y_class, y_train_smote_counts) = np.unique(y_train_smote, return_counts=True)\n",
    "clf_xgb.scale_pos_weight = y_train_smote_counts[0] / y_train_smote_counts[1]\n",
    "\n",
    "# Fit model\n",
    "f1_xgb_smote, recall_xgb_smote, y_pred_xgb_smote, y_pred_proba_xgb_smote = best_model_score(clf_xgb, \n",
    "                                                                                            param_grid_xgb, \n",
    "                                                                                            X_train_smote, \n",
    "                                                                                            y_train_smote, \n",
    "                                                                                            X_test, \n",
    "                                                                                            y_test)\n",
    "\n",
    "# XGBoost with Random Undersampled training data\n",
    "print('\\nXGB - Random Undersampled Dataset:')\n",
    "# Class weights\n",
    "(y_class, y_train_under_counts) = np.unique(y_train_under, return_counts=True)\n",
    "clf_xgb.scale_pos_weight = y_train_under_counts[0] / y_train_under_counts[1]\n",
    "\n",
    "# Fit model\n",
    "f1_xgb_under, recall_xgb_under, y_pred_xgb_under, y_pred_proba_xgb_under = best_model_score(clf_xgb, \n",
    "                                                                                            param_grid_xgb, \n",
    "                                                                                            X_train_under, \n",
    "                                                                                            y_train_under, \n",
    "                                                                                            X_test, \n",
    "                                                                                            y_test)\n",
    "# XGBoost with SMOTE and Random Undersampled training data\n",
    "print('\\nXGB - SMOTE and Random Undersampled Dataset:')\n",
    "# Class weights\n",
    "(y_class, y_train_smote_under_counts) = np.unique(y_train_smote_under, return_counts=True)\n",
    "clf_xgb.scale_pos_weight = y_train_smote_under_counts[0] / y_train_smote_under_counts[1]\n",
    "\n",
    "# Fit model\n",
    "f1_xgb_smote_under, recall_xgb_smote_under, y_pred_xgb_smote_under, y_pred_proba_xgb_smote_under = best_model_score(clf_xgb, \n",
    "                                                                                                                    param_grid_xgb, \n",
    "                                                                                                                    X_train_smote_under, \n",
    "                                                                                                                    y_train_smote_under, \n",
    "                                                                                                                    X_test, \n",
    "                                                                                                                    y_test)"
   ]
  },
  {
   "cell_type": "code",
   "execution_count": 20,
   "metadata": {
    "ExecuteTime": {
     "end_time": "2020-10-01T23:14:58.829662Z",
     "start_time": "2020-10-01T23:14:58.682767Z"
    }
   },
   "outputs": [],
   "source": [
    "# Update F1 Scores table\n",
    "f1_scores_df.loc['XGBoost'] = [f1_xgb_original, f1_xgb_smote, f1_xgb_under, f1_xgb_smote_under]\n",
    "\n",
    "# Update Recall Scores table\n",
    "recall_scores_df.loc['XGBoost'] = [recall_xgb_original, recall_xgb_smote, recall_xgb_under, recall_xgb_smote_under]\n",
    "\n",
    "# Update Predictions table\n",
    "preds = {'y_pred_xgb_original': y_pred_xgb_original, 'y_pred_xgb_smote':y_pred_xgb_smote, 'y_pred_xgb_under':y_pred_xgb_under, 'y_pred_xgb_smote_under':y_pred_xgb_smote_under}\n",
    "xgb_preds_df = pd.DataFrame(preds)\n",
    "preds_df = preds_df.join(xgb_preds_df)\n",
    "\n",
    "# Update Predictions Probability table\n",
    "preds_proba = {'y_pred_proba_xgb_original': list(y_pred_proba_xgb_original), 'y_pred_proba_xgb_smote': list(y_pred_proba_xgb_smote), 'y_pred_proba_xgb_under': list(y_pred_proba_xgb_under), 'y_pred_proba_xgb_smote_under': list(y_pred_proba_xgb_smote_under)}\n",
    "xgb_preds_proba_df = pd.DataFrame(preds_proba)\n",
    "preds_proba_df = pd.concat([preds_proba_df, xgb_preds_proba_df], axis=1, sort=False)"
   ]
  },
  {
   "cell_type": "markdown",
   "metadata": {},
   "source": [
    "# Save Results Table"
   ]
  },
  {
   "cell_type": "code",
   "execution_count": 51,
   "metadata": {
    "ExecuteTime": {
     "end_time": "2020-10-02T00:09:14.972549Z",
     "start_time": "2020-10-02T00:09:10.564457Z"
    }
   },
   "outputs": [],
   "source": [
    "# Save F1 Scores Table\n",
    "f1_scores_df.to_csv('../data/processed/f1_scores')\n",
    "\n",
    "# Save F1 Scores Table\n",
    "recall_scores_df.to_csv('../data/processed/recall_scores')\n",
    "\n",
    "# Predictions Table\n",
    "preds_df.to_csv('../data/processed/predictions')\n",
    "\n",
    "# # Prediction Probability Table\n",
    "preds_proba_df.to_pickle('../data/processed/predictions_probabilities.pkl')"
   ]
  },
  {
   "cell_type": "code",
   "execution_count": null,
   "metadata": {},
   "outputs": [],
   "source": []
  }
 ],
 "metadata": {
  "kernelspec": {
   "display_name": "Python 3",
   "language": "python",
   "name": "python3"
  },
  "language_info": {
   "codemirror_mode": {
    "name": "ipython",
    "version": 3
   },
   "file_extension": ".py",
   "mimetype": "text/x-python",
   "name": "python",
   "nbconvert_exporter": "python",
   "pygments_lexer": "ipython3",
   "version": "3.7.4"
  },
  "toc": {
   "base_numbering": 1,
   "nav_menu": {},
   "number_sections": true,
   "sideBar": true,
   "skip_h1_title": false,
   "title_cell": "Table of Contents",
   "title_sidebar": "Contents",
   "toc_cell": false,
   "toc_position": {},
   "toc_section_display": true,
   "toc_window_display": false
  },
  "varInspector": {
   "cols": {
    "lenName": 16,
    "lenType": 16,
    "lenVar": 40
   },
   "kernels_config": {
    "python": {
     "delete_cmd_postfix": "",
     "delete_cmd_prefix": "del ",
     "library": "var_list.py",
     "varRefreshCmd": "print(var_dic_list())"
    },
    "r": {
     "delete_cmd_postfix": ") ",
     "delete_cmd_prefix": "rm(",
     "library": "var_list.r",
     "varRefreshCmd": "cat(var_dic_list()) "
    }
   },
   "types_to_exclude": [
    "module",
    "function",
    "builtin_function_or_method",
    "instance",
    "_Feature"
   ],
   "window_display": false
  }
 },
 "nbformat": 4,
 "nbformat_minor": 2
}
